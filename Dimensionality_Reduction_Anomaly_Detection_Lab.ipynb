{
  "nbformat": 4,
  "nbformat_minor": 0,
  "metadata": {
    "colab": {
      "provenance": [],
      "collapsed_sections": [
        "e-UJIyWHaABh",
        "JHx0CBrhX9X9",
        "g0Me8ccNYBhh",
        "GdyudfjBX5QS",
        "GnPjdbqPYcbB"
      ],
      "toc_visible": true,
      "authorship_tag": "ABX9TyMfnXrMEqrUiQmBUP8qJv7m",
      "include_colab_link": true
    },
    "kernelspec": {
      "name": "python3",
      "display_name": "Python 3"
    },
    "language_info": {
      "name": "python"
    }
  },
  "cells": [
    {
      "cell_type": "markdown",
      "metadata": {
        "id": "view-in-github",
        "colab_type": "text"
      },
      "source": [
        "<a href=\"https://colab.research.google.com/github/peeyushsinghal/dimensionality_reduction/blob/main/Dimensionality_Reduction_Anomaly_Detection_Lab.ipynb\" target=\"_parent\"><img src=\"https://colab.research.google.com/assets/colab-badge.svg\" alt=\"Open In Colab\"/></a>"
      ]
    },
    {
      "cell_type": "code",
      "execution_count": null,
      "metadata": {
        "id": "GwlYH6FfLbNE"
      },
      "outputs": [],
      "source": []
    },
    {
      "cell_type": "markdown",
      "source": [
        "## Singular Value Decomposition (using numpy)\n",
        "Objective : For a matrix, decompose the matrix into component matrix (U, V) and singular matrix S. We would take iris dataset (https://en.wikipedia.org/wiki/Iris_flower_data_set).\n",
        "We would use SVD to find a reduced-rank approximation of the data that can be visualized easily.\n",
        "We would use numpy.linalg.svd (https://numpy.org/doc/stable/reference/generated/numpy.linalg.svd.html)\n"
      ],
      "metadata": {
        "id": "5VhrDbN9LhAX"
      }
    },
    {
      "cell_type": "markdown",
      "source": [
        "https://www.cs.cmu.edu/afs/cs.cmu.edu/academic/class/15750-s20/www/notebooks/SVD-irises-clustering.html"
      ],
      "metadata": {
        "id": "GmEfzRI6PsOp"
      }
    },
    {
      "cell_type": "code",
      "source": [
        "# import libraries\n",
        "import numpy as np\n",
        "import matplotlib\n",
        "import matplotlib.pyplot as plt\n",
        "import os\n",
        "import pandas as pd\n",
        "import scipy.stats\n",
        "import sklearn.datasets\n",
        "import sklearn.preprocessing\n",
        "\n",
        "%matplotlib inline\n"
      ],
      "metadata": {
        "id": "ugVkXcFuNhpu"
      },
      "execution_count": 21,
      "outputs": []
    },
    {
      "cell_type": "markdown",
      "source": [
        "### Loading Iris Dataset"
      ],
      "metadata": {
        "id": "2UxzXuSaON_h"
      }
    },
    {
      "cell_type": "code",
      "source": [
        "iris = sklearn.datasets.load_iris()\n",
        "\n",
        "df_iris = pd.DataFrame(iris.data, columns=iris.feature_names)"
      ],
      "metadata": {
        "id": "_h155Vf2ORki"
      },
      "execution_count": 4,
      "outputs": []
    },
    {
      "cell_type": "markdown",
      "source": [
        "The data is multivariate, with 150 measurements of 4 features (length and width cm of both sepal and petal) on 3 distinct Iris species. Of the 150 measurements, there are 50 measurements each for Iris setosa, Iris versicolor, and Iris virginica."
      ],
      "metadata": {
        "id": "kTKgoXU6OmLy"
      }
    },
    {
      "cell_type": "code",
      "source": [
        "# checking dataset\n",
        "print(df_iris.shape)\n",
        "print(df_iris.head(5))\n",
        "print(df_iris.describe())"
      ],
      "metadata": {
        "colab": {
          "base_uri": "https://localhost:8080/"
        },
        "id": "dfzhpas6OepU",
        "outputId": "fbcb77c0-a74c-4ca2-aeb2-7cacdc453c14"
      },
      "execution_count": 5,
      "outputs": [
        {
          "output_type": "stream",
          "name": "stdout",
          "text": [
            "(150, 4)\n",
            "   sepal length (cm)  sepal width (cm)  petal length (cm)  petal width (cm)\n",
            "0                5.1               3.5                1.4               0.2\n",
            "1                4.9               3.0                1.4               0.2\n",
            "2                4.7               3.2                1.3               0.2\n",
            "3                4.6               3.1                1.5               0.2\n",
            "4                5.0               3.6                1.4               0.2\n",
            "       sepal length (cm)  sepal width (cm)  petal length (cm)  \\\n",
            "count         150.000000        150.000000         150.000000   \n",
            "mean            5.843333          3.057333           3.758000   \n",
            "std             0.828066          0.435866           1.765298   \n",
            "min             4.300000          2.000000           1.000000   \n",
            "25%             5.100000          2.800000           1.600000   \n",
            "50%             5.800000          3.000000           4.350000   \n",
            "75%             6.400000          3.300000           5.100000   \n",
            "max             7.900000          4.400000           6.900000   \n",
            "\n",
            "       petal width (cm)  \n",
            "count        150.000000  \n",
            "mean           1.199333  \n",
            "std            0.762238  \n",
            "min            0.100000  \n",
            "25%            0.300000  \n",
            "50%            1.300000  \n",
            "75%            1.800000  \n",
            "max            2.500000  \n"
          ]
        }
      ]
    },
    {
      "cell_type": "markdown",
      "source": [
        "### Performing SVD"
      ],
      "metadata": {
        "id": "KhpBL201PSs8"
      }
    },
    {
      "cell_type": "code",
      "source": [
        "U_iris, S_iris, Vt_iris = np.linalg.svd(df_iris, full_matrices=False) # check the difference between full_matrices = False and True\n",
        "print(U_iris.shape, S_iris.shape, Vt_iris.shape)"
      ],
      "metadata": {
        "colab": {
          "base_uri": "https://localhost:8080/"
        },
        "id": "Hlhh3JNtO4Wq",
        "outputId": "b3046167-d819-44c9-9cdb-125b2e1cce5d"
      },
      "execution_count": 11,
      "outputs": [
        {
          "output_type": "stream",
          "name": "stdout",
          "text": [
            "(150, 4) (4,) (4, 4)\n"
          ]
        }
      ]
    },
    {
      "cell_type": "markdown",
      "source": [
        "U: left-singular vectors\n",
        "The rows of the  U  correspond to the rows of original data matrix  X , while the columns are the set of ordered, orthornormal eigenvectors of  XX⊺ ."
      ],
      "metadata": {
        "id": "z53eYihZPenM"
      }
    },
    {
      "cell_type": "markdown",
      "source": [
        "### Analyzing output of SVD"
      ],
      "metadata": {
        "id": "8MgghDZBYI6n"
      }
    },
    {
      "cell_type": "code",
      "source": [
        "print('matrix U has {} rows, {} columns\\n'.format(*U_iris.shape))\n",
        "print('here are the first 5 rows.')\n",
        "\n",
        "print('{}'.format(pd.DataFrame(U_iris).head(5)))"
      ],
      "metadata": {
        "colab": {
          "base_uri": "https://localhost:8080/"
        },
        "id": "VadZNtYaPYZ_",
        "outputId": "3365dc34-2f19-4912-e3d3-a9fcd43c8162"
      },
      "execution_count": 12,
      "outputs": [
        {
          "output_type": "stream",
          "name": "stdout",
          "text": [
            "matrix U has 150 rows, 4 columns\n",
            "\n",
            "here are the first 5 rows.\n",
            "          0         1         2         3\n",
            "0 -0.061617  0.129611  0.002139  0.001638\n",
            "1 -0.058071  0.111020  0.070672  0.051757\n",
            "2 -0.056763  0.117966  0.004343  0.009557\n",
            "3 -0.056653  0.105308  0.005925 -0.041644\n",
            "4 -0.061230  0.131090 -0.031881 -0.032215\n"
          ]
        }
      ]
    },
    {
      "cell_type": "markdown",
      "source": [
        "V : right-singular vectors of  X \n",
        "numpy.linalg.svd actually returns  V⊺  instead of  V , so it is the columns of  V⊺  that correspond to the columns of original data matrix  X . Hence, the rows are the set of ordered, orthornormal eigenvectors of  X⊺X ."
      ],
      "metadata": {
        "id": "GSh3LWzoWCo2"
      }
    },
    {
      "cell_type": "code",
      "source": [
        "print('matrix Vt has {} rows, {} columns\\n'.format(*Vt_iris.shape))\n",
        "\n",
        "print('{}'.format(pd.DataFrame(Vt_iris).head()))"
      ],
      "metadata": {
        "colab": {
          "base_uri": "https://localhost:8080/"
        },
        "id": "8BE1gpkoXLoW",
        "outputId": "179d6107-6070-4d31-8d78-ece099ee77a0"
      },
      "execution_count": 13,
      "outputs": [
        {
          "output_type": "stream",
          "name": "stdout",
          "text": [
            "matrix Vt has 4 rows, 4 columns\n",
            "\n",
            "          0         1         2         3\n",
            "0 -0.751108 -0.380086 -0.513009 -0.167908\n",
            "1  0.284175  0.546745 -0.708665 -0.343671\n",
            "2  0.502155 -0.675243 -0.059166 -0.537016\n",
            "3  0.320814 -0.317256 -0.480745  0.751872\n"
          ]
        }
      ]
    },
    {
      "cell_type": "markdown",
      "source": [
        "Σ: singular values of  X\n",
        "\n",
        "\n",
        "NOTE: numpy.linalg.svd actually returns a  Σ  that is not a diagonal matrix, but a list of the entries on the diagonal.[link text](https://)"
      ],
      "metadata": {
        "id": "_TqEM-dbXcx_"
      }
    },
    {
      "cell_type": "code",
      "source": [
        "print(S_iris)"
      ],
      "metadata": {
        "colab": {
          "base_uri": "https://localhost:8080/"
        },
        "id": "B2suj5YwXdv0",
        "outputId": "049b9356-e47c-4adb-d7d6-fb967b2f594d"
      },
      "execution_count": 15,
      "outputs": [
        {
          "output_type": "stream",
          "name": "stdout",
          "text": [
            "[95.95991387 17.76103366  3.46093093  1.88482631]\n"
          ]
        }
      ]
    },
    {
      "cell_type": "code",
      "source": [
        "print(S_iris.sum())"
      ],
      "metadata": {
        "colab": {
          "base_uri": "https://localhost:8080/"
        },
        "id": "MXbPoB64XxpF",
        "outputId": "2f813e56-196d-4b42-d055-0bc73ad08307"
      },
      "execution_count": 16,
      "outputs": [
        {
          "output_type": "stream",
          "name": "stdout",
          "text": [
            "119.0667047655981\n"
          ]
        }
      ]
    },
    {
      "cell_type": "markdown",
      "source": [
        "Cumulative Variance\n",
        "\n",
        "Let's have a look at the cumulative variance explained visually as a function of the number of singular values used when reducing rank to find a lower-ranked matrix  X′  to approximate  X . This will inform us as to how many dimensions we should use."
      ],
      "metadata": {
        "id": "bug5F4sNYEwi"
      }
    },
    {
      "cell_type": "code",
      "source": [
        "num_sv_iris = np.arange(1, S_iris.size+1)\n",
        "\n",
        "cum_var_explained_iris = [np.sum(np.square(S_iris[0:n])) / np.sum(np.square(S_iris)) for n in num_sv_iris]"
      ],
      "metadata": {
        "id": "YMQt8rm-YenV"
      },
      "execution_count": 17,
      "outputs": []
    },
    {
      "cell_type": "code",
      "source": [
        "fig = plt.figure(figsize=(7.0,5.5))\n",
        "ax = fig.add_subplot(111)\n",
        "\n",
        "plt.plot(num_sv_iris,\n",
        "         cum_var_explained_iris,\n",
        "         color='#2171b5',\n",
        "         label='variance explained',\n",
        "         alpha=0.65,\n",
        "         zorder=1000)\n",
        "\n",
        "plt.scatter(num_sv_iris,\n",
        "            sklearn.preprocessing.normalize(S_iris.reshape((1,-1))),\n",
        "            color='#fc4e2a',\n",
        "            label='singular values (normalized)',\n",
        "            alpha=0.65,\n",
        "            zorder=1000)\n",
        "\n",
        "plt.legend(loc='center right', scatterpoints=1, fontsize=8)\n",
        "\n",
        "ax.set_xticks(num_sv_iris)\n",
        "ax.set_xlim(0.8, 4.1)\n",
        "ax.set_ylim(0.0, 1.1)\n",
        "ax.set_xlabel(r'Number of singular values used')\n",
        "ax.set_ylabel('Variance in data explained')\n",
        "ax.set_title('Iris dataset: cumulative variance explained & singular values',\n",
        "             fontsize=14,\n",
        "             y=1.03)\n",
        "\n",
        "ax.set_facecolor('0.98')\n",
        "\n",
        "plt.grid(alpha=0.8, zorder=1)\n",
        "plt.tight_layout()\n",
        "plt.show()"
      ],
      "metadata": {
        "colab": {
          "base_uri": "https://localhost:8080/",
          "height": 406
        },
        "id": "qb1N9TU9Yhkg",
        "outputId": "4fb6b0a6-018a-4bdd-e723-d0c331c34982"
      },
      "execution_count": 22,
      "outputs": [
        {
          "output_type": "display_data",
          "data": {
            "text/plain": [
              "<Figure size 504x396 with 1 Axes>"
            ],
            "image/png": "[encoded data removed]"
          },
          "metadata": {
            "needs_background": "light"
          }
        }
      ]
    },
    {
      "cell_type": "markdown",
      "source": [],
      "metadata": {
        "id": "1vRc06V3ZHER"
      }
    },
    {
      "cell_type": "markdown",
      "source": [
        "### Dimension reduction\n",
        "Judging from the curve representing cumulative variance explained in the figure above, we can see that\n",
        "\n",
        "with 1 singular value, about 96.5% of the variance of  X  can be explained\n",
        "with 2 singular values, that number goes up to approximately 99.8%\n",
        "Since graphing the Iris dataset in 1D wouldn't be all that interesting (just dots on a line segment), let's try using the first 2 singular values to represent the data on the  x - and  y -axes, respectively."
      ],
      "metadata": {
        "id": "4iHR6bcHY-PA"
      }
    },
    {
      "cell_type": "code",
      "source": [
        "# the iris.target gives the actual labels for the data points\n",
        "# we're just selecting the locations corresponding to data points labeled 0,1,2 resp\n",
        "# then we can plot those using different colors.\n",
        "\n",
        "idx_setosa = np.where(iris.target==0)[0]\n",
        "idx_versicolor = np.where(iris.target==1)[0]\n",
        "idx_virginica = np.where(iris.target==2)[0]\n",
        "\n",
        "setosa_x = U_iris[idx_setosa, 0]\n",
        "setosa_y = U_iris[idx_setosa, 1]\n",
        "\n",
        "print(setosa_x.shape)\n",
        "\n",
        "versicolor_x = U_iris[idx_versicolor, 0]\n",
        "versicolor_y = U_iris[idx_versicolor, 1]\n",
        "\n",
        "virginica_x = U_iris[idx_virginica, 0]\n",
        "virginica_y = U_iris[idx_virginica, 1]"
      ],
      "metadata": {
        "colab": {
          "base_uri": "https://localhost:8080/"
        },
        "id": "gg2TTCFjZJTz",
        "outputId": "67ecfe0b-5f96-4d8d-8180-1c1c254a89a4"
      },
      "execution_count": 23,
      "outputs": [
        {
          "output_type": "stream",
          "name": "stdout",
          "text": [
            "(50,)\n"
          ]
        }
      ]
    },
    {
      "cell_type": "code",
      "source": [
        "# 1 D plot\n",
        "fig = plt.figure(figsize=(7.0,5.5))\n",
        "ax = fig.add_subplot(111)\n",
        "\n",
        "plt.scatter(setosa_x,\n",
        "            setosa_x,\n",
        "            marker='o',\n",
        "            color='#66c2a5',\n",
        "            label='Iris-setosa',\n",
        "            zorder=1000)\n",
        "\n",
        "plt.scatter(versicolor_x,\n",
        "            versicolor_x,\n",
        "            marker='D',\n",
        "            color='#fc8d62',\n",
        "            label='Iris-versicolor',\n",
        "            zorder=1000)\n",
        "\n",
        "plt.scatter(virginica_x,\n",
        "            virginica_x,\n",
        "            marker='^',\n",
        "            color='#8da0cb',\n",
        "            label='Iris-virginica',\n",
        "            zorder=1000)\n",
        "\n",
        "plt.legend(loc='upper left', scatterpoints=1, fontsize=8)\n",
        "\n",
        "ax.set_xlabel(r'singular value $\\sigma_{1}$')\n",
        "ax.set_ylabel(r'singular value $\\sigma_{2}$')\n",
        "ax.set_title('2D plot of Iris dataset',\n",
        "             fontsize=14,\n",
        "             y=1.03)\n",
        "ax.set_facecolor('0.98')\n",
        "\n",
        "plt.grid(alpha=0.6, zorder=1)\n",
        "plt.tight_layout()"
      ],
      "metadata": {
        "colab": {
          "base_uri": "https://localhost:8080/",
          "height": 406
        },
        "id": "71i2MXumZNVr",
        "outputId": "b890a051-1763-45a6-d069-b49f8648dccf"
      },
      "execution_count": 24,
      "outputs": [
        {
          "output_type": "display_data",
          "data": {
            "text/plain": [
              "<Figure size 504x396 with 1 Axes>"
            ],
            "image/png": "[encoded data removed]"
          },
          "metadata": {
            "needs_background": "light"
          }
        }
      ]
    },
    {
      "cell_type": "code",
      "source": [
        "# 2D plot\n",
        "fig = plt.figure(figsize=(7.0,5.5))\n",
        "ax = fig.add_subplot(111)\n",
        "\n",
        "plt.scatter(setosa_x,\n",
        "            setosa_y,\n",
        "            marker='o',\n",
        "            color='#66c2a5',\n",
        "            label='Iris-setosa',\n",
        "            zorder=1000)\n",
        "\n",
        "plt.scatter(versicolor_x,\n",
        "            versicolor_y,\n",
        "            marker='D',\n",
        "            color='#fc8d62',\n",
        "            label='Iris-versicolor',\n",
        "            zorder=1000)\n",
        "\n",
        "plt.scatter(virginica_x,\n",
        "            virginica_y,\n",
        "            marker='^',\n",
        "            color='#8da0cb',\n",
        "            label='Iris-virginica',\n",
        "            zorder=1000)\n",
        "\n",
        "plt.legend(loc='upper left', scatterpoints=1, fontsize=8)\n",
        "\n",
        "ax.set_xlabel(r'singular value $\\sigma_{1}$')\n",
        "ax.set_ylabel(r'singular value $\\sigma_{2}$')\n",
        "ax.set_title('2D plot of Iris dataset',\n",
        "             fontsize=14,\n",
        "             y=1.03)\n",
        "ax.set_facecolor('0.98')\n",
        "\n",
        "plt.grid(alpha=0.6, zorder=1)\n",
        "plt.tight_layout()"
      ],
      "metadata": {
        "colab": {
          "base_uri": "https://localhost:8080/",
          "height": 406
        },
        "id": "XRoA3z6iZV3k",
        "outputId": "204d0161-4a30-4685-f241-092b76cc0462"
      },
      "execution_count": 25,
      "outputs": [
        {
          "output_type": "display_data",
          "data": {
            "text/plain": [
              "<Figure size 504x396 with 1 Axes>"
            ],
            "image/png": "[encoded data removed]"
          },
          "metadata": {
            "needs_background": "light"
          }
        }
      ]
    },
    {
      "cell_type": "markdown",
      "source": [
        "# Latent Discriminant Analysis (LDA)\n",
        "LDA using scikit-learn"
      ],
      "metadata": {
        "id": "e-UJIyWHaABh"
      }
    },
    {
      "cell_type": "code",
      "source": [
        "# Importing Libraries\n",
        "import numpy as np\n",
        "import pandas as pd\n",
        "import sklearn.datasets\n"
      ],
      "metadata": {
        "id": "alDwMK20Vtw1"
      },
      "execution_count": 6,
      "outputs": []
    },
    {
      "cell_type": "markdown",
      "source": [
        "### Loading Iris Dataset"
      ],
      "metadata": {
        "id": "JHx0CBrhX9X9"
      }
    },
    {
      "cell_type": "code",
      "source": [
        "iris = sklearn.datasets.load_iris()\n",
        "df_iris = pd.DataFrame(iris.data, columns=iris.feature_names)"
      ],
      "metadata": {
        "id": "INe8wtAUV1Qj"
      },
      "execution_count": 7,
      "outputs": []
    },
    {
      "cell_type": "code",
      "source": [
        "print(df_iris)"
      ],
      "metadata": {
        "colab": {
          "base_uri": "https://localhost:8080/"
        },
        "id": "79LAK7RSWFhU",
        "outputId": "a0128f04-d15b-4df4-930c-66e266dba9ec"
      },
      "execution_count": 13,
      "outputs": [
        {
          "output_type": "stream",
          "name": "stdout",
          "text": [
            "     sepal length (cm)  sepal width (cm)  petal length (cm)  petal width (cm)\n",
            "0                  5.1               3.5                1.4               0.2\n",
            "1                  4.9               3.0                1.4               0.2\n",
            "2                  4.7               3.2                1.3               0.2\n",
            "3                  4.6               3.1                1.5               0.2\n",
            "4                  5.0               3.6                1.4               0.2\n",
            "..                 ...               ...                ...               ...\n",
            "145                6.7               3.0                5.2               2.3\n",
            "146                6.3               2.5                5.0               1.9\n",
            "147                6.5               3.0                5.2               2.0\n",
            "148                6.2               3.4                5.4               2.3\n",
            "149                5.9               3.0                5.1               1.8\n",
            "\n",
            "[150 rows x 4 columns]\n"
          ]
        }
      ]
    },
    {
      "cell_type": "markdown",
      "source": [
        "### Data Preprocessing"
      ],
      "metadata": {
        "id": "g0Me8ccNYBhh"
      }
    },
    {
      "cell_type": "code",
      "source": [
        "len(iris.target)"
      ],
      "metadata": {
        "colab": {
          "base_uri": "https://localhost:8080/"
        },
        "id": "bUpHPbHCWNJj",
        "outputId": "4cfe2bd2-ea0d-4182-dc11-4b94fc1b54fe"
      },
      "execution_count": 11,
      "outputs": [
        {
          "output_type": "execute_result",
          "data": {
            "text/plain": [
              "150"
            ]
          },
          "metadata": {},
          "execution_count": 11
        }
      ]
    },
    {
      "cell_type": "code",
      "source": [
        "dct = {'0':'setosa', '1':'versicolor','2':'virginica'}\n",
        "list_iris = [dct[str(k)] for k in iris.target]\n",
        "list_iris"
      ],
      "metadata": {
        "id": "odirw-dFWjsL"
      },
      "execution_count": null,
      "outputs": []
    },
    {
      "cell_type": "code",
      "source": [
        "df_iris['Class'] = list_iris\n",
        "df_iris"
      ],
      "metadata": {
        "colab": {
          "base_uri": "https://localhost:8080/",
          "height": 423
        },
        "id": "hRLYcJXxXpTy",
        "outputId": "f1b83a23-d416-434e-cc93-1da4baf22d8a"
      },
      "execution_count": 16,
      "outputs": [
        {
          "output_type": "execute_result",
          "data": {
            "text/plain": [
              "     sepal length (cm)  sepal width (cm)  petal length (cm)  petal width (cm)  \\\n",
              "0                  5.1               3.5                1.4               0.2   \n",
              "1                  4.9               3.0                1.4               0.2   \n",
              "2                  4.7               3.2                1.3               0.2   \n",
              "3                  4.6               3.1                1.5               0.2   \n",
              "4                  5.0               3.6                1.4               0.2   \n",
              "..                 ...               ...                ...               ...   \n",
              "145                6.7               3.0                5.2               2.3   \n",
              "146                6.3               2.5                5.0               1.9   \n",
              "147                6.5               3.0                5.2               2.0   \n",
              "148                6.2               3.4                5.4               2.3   \n",
              "149                5.9               3.0                5.1               1.8   \n",
              "\n",
              "         Class  \n",
              "0       setosa  \n",
              "1       setosa  \n",
              "2       setosa  \n",
              "3       setosa  \n",
              "4       setosa  \n",
              "..         ...  \n",
              "145  virginica  \n",
              "146  virginica  \n",
              "147  virginica  \n",
              "148  virginica  \n",
              "149  virginica  \n",
              "\n",
              "[150 rows x 5 columns]"
            ],
            "text/html": [
              "\n",
              "  <div id=\"df-4c0c9fe5-6556-4bab-9938-d08472f36a33\">\n",
              "    <div class=\"colab-df-container\">\n",
              "      <div>\n",
              "<style scoped>\n",
              "    .dataframe tbody tr th:only-of-type {\n",
              "        vertical-align: middle;\n",
              "    }\n",
              "\n",
              "    .dataframe tbody tr th {\n",
              "        vertical-align: top;\n",
              "    }\n",
              "\n",
              "    .dataframe thead th {\n",
              "        text-align: right;\n",
              "    }\n",
              "</style>\n",
              "<table border=\"1\" class=\"dataframe\">\n",
              "  <thead>\n",
              "    <tr style=\"text-align: right;\">\n",
              "      <th></th>\n",
              "      <th>sepal length (cm)</th>\n",
              "      <th>sepal width (cm)</th>\n",
              "      <th>petal length (cm)</th>\n",
              "      <th>petal width (cm)</th>\n",
              "      <th>Class</th>\n",
              "    </tr>\n",
              "  </thead>\n",
              "  <tbody>\n",
              "    <tr>\n",
              "      <th>0</th>\n",
              "      <td>5.1</td>\n",
              "      <td>3.5</td>\n",
              "      <td>1.4</td>\n",
              "      <td>0.2</td>\n",
              "      <td>setosa</td>\n",
              "    </tr>\n",
              "    <tr>\n",
              "      <th>1</th>\n",
              "      <td>4.9</td>\n",
              "      <td>3.0</td>\n",
              "      <td>1.4</td>\n",
              "      <td>0.2</td>\n",
              "      <td>setosa</td>\n",
              "    </tr>\n",
              "    <tr>\n",
              "      <th>2</th>\n",
              "      <td>4.7</td>\n",
              "      <td>3.2</td>\n",
              "      <td>1.3</td>\n",
              "      <td>0.2</td>\n",
              "      <td>setosa</td>\n",
              "    </tr>\n",
              "    <tr>\n",
              "      <th>3</th>\n",
              "      <td>4.6</td>\n",
              "      <td>3.1</td>\n",
              "      <td>1.5</td>\n",
              "      <td>0.2</td>\n",
              "      <td>setosa</td>\n",
              "    </tr>\n",
              "    <tr>\n",
              "      <th>4</th>\n",
              "      <td>5.0</td>\n",
              "      <td>3.6</td>\n",
              "      <td>1.4</td>\n",
              "      <td>0.2</td>\n",
              "      <td>setosa</td>\n",
              "    </tr>\n",
              "    <tr>\n",
              "      <th>...</th>\n",
              "      <td>...</td>\n",
              "      <td>...</td>\n",
              "      <td>...</td>\n",
              "      <td>...</td>\n",
              "      <td>...</td>\n",
              "    </tr>\n",
              "    <tr>\n",
              "      <th>145</th>\n",
              "      <td>6.7</td>\n",
              "      <td>3.0</td>\n",
              "      <td>5.2</td>\n",
              "      <td>2.3</td>\n",
              "      <td>virginica</td>\n",
              "    </tr>\n",
              "    <tr>\n",
              "      <th>146</th>\n",
              "      <td>6.3</td>\n",
              "      <td>2.5</td>\n",
              "      <td>5.0</td>\n",
              "      <td>1.9</td>\n",
              "      <td>virginica</td>\n",
              "    </tr>\n",
              "    <tr>\n",
              "      <th>147</th>\n",
              "      <td>6.5</td>\n",
              "      <td>3.0</td>\n",
              "      <td>5.2</td>\n",
              "      <td>2.0</td>\n",
              "      <td>virginica</td>\n",
              "    </tr>\n",
              "    <tr>\n",
              "      <th>148</th>\n",
              "      <td>6.2</td>\n",
              "      <td>3.4</td>\n",
              "      <td>5.4</td>\n",
              "      <td>2.3</td>\n",
              "      <td>virginica</td>\n",
              "    </tr>\n",
              "    <tr>\n",
              "      <th>149</th>\n",
              "      <td>5.9</td>\n",
              "      <td>3.0</td>\n",
              "      <td>5.1</td>\n",
              "      <td>1.8</td>\n",
              "      <td>virginica</td>\n",
              "    </tr>\n",
              "  </tbody>\n",
              "</table>\n",
              "<p>150 rows × 5 columns</p>\n",
              "</div>\n",
              "      <button class=\"colab-df-convert\" onclick=\"convertToInteractive('df-4c0c9fe5-6556-4bab-9938-d08472f36a33')\"\n",
              "              title=\"Convert this dataframe to an interactive table.\"\n",
              "              style=\"display:none;\">\n",
              "        \n",
              "  <svg xmlns=\"http://www.w3.org/2000/svg\" height=\"24px\"viewBox=\"0 0 24 24\"\n",
              "       width=\"24px\">\n",
              "    <path d=\"M0 0h24v24H0V0z\" fill=\"none\"/>\n",
              "    <path d=\"M18.56 5.44l.94 2.06.94-2.06 2.06-.94-2.06-.94-.94-2.06-.94 2.06-2.06.94zm-11 1L8.5 8.5l.94-2.06 2.06-.94-2.06-.94L8.5 2.5l-.94 2.06-2.06.94zm10 10l.94 2.06.94-2.06 2.06-.94-2.06-.94-.94-2.06-.94 2.06-2.06.94z\"/><path d=\"M17.41 7.96l-1.37-1.37c-.4-.4-.92-.59-1.43-.59-.52 0-1.04.2-1.43.59L10.3 9.45l-7.72 7.72c-.78.78-.78 2.05 0 2.83L4 21.41c.39.39.9.59 1.41.59.51 0 1.02-.2 1.41-.59l7.78-7.78 2.81-2.81c.8-.78.8-2.07 0-2.86zM5.41 20L4 18.59l7.72-7.72 1.47 1.35L5.41 20z\"/>\n",
              "  </svg>\n",
              "      </button>\n",
              "      \n",
              "  <style>\n",
              "    .colab-df-container {\n",
              "      display:flex;\n",
              "      flex-wrap:wrap;\n",
              "      gap: 12px;\n",
              "    }\n",
              "\n",
              "    .colab-df-convert {\n",
              "      background-color: #E8F0FE;\n",
              "      border: none;\n",
              "      border-radius: 50%;\n",
              "      cursor: pointer;\n",
              "      display: none;\n",
              "      fill: #1967D2;\n",
              "      height: 32px;\n",
              "      padding: 0 0 0 0;\n",
              "      width: 32px;\n",
              "    }\n",
              "\n",
              "    .colab-df-convert:hover {\n",
              "      background-color: #E2EBFA;\n",
              "      box-shadow: 0px 1px 2px rgba(60, 64, 67, 0.3), 0px 1px 3px 1px rgba(60, 64, 67, 0.15);\n",
              "      fill: #174EA6;\n",
              "    }\n",
              "\n",
              "    [theme=dark] .colab-df-convert {\n",
              "      background-color: #3B4455;\n",
              "      fill: #D2E3FC;\n",
              "    }\n",
              "\n",
              "    [theme=dark] .colab-df-convert:hover {\n",
              "      background-color: #434B5C;\n",
              "      box-shadow: 0px 1px 3px 1px rgba(0, 0, 0, 0.15);\n",
              "      filter: drop-shadow(0px 1px 2px rgba(0, 0, 0, 0.3));\n",
              "      fill: #FFFFFF;\n",
              "    }\n",
              "  </style>\n",
              "\n",
              "      <script>\n",
              "        const buttonEl =\n",
              "          document.querySelector('#df-4c0c9fe5-6556-4bab-9938-d08472f36a33 button.colab-df-convert');\n",
              "        buttonEl.style.display =\n",
              "          google.colab.kernel.accessAllowed ? 'block' : 'none';\n",
              "\n",
              "        async function convertToInteractive(key) {\n",
              "          const element = document.querySelector('#df-4c0c9fe5-6556-4bab-9938-d08472f36a33');\n",
              "          const dataTable =\n",
              "            await google.colab.kernel.invokeFunction('convertToInteractive',\n",
              "                                                     [key], {});\n",
              "          if (!dataTable) return;\n",
              "\n",
              "          const docLinkHtml = 'Like what you see? Visit the ' +\n",
              "            '<a target=\"_blank\" href=https://colab.research.google.com/notebooks/data_table.ipynb>data table notebook</a>'\n",
              "            + ' to learn more about interactive tables.';\n",
              "          element.innerHTML = '';\n",
              "          dataTable['output_type'] = 'display_data';\n",
              "          await google.colab.output.renderOutput(dataTable, element);\n",
              "          const docLink = document.createElement('div');\n",
              "          docLink.innerHTML = docLinkHtml;\n",
              "          element.appendChild(docLink);\n",
              "        }\n",
              "      </script>\n",
              "    </div>\n",
              "  </div>\n",
              "  "
            ]
          },
          "metadata": {},
          "execution_count": 16
        }
      ]
    },
    {
      "cell_type": "markdown",
      "source": [
        "### Test-Train split"
      ],
      "metadata": {
        "id": "GdyudfjBX5QS"
      }
    },
    {
      "cell_type": "code",
      "source": [
        "X = df_iris.iloc[:, 0:4].values\n",
        "y = df_iris.iloc[:, 4].values"
      ],
      "metadata": {
        "id": "kWJ2alFHX2SP"
      },
      "execution_count": 17,
      "outputs": []
    },
    {
      "cell_type": "code",
      "source": [
        "# Test Train split\n",
        "from sklearn.model_selection import train_test_split\n",
        "\n",
        "X_train, X_test, y_train, y_test = train_test_split(X, y, test_size=0.2, random_state=0)"
      ],
      "metadata": {
        "id": "pItI-OhwYRl1"
      },
      "execution_count": 18,
      "outputs": []
    },
    {
      "cell_type": "code",
      "source": [
        "# Feature Scaling \n",
        "from sklearn.preprocessing import StandardScaler\n",
        "\n",
        "sc = StandardScaler()\n",
        "X_train = sc.fit_transform(X_train)\n",
        "X_test = sc.transform(X_test)"
      ],
      "metadata": {
        "id": "nybreMcqYTBW"
      },
      "execution_count": 19,
      "outputs": []
    },
    {
      "cell_type": "code",
      "source": [
        "import matplotlib.pyplot as plt\n",
        "markers = ['s','x','o']\n",
        "colors = ['r','g','b']\n",
        "\n",
        "fig = plt.figure(figsize=(10,10))\n",
        "ax0 = fig.add_subplot(111)\n",
        "\n",
        "for l,m,c in zip(np.unique(y_train),markers,colors):\n",
        "  ax0.scatter(X_train[:,0][y_train==l],X_train[:,1][y_train==l],c=c,marker=m)"
      ],
      "metadata": {
        "colab": {
          "base_uri": "https://localhost:8080/",
          "height": 592
        },
        "id": "J9ARm5cQYVpd",
        "outputId": "1b2c6c63-1a0a-41d6-84ad-d558741af9e5"
      },
      "execution_count": 20,
      "outputs": [
        {
          "output_type": "display_data",
          "data": {
            "text/plain": [
              "<Figure size 720x720 with 1 Axes>"
            ],
            "image/png": "[encoded data removed]"
          },
          "metadata": {
            "needs_background": "light"
          }
        }
      ]
    },
    {
      "cell_type": "markdown",
      "source": [
        "### Performing LDA"
      ],
      "metadata": {
        "id": "GnPjdbqPYcbB"
      }
    },
    {
      "cell_type": "code",
      "source": [
        "# LDA\n",
        "from sklearn.discriminant_analysis import LinearDiscriminantAnalysis as LDA\n",
        "\n",
        "lda = LDA(n_components=2)\n",
        "X_train_post_lda = lda.fit_transform(X_train, y_train)\n",
        "X_test_post_lda = lda.transform(X_test)"
      ],
      "metadata": {
        "id": "rwy-3FkLYbDG"
      },
      "execution_count": 21,
      "outputs": []
    },
    {
      "cell_type": "code",
      "source": [
        "# Visualizing LDA \n",
        "fig = plt.figure(figsize=(10,10))\n",
        "ax0 = fig.add_subplot(111)\n",
        "\n",
        "for l,m,c in zip(np.unique(y_train),markers,colors):\n",
        "  ax0.scatter(X_train_post_lda[:,0][y_train==l],X_train_post_lda[:,1][y_train==l],c=c,marker=m)"
      ],
      "metadata": {
        "colab": {
          "base_uri": "https://localhost:8080/",
          "height": 592
        },
        "id": "pI71fTOWYj1t",
        "outputId": "9afcc9e8-1305-4f5d-cea5-feaf67d10467"
      },
      "execution_count": 22,
      "outputs": [
        {
          "output_type": "display_data",
          "data": {
            "text/plain": [
              "<Figure size 720x720 with 1 Axes>"
            ],
            "image/png": "[encoded data removed]"
          },
          "metadata": {
            "needs_background": "light"
          }
        }
      ]
    },
    {
      "cell_type": "markdown",
      "source": [
        "# t-SNE"
      ],
      "metadata": {
        "id": "HWHPZ9qSb8x4"
      }
    },
    {
      "cell_type": "code",
      "source": [
        "#Loading libraries\n",
        "from sklearn.manifold import TSNE\n",
        "from sklearn.datasets import load_iris\n",
        "import numpy as np\n",
        "import seaborn as sns\n",
        "import pandas as pd  "
      ],
      "metadata": {
        "id": "CBhI2gGkdWci"
      },
      "execution_count": 27,
      "outputs": []
    },
    {
      "cell_type": "markdown",
      "source": [
        "### Loading Iris Dataset"
      ],
      "metadata": {
        "id": "EPdHjwdLcl6J"
      }
    },
    {
      "cell_type": "code",
      "source": [
        "iris = sklearn.datasets.load_iris()\n",
        "df_iris = pd.DataFrame(iris.data, columns=iris.feature_names)\n",
        "dct = {'0':'setosa', '1':'versicolor','2':'virginica'}\n",
        "list_iris = [dct[str(k)] for k in iris.target]\n",
        "df_iris['Class'] = list_iris\n",
        "df_iris"
      ],
      "metadata": {
        "colab": {
          "base_uri": "https://localhost:8080/",
          "height": 423
        },
        "id": "9yBdTx6vcpNm",
        "outputId": "7068c9f4-1705-416a-cf8a-b75d46aeeb88"
      },
      "execution_count": 23,
      "outputs": [
        {
          "output_type": "execute_result",
          "data": {
            "text/plain": [
              "     sepal length (cm)  sepal width (cm)  petal length (cm)  petal width (cm)  \\\n",
              "0                  5.1               3.5                1.4               0.2   \n",
              "1                  4.9               3.0                1.4               0.2   \n",
              "2                  4.7               3.2                1.3               0.2   \n",
              "3                  4.6               3.1                1.5               0.2   \n",
              "4                  5.0               3.6                1.4               0.2   \n",
              "..                 ...               ...                ...               ...   \n",
              "145                6.7               3.0                5.2               2.3   \n",
              "146                6.3               2.5                5.0               1.9   \n",
              "147                6.5               3.0                5.2               2.0   \n",
              "148                6.2               3.4                5.4               2.3   \n",
              "149                5.9               3.0                5.1               1.8   \n",
              "\n",
              "         Class  \n",
              "0       setosa  \n",
              "1       setosa  \n",
              "2       setosa  \n",
              "3       setosa  \n",
              "4       setosa  \n",
              "..         ...  \n",
              "145  virginica  \n",
              "146  virginica  \n",
              "147  virginica  \n",
              "148  virginica  \n",
              "149  virginica  \n",
              "\n",
              "[150 rows x 5 columns]"
            ],
            "text/html": [
              "\n",
              "  <div id=\"df-bf320f32-339a-4956-a6a6-9e1c9316df72\">\n",
              "    <div class=\"colab-df-container\">\n",
              "      <div>\n",
              "<style scoped>\n",
              "    .dataframe tbody tr th:only-of-type {\n",
              "        vertical-align: middle;\n",
              "    }\n",
              "\n",
              "    .dataframe tbody tr th {\n",
              "        vertical-align: top;\n",
              "    }\n",
              "\n",
              "    .dataframe thead th {\n",
              "        text-align: right;\n",
              "    }\n",
              "</style>\n",
              "<table border=\"1\" class=\"dataframe\">\n",
              "  <thead>\n",
              "    <tr style=\"text-align: right;\">\n",
              "      <th></th>\n",
              "      <th>sepal length (cm)</th>\n",
              "      <th>sepal width (cm)</th>\n",
              "      <th>petal length (cm)</th>\n",
              "      <th>petal width (cm)</th>\n",
              "      <th>Class</th>\n",
              "    </tr>\n",
              "  </thead>\n",
              "  <tbody>\n",
              "    <tr>\n",
              "      <th>0</th>\n",
              "      <td>5.1</td>\n",
              "      <td>3.5</td>\n",
              "      <td>1.4</td>\n",
              "      <td>0.2</td>\n",
              "      <td>setosa</td>\n",
              "    </tr>\n",
              "    <tr>\n",
              "      <th>1</th>\n",
              "      <td>4.9</td>\n",
              "      <td>3.0</td>\n",
              "      <td>1.4</td>\n",
              "      <td>0.2</td>\n",
              "      <td>setosa</td>\n",
              "    </tr>\n",
              "    <tr>\n",
              "      <th>2</th>\n",
              "      <td>4.7</td>\n",
              "      <td>3.2</td>\n",
              "      <td>1.3</td>\n",
              "      <td>0.2</td>\n",
              "      <td>setosa</td>\n",
              "    </tr>\n",
              "    <tr>\n",
              "      <th>3</th>\n",
              "      <td>4.6</td>\n",
              "      <td>3.1</td>\n",
              "      <td>1.5</td>\n",
              "      <td>0.2</td>\n",
              "      <td>setosa</td>\n",
              "    </tr>\n",
              "    <tr>\n",
              "      <th>4</th>\n",
              "      <td>5.0</td>\n",
              "      <td>3.6</td>\n",
              "      <td>1.4</td>\n",
              "      <td>0.2</td>\n",
              "      <td>setosa</td>\n",
              "    </tr>\n",
              "    <tr>\n",
              "      <th>...</th>\n",
              "      <td>...</td>\n",
              "      <td>...</td>\n",
              "      <td>...</td>\n",
              "      <td>...</td>\n",
              "      <td>...</td>\n",
              "    </tr>\n",
              "    <tr>\n",
              "      <th>145</th>\n",
              "      <td>6.7</td>\n",
              "      <td>3.0</td>\n",
              "      <td>5.2</td>\n",
              "      <td>2.3</td>\n",
              "      <td>virginica</td>\n",
              "    </tr>\n",
              "    <tr>\n",
              "      <th>146</th>\n",
              "      <td>6.3</td>\n",
              "      <td>2.5</td>\n",
              "      <td>5.0</td>\n",
              "      <td>1.9</td>\n",
              "      <td>virginica</td>\n",
              "    </tr>\n",
              "    <tr>\n",
              "      <th>147</th>\n",
              "      <td>6.5</td>\n",
              "      <td>3.0</td>\n",
              "      <td>5.2</td>\n",
              "      <td>2.0</td>\n",
              "      <td>virginica</td>\n",
              "    </tr>\n",
              "    <tr>\n",
              "      <th>148</th>\n",
              "      <td>6.2</td>\n",
              "      <td>3.4</td>\n",
              "      <td>5.4</td>\n",
              "      <td>2.3</td>\n",
              "      <td>virginica</td>\n",
              "    </tr>\n",
              "    <tr>\n",
              "      <th>149</th>\n",
              "      <td>5.9</td>\n",
              "      <td>3.0</td>\n",
              "      <td>5.1</td>\n",
              "      <td>1.8</td>\n",
              "      <td>virginica</td>\n",
              "    </tr>\n",
              "  </tbody>\n",
              "</table>\n",
              "<p>150 rows × 5 columns</p>\n",
              "</div>\n",
              "      <button class=\"colab-df-convert\" onclick=\"convertToInteractive('df-bf320f32-339a-4956-a6a6-9e1c9316df72')\"\n",
              "              title=\"Convert this dataframe to an interactive table.\"\n",
              "              style=\"display:none;\">\n",
              "        \n",
              "  <svg xmlns=\"http://www.w3.org/2000/svg\" height=\"24px\"viewBox=\"0 0 24 24\"\n",
              "       width=\"24px\">\n",
              "    <path d=\"M0 0h24v24H0V0z\" fill=\"none\"/>\n",
              "    <path d=\"M18.56 5.44l.94 2.06.94-2.06 2.06-.94-2.06-.94-.94-2.06-.94 2.06-2.06.94zm-11 1L8.5 8.5l.94-2.06 2.06-.94-2.06-.94L8.5 2.5l-.94 2.06-2.06.94zm10 10l.94 2.06.94-2.06 2.06-.94-2.06-.94-.94-2.06-.94 2.06-2.06.94z\"/><path d=\"M17.41 7.96l-1.37-1.37c-.4-.4-.92-.59-1.43-.59-.52 0-1.04.2-1.43.59L10.3 9.45l-7.72 7.72c-.78.78-.78 2.05 0 2.83L4 21.41c.39.39.9.59 1.41.59.51 0 1.02-.2 1.41-.59l7.78-7.78 2.81-2.81c.8-.78.8-2.07 0-2.86zM5.41 20L4 18.59l7.72-7.72 1.47 1.35L5.41 20z\"/>\n",
              "  </svg>\n",
              "      </button>\n",
              "      \n",
              "  <style>\n",
              "    .colab-df-container {\n",
              "      display:flex;\n",
              "      flex-wrap:wrap;\n",
              "      gap: 12px;\n",
              "    }\n",
              "\n",
              "    .colab-df-convert {\n",
              "      background-color: #E8F0FE;\n",
              "      border: none;\n",
              "      border-radius: 50%;\n",
              "      cursor: pointer;\n",
              "      display: none;\n",
              "      fill: #1967D2;\n",
              "      height: 32px;\n",
              "      padding: 0 0 0 0;\n",
              "      width: 32px;\n",
              "    }\n",
              "\n",
              "    .colab-df-convert:hover {\n",
              "      background-color: #E2EBFA;\n",
              "      box-shadow: 0px 1px 2px rgba(60, 64, 67, 0.3), 0px 1px 3px 1px rgba(60, 64, 67, 0.15);\n",
              "      fill: #174EA6;\n",
              "    }\n",
              "\n",
              "    [theme=dark] .colab-df-convert {\n",
              "      background-color: #3B4455;\n",
              "      fill: #D2E3FC;\n",
              "    }\n",
              "\n",
              "    [theme=dark] .colab-df-convert:hover {\n",
              "      background-color: #434B5C;\n",
              "      box-shadow: 0px 1px 3px 1px rgba(0, 0, 0, 0.15);\n",
              "      filter: drop-shadow(0px 1px 2px rgba(0, 0, 0, 0.3));\n",
              "      fill: #FFFFFF;\n",
              "    }\n",
              "  </style>\n",
              "\n",
              "      <script>\n",
              "        const buttonEl =\n",
              "          document.querySelector('#df-bf320f32-339a-4956-a6a6-9e1c9316df72 button.colab-df-convert');\n",
              "        buttonEl.style.display =\n",
              "          google.colab.kernel.accessAllowed ? 'block' : 'none';\n",
              "\n",
              "        async function convertToInteractive(key) {\n",
              "          const element = document.querySelector('#df-bf320f32-339a-4956-a6a6-9e1c9316df72');\n",
              "          const dataTable =\n",
              "            await google.colab.kernel.invokeFunction('convertToInteractive',\n",
              "                                                     [key], {});\n",
              "          if (!dataTable) return;\n",
              "\n",
              "          const docLinkHtml = 'Like what you see? Visit the ' +\n",
              "            '<a target=\"_blank\" href=https://colab.research.google.com/notebooks/data_table.ipynb>data table notebook</a>'\n",
              "            + ' to learn more about interactive tables.';\n",
              "          element.innerHTML = '';\n",
              "          dataTable['output_type'] = 'display_data';\n",
              "          await google.colab.output.renderOutput(dataTable, element);\n",
              "          const docLink = document.createElement('div');\n",
              "          docLink.innerHTML = docLinkHtml;\n",
              "          element.appendChild(docLink);\n",
              "        }\n",
              "      </script>\n",
              "    </div>\n",
              "  </div>\n",
              "  "
            ]
          },
          "metadata": {},
          "execution_count": 23
        }
      ]
    },
    {
      "cell_type": "code",
      "source": [
        "X = df_iris.iloc[:, 0:4].values\n",
        "y = df_iris.iloc[:, 4].values"
      ],
      "metadata": {
        "id": "TA3iUn5bdGnp"
      },
      "execution_count": 24,
      "outputs": []
    },
    {
      "cell_type": "markdown",
      "source": [
        "### Performing t-SNE"
      ],
      "metadata": {
        "id": "pK2sGzq-dKFE"
      }
    },
    {
      "cell_type": "code",
      "source": [
        "tsne = TSNE(n_components=2, verbose=1, random_state=123)\n",
        "z = tsne.fit_transform(X) "
      ],
      "metadata": {
        "colab": {
          "base_uri": "https://localhost:8080/"
        },
        "id": "k4blHRRhdJbB",
        "outputId": "d8e05986-a4a1-4c20-b1c5-aed4f55a7644"
      },
      "execution_count": 28,
      "outputs": [
        {
          "output_type": "stream",
          "name": "stderr",
          "text": [
            "/usr/local/lib/python3.7/dist-packages/sklearn/manifold/_t_sne.py:783: FutureWarning: The default initialization in TSNE will change from 'random' to 'pca' in 1.2.\n",
            "  FutureWarning,\n",
            "/usr/local/lib/python3.7/dist-packages/sklearn/manifold/_t_sne.py:793: FutureWarning: The default learning rate in TSNE will change from 200.0 to 'auto' in 1.2.\n",
            "  FutureWarning,\n"
          ]
        },
        {
          "output_type": "stream",
          "name": "stdout",
          "text": [
            "[t-SNE] Computing 91 nearest neighbors...\n",
            "[t-SNE] Indexed 150 samples in 0.000s...\n",
            "[t-SNE] Computed neighbors for 150 samples in 0.017s...\n",
            "[t-SNE] Computed conditional probabilities for sample 150 / 150\n",
            "[t-SNE] Mean sigma: 0.509910\n",
            "[t-SNE] KL divergence after 250 iterations with early exaggeration: 50.387669\n",
            "[t-SNE] KL divergence after 1000 iterations: 0.129141\n"
          ]
        }
      ]
    },
    {
      "cell_type": "markdown",
      "source": [
        "### Visualizing t-SNE"
      ],
      "metadata": {
        "id": "0vtu78eCdoXV"
      }
    },
    {
      "cell_type": "code",
      "source": [
        "df = pd.DataFrame()\n",
        "df[\"y\"] = y\n",
        "df[\"comp-1\"] = z[:,0]\n",
        "df[\"comp-2\"] = z[:,1]\n",
        "\n",
        "sns.scatterplot(x=\"comp-1\", y=\"comp-2\", hue=df.y.tolist(),\n",
        "                palette=sns.color_palette(\"hls\", 3),\n",
        "                data=df).set(title=\"Iris data T-SNE projection\") "
      ],
      "metadata": {
        "colab": {
          "base_uri": "https://localhost:8080/",
          "height": 313
        },
        "id": "loPkr7Btdjf6",
        "outputId": "99eefb38-21c5-4ca8-f484-bffed6ff9098"
      },
      "execution_count": 29,
      "outputs": [
        {
          "output_type": "execute_result",
          "data": {
            "text/plain": [
              "[Text(0.5, 1.0, 'Iris data T-SNE projection')]"
            ]
          },
          "metadata": {},
          "execution_count": 29
        },
        {
          "output_type": "display_data",
          "data": {
            "text/plain": [
              "<Figure size 432x288 with 1 Axes>"
            ],
            "image/png": "[encoded data removed]"
          },
          "metadata": {
            "needs_background": "light"
          }
        }
      ]
    }
  ]
}