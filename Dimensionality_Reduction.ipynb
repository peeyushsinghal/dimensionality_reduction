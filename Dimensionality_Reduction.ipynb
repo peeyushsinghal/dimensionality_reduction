{
  "nbformat": 4,
  "nbformat_minor": 0,
  "metadata": {
    "colab": {
      "provenance": [],
      "collapsed_sections": [],
      "toc_visible": true,
      "authorship_tag": "ABX9TyN1L88SS4s1qeiXvwsvZZ4o",
      "include_colab_link": true
    },
    "kernelspec": {
      "name": "python3",
      "display_name": "Python 3"
    },
    "language_info": {
      "name": "python"
    }
  },
  "cells": [
    {
      "cell_type": "markdown",
      "metadata": {
        "id": "view-in-github",
        "colab_type": "text"
      },
      "source": [
        "<a href=\"https://colab.research.google.com/github/peeyushsinghal/dimensionality_reduction/blob/main/Dimensionality_Reduction.ipynb\" target=\"_parent\"><img src=\"https://colab.research.google.com/assets/colab-badge.svg\" alt=\"Open In Colab\"/></a>"
      ]
    },
    {
      "cell_type": "code",
      "execution_count": null,
      "metadata": {
        "id": "dYcvx5ogOGeu"
      },
      "outputs": [],
      "source": []
    },
    {
      "cell_type": "markdown",
      "source": [
        "# Dimensionality Reduction"
      ],
      "metadata": {
        "id": "siEaq8XEOHYm"
      }
    },
    {
      "cell_type": "markdown",
      "source": [
        "## Singular Value Decomposition (SVD)"
      ],
      "metadata": {
        "id": "1hsERIKeOKc0"
      }
    },
    {
      "cell_type": "markdown",
      "source": [
        "### SVD using Numpy"
      ],
      "metadata": {
        "id": "2TWySyKMOP-D"
      }
    },
    {
      "cell_type": "code",
      "source": [
        "import numpy as np"
      ],
      "metadata": {
        "id": "df1c-63fOVnF"
      },
      "execution_count": 1,
      "outputs": []
    },
    {
      "cell_type": "code",
      "source": [
        "#Creating a matrix A\n",
        "A = np.array([[3,4,3],[1,2,3],[4,2,1]])\n",
        "A"
      ],
      "metadata": {
        "colab": {
          "base_uri": "https://localhost:8080/"
        },
        "id": "RrSZkh2COh2T",
        "outputId": "ad3eb432-edff-4d78-d478-ec2203756416"
      },
      "execution_count": 2,
      "outputs": [
        {
          "output_type": "execute_result",
          "data": {
            "text/plain": [
              "array([[3, 4, 3],\n",
              "       [1, 2, 3],\n",
              "       [4, 2, 1]])"
            ]
          },
          "metadata": {},
          "execution_count": 2
        }
      ]
    },
    {
      "cell_type": "code",
      "source": [
        "#Performing SVD\n",
        "U, S, VT = np.linalg.svd(A)\n",
        "print (f'U = \\n{U} \\n S = \\n {S} \\n VT = {VT} ')"
      ],
      "metadata": {
        "colab": {
          "base_uri": "https://localhost:8080/"
        },
        "id": "6E35C-fhOekM",
        "outputId": "ba420abb-6cbe-461b-d0a1-538ffd4f4443"
      },
      "execution_count": 5,
      "outputs": [
        {
          "output_type": "stream",
          "name": "stdout",
          "text": [
            "U = \n",
            "[[-0.73553325 -0.18392937 -0.65204358]\n",
            " [-0.42657919 -0.62196982  0.65664582]\n",
            " [-0.52632788  0.76113306  0.37901904]] \n",
            " S = \n",
            " [7.87764972 2.54031671 0.69958986] \n",
            " VT = [[-0.60151068 -0.61540527 -0.5093734 ]\n",
            " [ 0.73643349 -0.18005275 -0.65210944]\n",
            " [ 0.30959751 -0.76737042  0.5615087 ]] \n"
          ]
        }
      ]
    },
    {
      "cell_type": "code",
      "source": [
        "#Checking if we can remake the original matrix using U,S,VT\n",
        "A_remake = (U @ np.diag(S) @ VT)\n",
        "print(A_remake)"
      ],
      "metadata": {
        "colab": {
          "base_uri": "https://localhost:8080/"
        },
        "id": "OlYbKhzuPC0c",
        "outputId": "f1afe601-6ad3-47b0-9142-3262ccd74f64"
      },
      "execution_count": 6,
      "outputs": [
        {
          "output_type": "stream",
          "name": "stdout",
          "text": [
            "[[3. 4. 3.]\n",
            " [1. 2. 3.]\n",
            " [4. 2. 1.]]\n"
          ]
        }
      ]
    },
    {
      "cell_type": "markdown",
      "source": [
        "### SVD using scikit-learn (TruncatedSVD)"
      ],
      "metadata": {
        "id": "X4_tsdKJPOzT"
      }
    },
    {
      "cell_type": "code",
      "source": [
        "#Importing required modules\n",
        "import numpy as np\n",
        "from sklearn.decomposition import TruncatedSVD"
      ],
      "metadata": {
        "id": "bpsYZtiJQORs"
      },
      "execution_count": 7,
      "outputs": []
    },
    {
      "cell_type": "code",
      "source": [
        "#Creating array \n",
        "A = np.array([[3,4,3],[1,2,3],[4,2,1]])\n",
        "A"
      ],
      "metadata": {
        "colab": {
          "base_uri": "https://localhost:8080/"
        },
        "id": "4lJU0-3LQT_1",
        "outputId": "86f49726-4a50-430f-b5ad-89e038ebb9cd"
      },
      "execution_count": 19,
      "outputs": [
        {
          "output_type": "execute_result",
          "data": {
            "text/plain": [
              "array([[3, 4, 3],\n",
              "       [1, 2, 3],\n",
              "       [4, 2, 1]])"
            ]
          },
          "metadata": {},
          "execution_count": 19
        }
      ]
    },
    {
      "cell_type": "code",
      "source": [
        "#Fitting the SVD class\n",
        "n_components = 2\n",
        "trun_svd =  TruncatedSVD(n_components = n_components)\n",
        "A_transformed = trun_svd.fit_transform(A)"
      ],
      "metadata": {
        "id": "vez0AqXPQYX2"
      },
      "execution_count": 21,
      "outputs": []
    },
    {
      "cell_type": "code",
      "source": [
        "print(\"Singular values:\")\n",
        "print(trun_svd.singular_values_)"
      ],
      "metadata": {
        "colab": {
          "base_uri": "https://localhost:8080/"
        },
        "id": "Oo6ufkLjRdVn",
        "outputId": "ca522cd8-09b7-4ef8-e959-42867c3866bf"
      },
      "execution_count": 18,
      "outputs": [
        {
          "output_type": "stream",
          "name": "stdout",
          "text": [
            "Singular values:\n",
            "[7.87764972 2.54031671]\n"
          ]
        }
      ]
    },
    {
      "cell_type": "code",
      "source": [
        "#Printing the transformed matrix\n",
        "print(f'Transformed Matrix: with {n_components} components')\n",
        "print(A_transformed)"
      ],
      "metadata": {
        "colab": {
          "base_uri": "https://localhost:8080/"
        },
        "id": "-WCRXVSCQhOK",
        "outputId": "56d76e49-ea39-4f11-f8dd-3748c237adda"
      },
      "execution_count": 22,
      "outputs": [
        {
          "output_type": "stream",
          "name": "stdout",
          "text": [
            "Transformed Matrix: with 2 components\n",
            "[[ 5.7942733  -0.46723885]\n",
            " [ 3.3604414  -1.58000033]\n",
            " [ 4.14622666  1.93351902]]\n"
          ]
        }
      ]
    },
    {
      "cell_type": "markdown",
      "source": [
        "## Principal Component Analysis (PCA)"
      ],
      "metadata": {
        "id": "Qj6rT1RzUS0K"
      }
    }
  ]
}