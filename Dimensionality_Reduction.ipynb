{
  "nbformat": 4,
  "nbformat_minor": 0,
  "metadata": {
    "colab": {
      "provenance": [],
      "collapsed_sections": [],
      "toc_visible": true,
      "authorship_tag": "ABX9TyOFekA5CnybAljplfsNo+3D",
      "include_colab_link": true
    },
    "kernelspec": {
      "name": "python3",
      "display_name": "Python 3"
    },
    "language_info": {
      "name": "python"
    }
  },
  "cells": [
    {
      "cell_type": "markdown",
      "metadata": {
        "id": "view-in-github",
        "colab_type": "text"
      },
      "source": [
        "<a href=\"https://colab.research.google.com/github/peeyushsinghal/dimensionality_reduction/blob/main/Dimensionality_Reduction.ipynb\" target=\"_parent\"><img src=\"https://colab.research.google.com/assets/colab-badge.svg\" alt=\"Open In Colab\"/></a>"
      ]
    },
    {
      "cell_type": "markdown",
      "source": [
        "# Dimensionality Reduction"
      ],
      "metadata": {
        "id": "siEaq8XEOHYm"
      }
    },
    {
      "cell_type": "markdown",
      "source": [
        "## Singular Value Decomposition (SVD)"
      ],
      "metadata": {
        "id": "1hsERIKeOKc0"
      }
    },
    {
      "cell_type": "markdown",
      "source": [
        "### SVD using Numpy"
      ],
      "metadata": {
        "id": "2TWySyKMOP-D"
      }
    },
    {
      "cell_type": "code",
      "source": [
        "import numpy as np"
      ],
      "metadata": {
        "id": "df1c-63fOVnF"
      },
      "execution_count": 1,
      "outputs": []
    },
    {
      "cell_type": "code",
      "source": [
        "#Creating a matrix A\n",
        "A = np.array([[3,4,3],[1,2,3],[4,2,1]])\n",
        "A"
      ],
      "metadata": {
        "colab": {
          "base_uri": "https://localhost:8080/"
        },
        "id": "RrSZkh2COh2T",
        "outputId": "ad3eb432-edff-4d78-d478-ec2203756416"
      },
      "execution_count": 2,
      "outputs": [
        {
          "output_type": "execute_result",
          "data": {
            "text/plain": [
              "array([[3, 4, 3],\n",
              "       [1, 2, 3],\n",
              "       [4, 2, 1]])"
            ]
          },
          "metadata": {},
          "execution_count": 2
        }
      ]
    },
    {
      "cell_type": "code",
      "source": [
        "#Performing SVD\n",
        "U, S, VT = np.linalg.svd(A)\n",
        "print (f'U = \\n{U} \\n S = \\n {S} \\n VT = {VT} ')"
      ],
      "metadata": {
        "colab": {
          "base_uri": "https://localhost:8080/"
        },
        "id": "6E35C-fhOekM",
        "outputId": "ba420abb-6cbe-461b-d0a1-538ffd4f4443"
      },
      "execution_count": 5,
      "outputs": [
        {
          "output_type": "stream",
          "name": "stdout",
          "text": [
            "U = \n",
            "[[-0.73553325 -0.18392937 -0.65204358]\n",
            " [-0.42657919 -0.62196982  0.65664582]\n",
            " [-0.52632788  0.76113306  0.37901904]] \n",
            " S = \n",
            " [7.87764972 2.54031671 0.69958986] \n",
            " VT = [[-0.60151068 -0.61540527 -0.5093734 ]\n",
            " [ 0.73643349 -0.18005275 -0.65210944]\n",
            " [ 0.30959751 -0.76737042  0.5615087 ]] \n"
          ]
        }
      ]
    },
    {
      "cell_type": "code",
      "source": [
        "#Checking if we can remake the original matrix using U,S,VT\n",
        "A_remake = (U @ np.diag(S) @ VT)\n",
        "print(A_remake)"
      ],
      "metadata": {
        "colab": {
          "base_uri": "https://localhost:8080/"
        },
        "id": "OlYbKhzuPC0c",
        "outputId": "f1afe601-6ad3-47b0-9142-3262ccd74f64"
      },
      "execution_count": 6,
      "outputs": [
        {
          "output_type": "stream",
          "name": "stdout",
          "text": [
            "[[3. 4. 3.]\n",
            " [1. 2. 3.]\n",
            " [4. 2. 1.]]\n"
          ]
        }
      ]
    },
    {
      "cell_type": "markdown",
      "source": [
        "### SVD using scikit-learn (TruncatedSVD)"
      ],
      "metadata": {
        "id": "X4_tsdKJPOzT"
      }
    },
    {
      "cell_type": "code",
      "source": [
        "#Importing required modules\n",
        "import numpy as np\n",
        "from sklearn.decomposition import TruncatedSVD"
      ],
      "metadata": {
        "id": "bpsYZtiJQORs"
      },
      "execution_count": 7,
      "outputs": []
    },
    {
      "cell_type": "code",
      "source": [
        "#Creating array \n",
        "A = np.array([[3,4,3],[1,2,3],[4,2,1]])\n",
        "A"
      ],
      "metadata": {
        "colab": {
          "base_uri": "https://localhost:8080/"
        },
        "id": "4lJU0-3LQT_1",
        "outputId": "86f49726-4a50-430f-b5ad-89e038ebb9cd"
      },
      "execution_count": 19,
      "outputs": [
        {
          "output_type": "execute_result",
          "data": {
            "text/plain": [
              "array([[3, 4, 3],\n",
              "       [1, 2, 3],\n",
              "       [4, 2, 1]])"
            ]
          },
          "metadata": {},
          "execution_count": 19
        }
      ]
    },
    {
      "cell_type": "code",
      "source": [
        "#Fitting the SVD class\n",
        "n_components = 2\n",
        "trun_svd =  TruncatedSVD(n_components = n_components)\n",
        "A_transformed = trun_svd.fit_transform(A)"
      ],
      "metadata": {
        "id": "vez0AqXPQYX2"
      },
      "execution_count": 21,
      "outputs": []
    },
    {
      "cell_type": "code",
      "source": [
        "print(\"Singular values:\")\n",
        "print(trun_svd.singular_values_)"
      ],
      "metadata": {
        "colab": {
          "base_uri": "https://localhost:8080/"
        },
        "id": "Oo6ufkLjRdVn",
        "outputId": "ca522cd8-09b7-4ef8-e959-42867c3866bf"
      },
      "execution_count": 18,
      "outputs": [
        {
          "output_type": "stream",
          "name": "stdout",
          "text": [
            "Singular values:\n",
            "[7.87764972 2.54031671]\n"
          ]
        }
      ]
    },
    {
      "cell_type": "code",
      "source": [
        "#Printing the transformed matrix\n",
        "print(f'Transformed Matrix: with {n_components} components')\n",
        "print(A_transformed)"
      ],
      "metadata": {
        "colab": {
          "base_uri": "https://localhost:8080/"
        },
        "id": "-WCRXVSCQhOK",
        "outputId": "56d76e49-ea39-4f11-f8dd-3748c237adda"
      },
      "execution_count": 22,
      "outputs": [
        {
          "output_type": "stream",
          "name": "stdout",
          "text": [
            "Transformed Matrix: with 2 components\n",
            "[[ 5.7942733  -0.46723885]\n",
            " [ 3.3604414  -1.58000033]\n",
            " [ 4.14622666  1.93351902]]\n"
          ]
        }
      ]
    },
    {
      "cell_type": "markdown",
      "source": [
        "## Principal Component Analysis (PCA)"
      ],
      "metadata": {
        "id": "Qj6rT1RzUS0K"
      }
    },
    {
      "cell_type": "markdown",
      "source": [
        "### PCA Process"
      ],
      "metadata": {
        "id": "byH1QU2KGpbW"
      }
    },
    {
      "cell_type": "code",
      "source": [
        "# Loading Data\n",
        "from sklearn.datasets import load_breast_cancer\n",
        "import pandas as pd\n",
        "\n",
        "cancer = load_breast_cancer()\n",
        "print(cancer.keys())"
      ],
      "metadata": {
        "colab": {
          "base_uri": "https://localhost:8080/"
        },
        "id": "cjhqXn5ABOtZ",
        "outputId": "406b968c-ffd0-4c21-bb29-84eafc10962a"
      },
      "execution_count": 5,
      "outputs": [
        {
          "output_type": "stream",
          "name": "stdout",
          "text": [
            "dict_keys(['data', 'target', 'frame', 'target_names', 'DESCR', 'feature_names', 'filename', 'data_module'])\n"
          ]
        }
      ]
    },
    {
      "cell_type": "code",
      "source": [
        "print(cancer['DESCR'])"
      ],
      "metadata": {
        "colab": {
          "base_uri": "https://localhost:8080/"
        },
        "id": "OsLP_nEFBekx",
        "outputId": "062f2cd8-e405-4db1-951f-cd7636341b23"
      },
      "execution_count": 3,
      "outputs": [
        {
          "output_type": "stream",
          "name": "stdout",
          "text": [
            ".. _breast_cancer_dataset:\n",
            "\n",
            "Breast cancer wisconsin (diagnostic) dataset\n",
            "--------------------------------------------\n",
            "\n",
            "**Data Set Characteristics:**\n",
            "\n",
            "    :Number of Instances: 569\n",
            "\n",
            "    :Number of Attributes: 30 numeric, predictive attributes and the class\n",
            "\n",
            "    :Attribute Information:\n",
            "        - radius (mean of distances from center to points on the perimeter)\n",
            "        - texture (standard deviation of gray-scale values)\n",
            "        - perimeter\n",
            "        - area\n",
            "        - smoothness (local variation in radius lengths)\n",
            "        - compactness (perimeter^2 / area - 1.0)\n",
            "        - concavity (severity of concave portions of the contour)\n",
            "        - concave points (number of concave portions of the contour)\n",
            "        - symmetry\n",
            "        - fractal dimension (\"coastline approximation\" - 1)\n",
            "\n",
            "        The mean, standard error, and \"worst\" or largest (mean of the three\n",
            "        worst/largest values) of these features were computed for each image,\n",
            "        resulting in 30 features.  For instance, field 0 is Mean Radius, field\n",
            "        10 is Radius SE, field 20 is Worst Radius.\n",
            "\n",
            "        - class:\n",
            "                - WDBC-Malignant\n",
            "                - WDBC-Benign\n",
            "\n",
            "    :Summary Statistics:\n",
            "\n",
            "    ===================================== ====== ======\n",
            "                                           Min    Max\n",
            "    ===================================== ====== ======\n",
            "    radius (mean):                        6.981  28.11\n",
            "    texture (mean):                       9.71   39.28\n",
            "    perimeter (mean):                     43.79  188.5\n",
            "    area (mean):                          143.5  2501.0\n",
            "    smoothness (mean):                    0.053  0.163\n",
            "    compactness (mean):                   0.019  0.345\n",
            "    concavity (mean):                     0.0    0.427\n",
            "    concave points (mean):                0.0    0.201\n",
            "    symmetry (mean):                      0.106  0.304\n",
            "    fractal dimension (mean):             0.05   0.097\n",
            "    radius (standard error):              0.112  2.873\n",
            "    texture (standard error):             0.36   4.885\n",
            "    perimeter (standard error):           0.757  21.98\n",
            "    area (standard error):                6.802  542.2\n",
            "    smoothness (standard error):          0.002  0.031\n",
            "    compactness (standard error):         0.002  0.135\n",
            "    concavity (standard error):           0.0    0.396\n",
            "    concave points (standard error):      0.0    0.053\n",
            "    symmetry (standard error):            0.008  0.079\n",
            "    fractal dimension (standard error):   0.001  0.03\n",
            "    radius (worst):                       7.93   36.04\n",
            "    texture (worst):                      12.02  49.54\n",
            "    perimeter (worst):                    50.41  251.2\n",
            "    area (worst):                         185.2  4254.0\n",
            "    smoothness (worst):                   0.071  0.223\n",
            "    compactness (worst):                  0.027  1.058\n",
            "    concavity (worst):                    0.0    1.252\n",
            "    concave points (worst):               0.0    0.291\n",
            "    symmetry (worst):                     0.156  0.664\n",
            "    fractal dimension (worst):            0.055  0.208\n",
            "    ===================================== ====== ======\n",
            "\n",
            "    :Missing Attribute Values: None\n",
            "\n",
            "    :Class Distribution: 212 - Malignant, 357 - Benign\n",
            "\n",
            "    :Creator:  Dr. William H. Wolberg, W. Nick Street, Olvi L. Mangasarian\n",
            "\n",
            "    :Donor: Nick Street\n",
            "\n",
            "    :Date: November, 1995\n",
            "\n",
            "This is a copy of UCI ML Breast Cancer Wisconsin (Diagnostic) datasets.\n",
            "https://goo.gl/U2Uwz2\n",
            "\n",
            "Features are computed from a digitized image of a fine needle\n",
            "aspirate (FNA) of a breast mass.  They describe\n",
            "characteristics of the cell nuclei present in the image.\n",
            "\n",
            "Separating plane described above was obtained using\n",
            "Multisurface Method-Tree (MSM-T) [K. P. Bennett, \"Decision Tree\n",
            "Construction Via Linear Programming.\" Proceedings of the 4th\n",
            "Midwest Artificial Intelligence and Cognitive Science Society,\n",
            "pp. 97-101, 1992], a classification method which uses linear\n",
            "programming to construct a decision tree.  Relevant features\n",
            "were selected using an exhaustive search in the space of 1-4\n",
            "features and 1-3 separating planes.\n",
            "\n",
            "The actual linear program used to obtain the separating plane\n",
            "in the 3-dimensional space is that described in:\n",
            "[K. P. Bennett and O. L. Mangasarian: \"Robust Linear\n",
            "Programming Discrimination of Two Linearly Inseparable Sets\",\n",
            "Optimization Methods and Software 1, 1992, 23-34].\n",
            "\n",
            "This database is also available through the UW CS ftp server:\n",
            "\n",
            "ftp ftp.cs.wisc.edu\n",
            "cd math-prog/cpo-dataset/machine-learn/WDBC/\n",
            "\n",
            ".. topic:: References\n",
            "\n",
            "   - W.N. Street, W.H. Wolberg and O.L. Mangasarian. Nuclear feature extraction \n",
            "     for breast tumor diagnosis. IS&T/SPIE 1993 International Symposium on \n",
            "     Electronic Imaging: Science and Technology, volume 1905, pages 861-870,\n",
            "     San Jose, CA, 1993.\n",
            "   - O.L. Mangasarian, W.N. Street and W.H. Wolberg. Breast cancer diagnosis and \n",
            "     prognosis via linear programming. Operations Research, 43(4), pages 570-577, \n",
            "     July-August 1995.\n",
            "   - W.H. Wolberg, W.N. Street, and O.L. Mangasarian. Machine learning techniques\n",
            "     to diagnose breast cancer from fine-needle aspirates. Cancer Letters 77 (1994) \n",
            "     163-171.\n"
          ]
        }
      ]
    },
    {
      "cell_type": "code",
      "source": [
        "print(cancer['target'],cancer['target_names']) # the dependent variable is separated from main data"
      ],
      "metadata": {
        "colab": {
          "base_uri": "https://localhost:8080/"
        },
        "id": "TQR3R7FyCiVa",
        "outputId": "36ab92be-3e45-4ebc-bbe6-a197fed598ce"
      },
      "execution_count": 9,
      "outputs": [
        {
          "output_type": "stream",
          "name": "stdout",
          "text": [
            "[0 0 0 0 0 0 0 0 0 0 0 0 0 0 0 0 0 0 0 1 1 1 0 0 0 0 0 0 0 0 0 0 0 0 0 0 0\n",
            " 1 0 0 0 0 0 0 0 0 1 0 1 1 1 1 1 0 0 1 0 0 1 1 1 1 0 1 0 0 1 1 1 1 0 1 0 0\n",
            " 1 0 1 0 0 1 1 1 0 0 1 0 0 0 1 1 1 0 1 1 0 0 1 1 1 0 0 1 1 1 1 0 1 1 0 1 1\n",
            " 1 1 1 1 1 1 0 0 0 1 0 0 1 1 1 0 0 1 0 1 0 0 1 0 0 1 1 0 1 1 0 1 1 1 1 0 1\n",
            " 1 1 1 1 1 1 1 1 0 1 1 1 1 0 0 1 0 1 1 0 0 1 1 0 0 1 1 1 1 0 1 1 0 0 0 1 0\n",
            " 1 0 1 1 1 0 1 1 0 0 1 0 0 0 0 1 0 0 0 1 0 1 0 1 1 0 1 0 0 0 0 1 1 0 0 1 1\n",
            " 1 0 1 1 1 1 1 0 0 1 1 0 1 1 0 0 1 0 1 1 1 1 0 1 1 1 1 1 0 1 0 0 0 0 0 0 0\n",
            " 0 0 0 0 0 0 0 1 1 1 1 1 1 0 1 0 1 1 0 1 1 0 1 0 0 1 1 1 1 1 1 1 1 1 1 1 1\n",
            " 1 0 1 1 0 1 0 1 1 1 1 1 1 1 1 1 1 1 1 1 1 0 1 1 1 0 1 0 1 1 1 1 0 0 0 1 1\n",
            " 1 1 0 1 0 1 0 1 1 1 0 1 1 1 1 1 1 1 0 0 0 1 1 1 1 1 1 1 1 1 1 1 0 0 1 0 0\n",
            " 0 1 0 0 1 1 1 1 1 0 1 1 1 1 1 0 1 1 1 0 1 1 0 0 1 1 1 1 1 1 0 1 1 1 1 1 1\n",
            " 1 0 1 1 1 1 1 0 1 1 0 1 1 1 1 1 1 1 1 1 1 1 1 0 1 0 0 1 0 1 1 1 1 1 0 1 1\n",
            " 0 1 0 1 1 0 1 0 1 1 1 1 1 1 1 1 0 0 1 1 1 1 1 1 0 1 1 1 1 1 1 1 1 1 1 0 1\n",
            " 1 1 1 1 1 1 0 1 0 1 1 0 1 1 1 1 1 0 0 1 0 1 0 1 1 1 1 1 0 1 1 0 1 0 1 0 0\n",
            " 1 1 1 0 1 1 1 1 1 1 1 1 1 1 1 0 1 0 0 1 1 1 1 1 1 1 1 1 1 1 1 1 1 1 1 1 1\n",
            " 1 1 1 1 1 1 1 0 0 0 0 0 0 1] ['malignant' 'benign']\n"
          ]
        }
      ]
    },
    {
      "cell_type": "code",
      "source": [
        "# loading data into dataframe for analysis\n",
        "df = pd.DataFrame(cancer['data'],columns=cancer['feature_names'])\n",
        "#(['DESCR', 'data', 'feature_names', 'target_names', 'target'])\n",
        "df.head() # the data does not have a dependent parameter "
      ],
      "metadata": {
        "colab": {
          "base_uri": "https://localhost:8080/",
          "height": 334
        },
        "id": "sc7RvtWdBlQn",
        "outputId": "353b6165-840c-4dbc-db9d-81396d43f66d"
      },
      "execution_count": 6,
      "outputs": [
        {
          "output_type": "execute_result",
          "data": {
            "text/plain": [
              "   mean radius  mean texture  mean perimeter  mean area  mean smoothness  \\\n",
              "0        17.99         10.38          122.80     1001.0          0.11840   \n",
              "1        20.57         17.77          132.90     1326.0          0.08474   \n",
              "2        19.69         21.25          130.00     1203.0          0.10960   \n",
              "3        11.42         20.38           77.58      386.1          0.14250   \n",
              "4        20.29         14.34          135.10     1297.0          0.10030   \n",
              "\n",
              "   mean compactness  mean concavity  mean concave points  mean symmetry  \\\n",
              "0           0.27760          0.3001              0.14710         0.2419   \n",
              "1           0.07864          0.0869              0.07017         0.1812   \n",
              "2           0.15990          0.1974              0.12790         0.2069   \n",
              "3           0.28390          0.2414              0.10520         0.2597   \n",
              "4           0.13280          0.1980              0.10430         0.1809   \n",
              "\n",
              "   mean fractal dimension  ...  worst radius  worst texture  worst perimeter  \\\n",
              "0                 0.07871  ...         25.38          17.33           184.60   \n",
              "1                 0.05667  ...         24.99          23.41           158.80   \n",
              "2                 0.05999  ...         23.57          25.53           152.50   \n",
              "3                 0.09744  ...         14.91          26.50            98.87   \n",
              "4                 0.05883  ...         22.54          16.67           152.20   \n",
              "\n",
              "   worst area  worst smoothness  worst compactness  worst concavity  \\\n",
              "0      2019.0            0.1622             0.6656           0.7119   \n",
              "1      1956.0            0.1238             0.1866           0.2416   \n",
              "2      1709.0            0.1444             0.4245           0.4504   \n",
              "3       567.7            0.2098             0.8663           0.6869   \n",
              "4      1575.0            0.1374             0.2050           0.4000   \n",
              "\n",
              "   worst concave points  worst symmetry  worst fractal dimension  \n",
              "0                0.2654          0.4601                  0.11890  \n",
              "1                0.1860          0.2750                  0.08902  \n",
              "2                0.2430          0.3613                  0.08758  \n",
              "3                0.2575          0.6638                  0.17300  \n",
              "4                0.1625          0.2364                  0.07678  \n",
              "\n",
              "[5 rows x 30 columns]"
            ],
            "text/html": [
              "\n",
              "  <div id=\"df-ea23ecaa-501c-45d6-b2f2-e1d21324a787\">\n",
              "    <div class=\"colab-df-container\">\n",
              "      <div>\n",
              "<style scoped>\n",
              "    .dataframe tbody tr th:only-of-type {\n",
              "        vertical-align: middle;\n",
              "    }\n",
              "\n",
              "    .dataframe tbody tr th {\n",
              "        vertical-align: top;\n",
              "    }\n",
              "\n",
              "    .dataframe thead th {\n",
              "        text-align: right;\n",
              "    }\n",
              "</style>\n",
              "<table border=\"1\" class=\"dataframe\">\n",
              "  <thead>\n",
              "    <tr style=\"text-align: right;\">\n",
              "      <th></th>\n",
              "      <th>mean radius</th>\n",
              "      <th>mean texture</th>\n",
              "      <th>mean perimeter</th>\n",
              "      <th>mean area</th>\n",
              "      <th>mean smoothness</th>\n",
              "      <th>mean compactness</th>\n",
              "      <th>mean concavity</th>\n",
              "      <th>mean concave points</th>\n",
              "      <th>mean symmetry</th>\n",
              "      <th>mean fractal dimension</th>\n",
              "      <th>...</th>\n",
              "      <th>worst radius</th>\n",
              "      <th>worst texture</th>\n",
              "      <th>worst perimeter</th>\n",
              "      <th>worst area</th>\n",
              "      <th>worst smoothness</th>\n",
              "      <th>worst compactness</th>\n",
              "      <th>worst concavity</th>\n",
              "      <th>worst concave points</th>\n",
              "      <th>worst symmetry</th>\n",
              "      <th>worst fractal dimension</th>\n",
              "    </tr>\n",
              "  </thead>\n",
              "  <tbody>\n",
              "    <tr>\n",
              "      <th>0</th>\n",
              "      <td>17.99</td>\n",
              "      <td>10.38</td>\n",
              "      <td>122.80</td>\n",
              "      <td>1001.0</td>\n",
              "      <td>0.11840</td>\n",
              "      <td>0.27760</td>\n",
              "      <td>0.3001</td>\n",
              "      <td>0.14710</td>\n",
              "      <td>0.2419</td>\n",
              "      <td>0.07871</td>\n",
              "      <td>...</td>\n",
              "      <td>25.38</td>\n",
              "      <td>17.33</td>\n",
              "      <td>184.60</td>\n",
              "      <td>2019.0</td>\n",
              "      <td>0.1622</td>\n",
              "      <td>0.6656</td>\n",
              "      <td>0.7119</td>\n",
              "      <td>0.2654</td>\n",
              "      <td>0.4601</td>\n",
              "      <td>0.11890</td>\n",
              "    </tr>\n",
              "    <tr>\n",
              "      <th>1</th>\n",
              "      <td>20.57</td>\n",
              "      <td>17.77</td>\n",
              "      <td>132.90</td>\n",
              "      <td>1326.0</td>\n",
              "      <td>0.08474</td>\n",
              "      <td>0.07864</td>\n",
              "      <td>0.0869</td>\n",
              "      <td>0.07017</td>\n",
              "      <td>0.1812</td>\n",
              "      <td>0.05667</td>\n",
              "      <td>...</td>\n",
              "      <td>24.99</td>\n",
              "      <td>23.41</td>\n",
              "      <td>158.80</td>\n",
              "      <td>1956.0</td>\n",
              "      <td>0.1238</td>\n",
              "      <td>0.1866</td>\n",
              "      <td>0.2416</td>\n",
              "      <td>0.1860</td>\n",
              "      <td>0.2750</td>\n",
              "      <td>0.08902</td>\n",
              "    </tr>\n",
              "    <tr>\n",
              "      <th>2</th>\n",
              "      <td>19.69</td>\n",
              "      <td>21.25</td>\n",
              "      <td>130.00</td>\n",
              "      <td>1203.0</td>\n",
              "      <td>0.10960</td>\n",
              "      <td>0.15990</td>\n",
              "      <td>0.1974</td>\n",
              "      <td>0.12790</td>\n",
              "      <td>0.2069</td>\n",
              "      <td>0.05999</td>\n",
              "      <td>...</td>\n",
              "      <td>23.57</td>\n",
              "      <td>25.53</td>\n",
              "      <td>152.50</td>\n",
              "      <td>1709.0</td>\n",
              "      <td>0.1444</td>\n",
              "      <td>0.4245</td>\n",
              "      <td>0.4504</td>\n",
              "      <td>0.2430</td>\n",
              "      <td>0.3613</td>\n",
              "      <td>0.08758</td>\n",
              "    </tr>\n",
              "    <tr>\n",
              "      <th>3</th>\n",
              "      <td>11.42</td>\n",
              "      <td>20.38</td>\n",
              "      <td>77.58</td>\n",
              "      <td>386.1</td>\n",
              "      <td>0.14250</td>\n",
              "      <td>0.28390</td>\n",
              "      <td>0.2414</td>\n",
              "      <td>0.10520</td>\n",
              "      <td>0.2597</td>\n",
              "      <td>0.09744</td>\n",
              "      <td>...</td>\n",
              "      <td>14.91</td>\n",
              "      <td>26.50</td>\n",
              "      <td>98.87</td>\n",
              "      <td>567.7</td>\n",
              "      <td>0.2098</td>\n",
              "      <td>0.8663</td>\n",
              "      <td>0.6869</td>\n",
              "      <td>0.2575</td>\n",
              "      <td>0.6638</td>\n",
              "      <td>0.17300</td>\n",
              "    </tr>\n",
              "    <tr>\n",
              "      <th>4</th>\n",
              "      <td>20.29</td>\n",
              "      <td>14.34</td>\n",
              "      <td>135.10</td>\n",
              "      <td>1297.0</td>\n",
              "      <td>0.10030</td>\n",
              "      <td>0.13280</td>\n",
              "      <td>0.1980</td>\n",
              "      <td>0.10430</td>\n",
              "      <td>0.1809</td>\n",
              "      <td>0.05883</td>\n",
              "      <td>...</td>\n",
              "      <td>22.54</td>\n",
              "      <td>16.67</td>\n",
              "      <td>152.20</td>\n",
              "      <td>1575.0</td>\n",
              "      <td>0.1374</td>\n",
              "      <td>0.2050</td>\n",
              "      <td>0.4000</td>\n",
              "      <td>0.1625</td>\n",
              "      <td>0.2364</td>\n",
              "      <td>0.07678</td>\n",
              "    </tr>\n",
              "  </tbody>\n",
              "</table>\n",
              "<p>5 rows × 30 columns</p>\n",
              "</div>\n",
              "      <button class=\"colab-df-convert\" onclick=\"convertToInteractive('df-ea23ecaa-501c-45d6-b2f2-e1d21324a787')\"\n",
              "              title=\"Convert this dataframe to an interactive table.\"\n",
              "              style=\"display:none;\">\n",
              "        \n",
              "  <svg xmlns=\"http://www.w3.org/2000/svg\" height=\"24px\"viewBox=\"0 0 24 24\"\n",
              "       width=\"24px\">\n",
              "    <path d=\"M0 0h24v24H0V0z\" fill=\"none\"/>\n",
              "    <path d=\"M18.56 5.44l.94 2.06.94-2.06 2.06-.94-2.06-.94-.94-2.06-.94 2.06-2.06.94zm-11 1L8.5 8.5l.94-2.06 2.06-.94-2.06-.94L8.5 2.5l-.94 2.06-2.06.94zm10 10l.94 2.06.94-2.06 2.06-.94-2.06-.94-.94-2.06-.94 2.06-2.06.94z\"/><path d=\"M17.41 7.96l-1.37-1.37c-.4-.4-.92-.59-1.43-.59-.52 0-1.04.2-1.43.59L10.3 9.45l-7.72 7.72c-.78.78-.78 2.05 0 2.83L4 21.41c.39.39.9.59 1.41.59.51 0 1.02-.2 1.41-.59l7.78-7.78 2.81-2.81c.8-.78.8-2.07 0-2.86zM5.41 20L4 18.59l7.72-7.72 1.47 1.35L5.41 20z\"/>\n",
              "  </svg>\n",
              "      </button>\n",
              "      \n",
              "  <style>\n",
              "    .colab-df-container {\n",
              "      display:flex;\n",
              "      flex-wrap:wrap;\n",
              "      gap: 12px;\n",
              "    }\n",
              "\n",
              "    .colab-df-convert {\n",
              "      background-color: #E8F0FE;\n",
              "      border: none;\n",
              "      border-radius: 50%;\n",
              "      cursor: pointer;\n",
              "      display: none;\n",
              "      fill: #1967D2;\n",
              "      height: 32px;\n",
              "      padding: 0 0 0 0;\n",
              "      width: 32px;\n",
              "    }\n",
              "\n",
              "    .colab-df-convert:hover {\n",
              "      background-color: #E2EBFA;\n",
              "      box-shadow: 0px 1px 2px rgba(60, 64, 67, 0.3), 0px 1px 3px 1px rgba(60, 64, 67, 0.15);\n",
              "      fill: #174EA6;\n",
              "    }\n",
              "\n",
              "    [theme=dark] .colab-df-convert {\n",
              "      background-color: #3B4455;\n",
              "      fill: #D2E3FC;\n",
              "    }\n",
              "\n",
              "    [theme=dark] .colab-df-convert:hover {\n",
              "      background-color: #434B5C;\n",
              "      box-shadow: 0px 1px 3px 1px rgba(0, 0, 0, 0.15);\n",
              "      filter: drop-shadow(0px 1px 2px rgba(0, 0, 0, 0.3));\n",
              "      fill: #FFFFFF;\n",
              "    }\n",
              "  </style>\n",
              "\n",
              "      <script>\n",
              "        const buttonEl =\n",
              "          document.querySelector('#df-ea23ecaa-501c-45d6-b2f2-e1d21324a787 button.colab-df-convert');\n",
              "        buttonEl.style.display =\n",
              "          google.colab.kernel.accessAllowed ? 'block' : 'none';\n",
              "\n",
              "        async function convertToInteractive(key) {\n",
              "          const element = document.querySelector('#df-ea23ecaa-501c-45d6-b2f2-e1d21324a787');\n",
              "          const dataTable =\n",
              "            await google.colab.kernel.invokeFunction('convertToInteractive',\n",
              "                                                     [key], {});\n",
              "          if (!dataTable) return;\n",
              "\n",
              "          const docLinkHtml = 'Like what you see? Visit the ' +\n",
              "            '<a target=\"_blank\" href=https://colab.research.google.com/notebooks/data_table.ipynb>data table notebook</a>'\n",
              "            + ' to learn more about interactive tables.';\n",
              "          element.innerHTML = '';\n",
              "          dataTable['output_type'] = 'display_data';\n",
              "          await google.colab.output.renderOutput(dataTable, element);\n",
              "          const docLink = document.createElement('div');\n",
              "          docLink.innerHTML = docLinkHtml;\n",
              "          element.appendChild(docLink);\n",
              "        }\n",
              "      </script>\n",
              "    </div>\n",
              "  </div>\n",
              "  "
            ]
          },
          "metadata": {},
          "execution_count": 6
        }
      ]
    },
    {
      "cell_type": "code",
      "source": [
        "# visualizing data\n",
        "# pd.plotting.scatter_matrix(df, alpha=0.2, figsize=(6, 6), diagonal='kde')"
      ],
      "metadata": {
        "id": "rvD9_yknEqEM"
      },
      "execution_count": 32,
      "outputs": []
    },
    {
      "cell_type": "code",
      "source": [
        "## scaling the data - mean and standard deviation treatment for all columns\n",
        "from sklearn.preprocessing import StandardScaler\n",
        "scaler = StandardScaler()\n",
        "scaler.fit(df)\n",
        "scaled_data = scaler.transform(df)"
      ],
      "metadata": {
        "id": "IISXurXrEi7O"
      },
      "execution_count": 23,
      "outputs": []
    },
    {
      "cell_type": "code",
      "source": [
        "scaled_data.shape"
      ],
      "metadata": {
        "colab": {
          "base_uri": "https://localhost:8080/"
        },
        "id": "p7HrVtXtGeFw",
        "outputId": "fd908aa6-8760-4cbe-84da-9ce78ca5ec18"
      },
      "execution_count": 24,
      "outputs": [
        {
          "output_type": "execute_result",
          "data": {
            "text/plain": [
              "(569, 30)"
            ]
          },
          "metadata": {},
          "execution_count": 24
        }
      ]
    },
    {
      "cell_type": "code",
      "source": [
        "## initializing PCA\n",
        "from sklearn.decomposition import PCA\n",
        "n_components = 2 \n",
        "pca = PCA(n_components=n_components)\n",
        "pca.fit(scaled_data)\n",
        "x_pca = pca.transform(scaled_data)\n",
        "x_pca.shape"
      ],
      "metadata": {
        "colab": {
          "base_uri": "https://localhost:8080/"
        },
        "id": "NtDLyp1hF-kk",
        "outputId": "4ffeac44-94f2-42a2-9f30-7ae66e62a89a"
      },
      "execution_count": 25,
      "outputs": [
        {
          "output_type": "execute_result",
          "data": {
            "text/plain": [
              "(569, 2)"
            ]
          },
          "metadata": {},
          "execution_count": 25
        }
      ]
    },
    {
      "cell_type": "code",
      "source": [
        "plt.figure(figsize=(8,6))\n",
        "plt.scatter(x_pca[:,0],x_pca[:,1],c=cancer['target'],cmap='plasma')\n",
        "plt.xlabel('First principal component')\n",
        "plt.ylabel('Second Principal Component')"
      ],
      "metadata": {
        "colab": {
          "base_uri": "https://localhost:8080/",
          "height": 405
        },
        "id": "481APx8LGjX5",
        "outputId": "6e146ebd-8132-4785-b069-a9fad877fe81"
      },
      "execution_count": 26,
      "outputs": [
        {
          "output_type": "execute_result",
          "data": {
            "text/plain": [
              "Text(0, 0.5, 'Second Principal Component')"
            ]
          },
          "metadata": {},
          "execution_count": 26
        },
        {
          "output_type": "display_data",
          "data": {
            "text/plain": [
              "<Figure size 576x432 with 1 Axes>"
            ],
            "image/png": "[encoded data removed]"
          },
          "metadata": {
            "needs_background": "light"
          }
        }
      ]
    },
    {
      "cell_type": "markdown",
      "source": [
        "### Results Interpretation and analysis"
      ],
      "metadata": {
        "id": "FrqUk1PMGuSe"
      }
    },
    {
      "cell_type": "code",
      "source": [
        "print(pca.components_, pca.components_.shape)"
      ],
      "metadata": {
        "colab": {
          "base_uri": "https://localhost:8080/"
        },
        "id": "2-QxPbScGzOI",
        "outputId": "f762849c-86a2-466a-d0c3-36bb255d034a"
      },
      "execution_count": 29,
      "outputs": [
        {
          "output_type": "stream",
          "name": "stdout",
          "text": [
            "[[ 0.21890244  0.10372458  0.22753729  0.22099499  0.14258969  0.23928535\n",
            "   0.25840048  0.26085376  0.13816696  0.06436335  0.20597878  0.01742803\n",
            "   0.21132592  0.20286964  0.01453145  0.17039345  0.15358979  0.1834174\n",
            "   0.04249842  0.10256832  0.22799663  0.10446933  0.23663968  0.22487053\n",
            "   0.12795256  0.21009588  0.22876753  0.25088597  0.12290456  0.13178394]\n",
            " [-0.23385713 -0.05970609 -0.21518136 -0.23107671  0.18611302  0.15189161\n",
            "   0.06016536 -0.0347675   0.19034877  0.36657547 -0.10555215  0.08997968\n",
            "  -0.08945723 -0.15229263  0.20443045  0.2327159   0.19720728  0.13032156\n",
            "   0.183848    0.28009203 -0.21986638 -0.0454673  -0.19987843 -0.21935186\n",
            "   0.17230435  0.14359317  0.09796411 -0.00825724  0.14188335  0.27533947]] (2, 30)\n"
          ]
        }
      ]
    },
    {
      "cell_type": "code",
      "source": [
        "# Understanding coorelation of PCA components and original features\n",
        "\n",
        "df_comp = pd.DataFrame(pca.components_,columns=cancer['feature_names'])\n",
        "plt.figure(figsize=(12,6))\n",
        "import seaborn as sns\n",
        "sns.heatmap(df_comp,cmap='plasma',)"
      ],
      "metadata": {
        "colab": {
          "base_uri": "https://localhost:8080/",
          "height": 500
        },
        "id": "sQTO5WmmHADA",
        "outputId": "bf3a1031-ffc3-4134-b903-181558d1b0d3"
      },
      "execution_count": 31,
      "outputs": [
        {
          "output_type": "execute_result",
          "data": {
            "text/plain": [
              "<matplotlib.axes._subplots.AxesSubplot at 0x7fa6cd7b7f10>"
            ]
          },
          "metadata": {},
          "execution_count": 31
        },
        {
          "output_type": "display_data",
          "data": {
            "text/plain": [
              "<Figure size 864x432 with 2 Axes>"
            ],
            "image/png": "[encoded data removed]"
          },
          "metadata": {
            "needs_background": "light"
          }
        }
      ]
    },
    {
      "cell_type": "markdown",
      "source": [
        "### Scree Plot"
      ],
      "metadata": {
        "id": "7zdT6v7BIZAc"
      }
    },
    {
      "cell_type": "code",
      "source": [
        "## we would fit another PCA but with n_componets = 20\n",
        "from sklearn.decomposition import PCA\n",
        "n_components = 20 \n",
        "pca_scree = PCA(n_components=n_components)\n",
        "pca_scree.fit(scaled_data)\n",
        "x_pca_scree = pca_scree.transform(scaled_data)\n",
        "x_pca_scree.shape"
      ],
      "metadata": {
        "colab": {
          "base_uri": "https://localhost:8080/"
        },
        "id": "6ZgLA5LUIdfX",
        "outputId": "c2201bf3-c1fe-4f04-da60-dedd77450ab2"
      },
      "execution_count": 36,
      "outputs": [
        {
          "output_type": "execute_result",
          "data": {
            "text/plain": [
              "(569, 20)"
            ]
          },
          "metadata": {},
          "execution_count": 36
        }
      ]
    },
    {
      "cell_type": "code",
      "source": [
        "## SCREE Plot\n",
        "import numpy as np\n",
        "PC_values = np.arange(pca_scree.n_components_) + 1\n",
        "plt.plot(PC_values, pca_scree.explained_variance_ratio_, 'o-', linewidth=2, color='blue')\n",
        "plt.plot(PC_values, pca_scree.explained_variance_ratio_.cumsum(), 'o-', linewidth=2, color='orange')\n",
        "\n",
        "plt.title('Scree Plot')\n",
        "plt.xlabel('Principal Component')\n",
        "plt.ylabel('Variance Explained')\n",
        "plt.show()"
      ],
      "metadata": {
        "colab": {
          "base_uri": "https://localhost:8080/",
          "height": 295
        },
        "id": "jFvBcj61H9u6",
        "outputId": "cb9bca60-766a-49ac-f06b-ed78f7a2b66d"
      },
      "execution_count": 40,
      "outputs": [
        {
          "output_type": "display_data",
          "data": {
            "text/plain": [
              "<Figure size 432x288 with 1 Axes>"
            ],
            "image/png": "[encoded data removed]"
          },
          "metadata": {
            "needs_background": "light"
          }
        }
      ]
    },
    {
      "cell_type": "code",
      "source": [
        "pca_scree.explained_variance_ratio_"
      ],
      "metadata": {
        "colab": {
          "base_uri": "https://localhost:8080/"
        },
        "id": "QGsHfZNrJN_w",
        "outputId": "9cb0a758-3ba6-49d5-c325-57dde4dd500e"
      },
      "execution_count": 42,
      "outputs": [
        {
          "output_type": "execute_result",
          "data": {
            "text/plain": [
              "array([0.44272026, 0.18971182, 0.09393163, 0.06602135, 0.05495768,\n",
              "       0.04024522, 0.02250734, 0.01588724, 0.01389649, 0.01168978,\n",
              "       0.00979719, 0.00870538, 0.00804525, 0.00523366, 0.00313783,\n",
              "       0.00266209, 0.00197997, 0.00175396, 0.00164925, 0.00103865])"
            ]
          },
          "metadata": {},
          "execution_count": 42
        }
      ]
    },
    {
      "cell_type": "markdown",
      "source": [
        "\n",
        "## Latent Discrimination Analysis (LDA)"
      ],
      "metadata": {
        "id": "xbi90HkPzimz"
      }
    },
    {
      "cell_type": "markdown",
      "source": [
        "### LDA using scikit-learn"
      ],
      "metadata": {
        "id": "bMjnaRDs1Esm"
      }
    },
    {
      "cell_type": "code",
      "source": [
        "# Importing Libraries\n",
        "import numpy as np\n",
        "import pandas as pd"
      ],
      "metadata": {
        "id": "OpgZoQXRzu4Z"
      },
      "execution_count": 33,
      "outputs": []
    },
    {
      "cell_type": "code",
      "source": [
        "# Importing Dataset\n",
        "url = \"https://archive.ics.uci.edu/ml/machine-learning-databases/iris/iris.data\"\n",
        "names = ['sepal-length', 'sepal-width', 'petal-length', 'petal-width', 'Class']\n",
        "dataset = pd.read_csv(url, names=names)\n",
        "dataset.head()"
      ],
      "metadata": {
        "colab": {
          "base_uri": "https://localhost:8080/",
          "height": 206
        },
        "id": "K65Am5Oczv04",
        "outputId": "b51083b6-1af9-42ee-b8b2-8c0c4ba08d02"
      },
      "execution_count": 34,
      "outputs": [
        {
          "output_type": "execute_result",
          "data": {
            "text/plain": [
              "   sepal-length  sepal-width  petal-length  petal-width        Class\n",
              "0           5.1          3.5           1.4          0.2  Iris-setosa\n",
              "1           4.9          3.0           1.4          0.2  Iris-setosa\n",
              "2           4.7          3.2           1.3          0.2  Iris-setosa\n",
              "3           4.6          3.1           1.5          0.2  Iris-setosa\n",
              "4           5.0          3.6           1.4          0.2  Iris-setosa"
            ],
            "text/html": [
              "\n",
              "  <div id=\"df-35efe397-e517-49a4-95a2-9edbcd150d45\">\n",
              "    <div class=\"colab-df-container\">\n",
              "      <div>\n",
              "<style scoped>\n",
              "    .dataframe tbody tr th:only-of-type {\n",
              "        vertical-align: middle;\n",
              "    }\n",
              "\n",
              "    .dataframe tbody tr th {\n",
              "        vertical-align: top;\n",
              "    }\n",
              "\n",
              "    .dataframe thead th {\n",
              "        text-align: right;\n",
              "    }\n",
              "</style>\n",
              "<table border=\"1\" class=\"dataframe\">\n",
              "  <thead>\n",
              "    <tr style=\"text-align: right;\">\n",
              "      <th></th>\n",
              "      <th>sepal-length</th>\n",
              "      <th>sepal-width</th>\n",
              "      <th>petal-length</th>\n",
              "      <th>petal-width</th>\n",
              "      <th>Class</th>\n",
              "    </tr>\n",
              "  </thead>\n",
              "  <tbody>\n",
              "    <tr>\n",
              "      <th>0</th>\n",
              "      <td>5.1</td>\n",
              "      <td>3.5</td>\n",
              "      <td>1.4</td>\n",
              "      <td>0.2</td>\n",
              "      <td>Iris-setosa</td>\n",
              "    </tr>\n",
              "    <tr>\n",
              "      <th>1</th>\n",
              "      <td>4.9</td>\n",
              "      <td>3.0</td>\n",
              "      <td>1.4</td>\n",
              "      <td>0.2</td>\n",
              "      <td>Iris-setosa</td>\n",
              "    </tr>\n",
              "    <tr>\n",
              "      <th>2</th>\n",
              "      <td>4.7</td>\n",
              "      <td>3.2</td>\n",
              "      <td>1.3</td>\n",
              "      <td>0.2</td>\n",
              "      <td>Iris-setosa</td>\n",
              "    </tr>\n",
              "    <tr>\n",
              "      <th>3</th>\n",
              "      <td>4.6</td>\n",
              "      <td>3.1</td>\n",
              "      <td>1.5</td>\n",
              "      <td>0.2</td>\n",
              "      <td>Iris-setosa</td>\n",
              "    </tr>\n",
              "    <tr>\n",
              "      <th>4</th>\n",
              "      <td>5.0</td>\n",
              "      <td>3.6</td>\n",
              "      <td>1.4</td>\n",
              "      <td>0.2</td>\n",
              "      <td>Iris-setosa</td>\n",
              "    </tr>\n",
              "  </tbody>\n",
              "</table>\n",
              "</div>\n",
              "      <button class=\"colab-df-convert\" onclick=\"convertToInteractive('df-35efe397-e517-49a4-95a2-9edbcd150d45')\"\n",
              "              title=\"Convert this dataframe to an interactive table.\"\n",
              "              style=\"display:none;\">\n",
              "        \n",
              "  <svg xmlns=\"http://www.w3.org/2000/svg\" height=\"24px\"viewBox=\"0 0 24 24\"\n",
              "       width=\"24px\">\n",
              "    <path d=\"M0 0h24v24H0V0z\" fill=\"none\"/>\n",
              "    <path d=\"M18.56 5.44l.94 2.06.94-2.06 2.06-.94-2.06-.94-.94-2.06-.94 2.06-2.06.94zm-11 1L8.5 8.5l.94-2.06 2.06-.94-2.06-.94L8.5 2.5l-.94 2.06-2.06.94zm10 10l.94 2.06.94-2.06 2.06-.94-2.06-.94-.94-2.06-.94 2.06-2.06.94z\"/><path d=\"M17.41 7.96l-1.37-1.37c-.4-.4-.92-.59-1.43-.59-.52 0-1.04.2-1.43.59L10.3 9.45l-7.72 7.72c-.78.78-.78 2.05 0 2.83L4 21.41c.39.39.9.59 1.41.59.51 0 1.02-.2 1.41-.59l7.78-7.78 2.81-2.81c.8-.78.8-2.07 0-2.86zM5.41 20L4 18.59l7.72-7.72 1.47 1.35L5.41 20z\"/>\n",
              "  </svg>\n",
              "      </button>\n",
              "      \n",
              "  <style>\n",
              "    .colab-df-container {\n",
              "      display:flex;\n",
              "      flex-wrap:wrap;\n",
              "      gap: 12px;\n",
              "    }\n",
              "\n",
              "    .colab-df-convert {\n",
              "      background-color: #E8F0FE;\n",
              "      border: none;\n",
              "      border-radius: 50%;\n",
              "      cursor: pointer;\n",
              "      display: none;\n",
              "      fill: #1967D2;\n",
              "      height: 32px;\n",
              "      padding: 0 0 0 0;\n",
              "      width: 32px;\n",
              "    }\n",
              "\n",
              "    .colab-df-convert:hover {\n",
              "      background-color: #E2EBFA;\n",
              "      box-shadow: 0px 1px 2px rgba(60, 64, 67, 0.3), 0px 1px 3px 1px rgba(60, 64, 67, 0.15);\n",
              "      fill: #174EA6;\n",
              "    }\n",
              "\n",
              "    [theme=dark] .colab-df-convert {\n",
              "      background-color: #3B4455;\n",
              "      fill: #D2E3FC;\n",
              "    }\n",
              "\n",
              "    [theme=dark] .colab-df-convert:hover {\n",
              "      background-color: #434B5C;\n",
              "      box-shadow: 0px 1px 3px 1px rgba(0, 0, 0, 0.15);\n",
              "      filter: drop-shadow(0px 1px 2px rgba(0, 0, 0, 0.3));\n",
              "      fill: #FFFFFF;\n",
              "    }\n",
              "  </style>\n",
              "\n",
              "      <script>\n",
              "        const buttonEl =\n",
              "          document.querySelector('#df-35efe397-e517-49a4-95a2-9edbcd150d45 button.colab-df-convert');\n",
              "        buttonEl.style.display =\n",
              "          google.colab.kernel.accessAllowed ? 'block' : 'none';\n",
              "\n",
              "        async function convertToInteractive(key) {\n",
              "          const element = document.querySelector('#df-35efe397-e517-49a4-95a2-9edbcd150d45');\n",
              "          const dataTable =\n",
              "            await google.colab.kernel.invokeFunction('convertToInteractive',\n",
              "                                                     [key], {});\n",
              "          if (!dataTable) return;\n",
              "\n",
              "          const docLinkHtml = 'Like what you see? Visit the ' +\n",
              "            '<a target=\"_blank\" href=https://colab.research.google.com/notebooks/data_table.ipynb>data table notebook</a>'\n",
              "            + ' to learn more about interactive tables.';\n",
              "          element.innerHTML = '';\n",
              "          dataTable['output_type'] = 'display_data';\n",
              "          await google.colab.output.renderOutput(dataTable, element);\n",
              "          const docLink = document.createElement('div');\n",
              "          docLink.innerHTML = docLinkHtml;\n",
              "          element.appendChild(docLink);\n",
              "        }\n",
              "      </script>\n",
              "    </div>\n",
              "  </div>\n",
              "  "
            ]
          },
          "metadata": {},
          "execution_count": 34
        }
      ]
    },
    {
      "cell_type": "code",
      "source": [
        "# Data Pre-processing\n",
        "X = dataset.iloc[:, 0:4].values\n",
        "y = dataset.iloc[:, 4].values"
      ],
      "metadata": {
        "id": "LwLQKDZg0FWH"
      },
      "execution_count": 42,
      "outputs": []
    },
    {
      "cell_type": "code",
      "source": [
        "# Test Train split\n",
        "from sklearn.model_selection import train_test_split\n",
        "\n",
        "X_train, X_test, y_train, y_test = train_test_split(X, y, test_size=0.2, random_state=0)"
      ],
      "metadata": {
        "id": "oAbL70St0Ify"
      },
      "execution_count": 43,
      "outputs": []
    },
    {
      "cell_type": "code",
      "source": [
        "# Feature Scaling \n",
        "from sklearn.preprocessing import StandardScaler\n",
        "\n",
        "sc = StandardScaler()\n",
        "X_train = sc.fit_transform(X_train)\n",
        "X_test = sc.transform(X_test)"
      ],
      "metadata": {
        "id": "RTHUsols0Oww"
      },
      "execution_count": 44,
      "outputs": []
    },
    {
      "cell_type": "code",
      "source": [
        "import matplotlib.pyplot as plt\n",
        "markers = ['s','x','o']\n",
        "colors = ['r','g','b']\n",
        "\n",
        "fig = plt.figure(figsize=(10,10))\n",
        "ax0 = fig.add_subplot(111)\n",
        "\n",
        "for l,m,c in zip(np.unique(y_train),markers,colors):\n",
        "  ax0.scatter(X_train[:,0][y_train==l],X_train[:,1][y_train==l],c=c,marker=m)"
      ],
      "metadata": {
        "colab": {
          "base_uri": "https://localhost:8080/",
          "height": 592
        },
        "id": "I4kojd2q1bJ9",
        "outputId": "2e9cf4f2-15a3-4054-8a56-ecf70b72bd84"
      },
      "execution_count": 45,
      "outputs": [
        {
          "output_type": "display_data",
          "data": {
            "text/plain": [
              "<Figure size 720x720 with 1 Axes>"
            ],
            "image/png": "[encoded data removed]"
          },
          "metadata": {
            "needs_background": "light"
          }
        }
      ]
    },
    {
      "cell_type": "code",
      "source": [
        "# LDA\n",
        "from sklearn.discriminant_analysis import LinearDiscriminantAnalysis as LDA\n",
        "\n",
        "lda = LDA(n_components=2)\n",
        "X_train_post_lda = lda.fit_transform(X_train, y_train)\n",
        "X_test_post_lda = lda.transform(X_test)"
      ],
      "metadata": {
        "id": "qz1ZHbvc0VPw"
      },
      "execution_count": 46,
      "outputs": []
    },
    {
      "cell_type": "code",
      "source": [
        "# Visualizing LDA \n",
        "fig = plt.figure(figsize=(10,10))\n",
        "ax0 = fig.add_subplot(111)\n",
        "\n",
        "for l,m,c in zip(np.unique(y_train),markers,colors):\n",
        "  ax0.scatter(X_train_post_lda[:,0][y_train==l],X_train_post_lda[:,1][y_train==l],c=c,marker=m)"
      ],
      "metadata": {
        "colab": {
          "base_uri": "https://localhost:8080/",
          "height": 592
        },
        "id": "VobgNt9G0cOf",
        "outputId": "a7284be0-f03d-4c00-a183-bb8cd9df9221"
      },
      "execution_count": 50,
      "outputs": [
        {
          "output_type": "display_data",
          "data": {
            "text/plain": [
              "<Figure size 720x720 with 1 Axes>"
            ],
            "image/png": "[encoded data removed]"
          },
          "metadata": {
            "needs_background": "light"
          }
        }
      ]
    },
    {
      "cell_type": "markdown",
      "source": [
        "## t-SNE\n",
        "reference : [link text](https://towardsdatascience.com/t-sne-machine-learning-algorithm-a-great-tool-for-dimensionality-reduction-in-python-ec01552f1a1e)"
      ],
      "metadata": {
        "id": "YN23XiPnl_1G"
      }
    },
    {
      "cell_type": "code",
      "source": [
        "# Data manipulation\n",
        "import pandas as pd # for data manipulation\n",
        "\n",
        "# Visualization\n",
        "import plotly.express as px # for data visualization\n",
        "import matplotlib.pyplot as plt # for showing handwritten digits\n",
        "\n",
        "# Skleran\n",
        "from sklearn.datasets import load_digits # for MNIST data\n",
        "from sklearn.manifold import TSNE # for t-SNE dimensionality reduction"
      ],
      "metadata": {
        "id": "B3cITPdEmE6m"
      },
      "execution_count": 1,
      "outputs": []
    },
    {
      "cell_type": "code",
      "source": [
        "## Loading Data of MNIST\n",
        "digits = load_digits()\n",
        "\n",
        "# Load arrays containing digit data (64 pixels per image) and their true labels\n",
        "X, y = load_digits(return_X_y=True)\n",
        "\n",
        "# Some stats\n",
        "print('Shape of digit images: ', digits.images.shape)\n",
        "print('Shape of X (training data): ', X.shape)\n",
        "print('Shape of y (true labels): ', y.shape)"
      ],
      "metadata": {
        "colab": {
          "base_uri": "https://localhost:8080/"
        },
        "id": "5RZUYSR6mKKV",
        "outputId": "1d305461-e37b-414c-8bae-d2995f498727"
      },
      "execution_count": 2,
      "outputs": [
        {
          "output_type": "stream",
          "name": "stdout",
          "text": [
            "Shape of digit images:  (1797, 8, 8)\n",
            "Shape of X (training data):  (1797, 64)\n",
            "Shape of y (true labels):  (1797,)\n"
          ]
        }
      ]
    },
    {
      "cell_type": "code",
      "source": [
        "# Display images of the first 10 digits\n",
        "fig, axs = plt.subplots(2, 5, sharey=False, tight_layout=True, figsize=(12,6), facecolor='white')\n",
        "n=0\n",
        "plt.gray() \n",
        "for i in range(0,2):\n",
        "    for j in range(0,5):\n",
        "        axs[i,j].matshow(digits.images[n])\n",
        "        axs[i,j].set(title=y[n])\n",
        "        n=n+1\n",
        "plt.show() "
      ],
      "metadata": {
        "colab": {
          "base_uri": "https://localhost:8080/",
          "height": 408
        },
        "id": "CyErX9oImT-G",
        "outputId": "8fc50803-8729-4b82-dd0d-3389b3e327be"
      },
      "execution_count": 3,
      "outputs": [
        {
          "output_type": "display_data",
          "data": {
            "text/plain": [
              "<Figure size 864x432 with 10 Axes>"
            ],
            "image/png": "[encoded data removed]"
          },
          "metadata": {}
        }
      ]
    },
    {
      "cell_type": "code",
      "source": [
        "# Configure t-SNE function. \n",
        "embed = TSNE(\n",
        "    n_components=2, # default=2, Dimension of the embedded space.\n",
        "    perplexity=10, # default=30.0, The perplexity is related to the number of nearest neighbors that is used in other manifold learning algorithms.\n",
        "    early_exaggeration=12, # default=12.0, Controls how tight natural clusters in the original space are in the embedded space and how much space will be between them. \n",
        "    learning_rate=200, # default=200.0, The learning rate for t-SNE is usually in the range [10.0, 1000.0]. If the learning rate is too high, the data may look like a ‘ball’ with any point approximately equidistant from its nearest neighbours. If the learning rate is too low, most points may look compressed in a dense cloud with few outliers.\n",
        "    n_iter=5000, # default=1000, Maximum number of iterations for the optimization. Should be at least 250.\n",
        "    n_iter_without_progress=300, # default=300, Maximum number of iterations without progress before we abort the optimization, used after 250 initial iterations with early exaggeration. \n",
        "    min_grad_norm=0.0000001, # default=1e-7, If the gradient norm is below this threshold, the optimization will be stopped.\n",
        "    metric='euclidean', # default=’euclidean’, The metric to use when calculating distance between instances in a feature array.\n",
        "    init='random', # {‘random’, ‘pca’} or ndarray of shape (n_samples, n_components), default=’random’. Initialization of embedding\n",
        "    verbose=0, # default=0, Verbosity level.\n",
        "    random_state=42, # RandomState instance or None, default=None. Determines the random number generator. Pass an int for reproducible results across multiple function calls.\n",
        "    method='barnes_hut', # default=’barnes_hut’. By default the gradient calculation algorithm uses Barnes-Hut approximation running in O(NlogN) time. method=’exact’ will run on the slower, but exact, algorithm in O(N^2) time. The exact algorithm should be used when nearest-neighbor errors need to be better than 3%. \n",
        "    angle=0.5, # default=0.5, Only used if method=’barnes_hut’ This is the trade-off between speed and accuracy for Barnes-Hut T-SNE.\n",
        "    n_jobs=-1, # default=None, The number of parallel jobs to run for neighbors search. -1 means using all processors. \n",
        ")\n",
        "\n",
        "# Transform X\n",
        "X_embedded = embed.fit_transform(X)\n",
        "\n",
        "# Print results\n",
        "print('New Shape of X: ', X_embedded.shape)\n",
        "print('Kullback-Leibler divergence after optimization: ', embed.kl_divergence_)\n",
        "print('No. of iterations: ', embed.n_iter_)\n",
        "#print('Embedding vectors: ', embed.embedding_)"
      ],
      "metadata": {
        "colab": {
          "base_uri": "https://localhost:8080/"
        },
        "id": "_ZCNqaTymYsR",
        "outputId": "60c13c8d-237f-4ecc-d057-bcb1f344e292"
      },
      "execution_count": 4,
      "outputs": [
        {
          "output_type": "stream",
          "name": "stdout",
          "text": [
            "New Shape of X:  (1797, 2)\n",
            "Kullback-Leibler divergence after optimization:  0.8261755704879761\n",
            "No. of iterations:  4999\n"
          ]
        }
      ]
    },
    {
      "cell_type": "code",
      "source": [
        "# Create a scatter plot\n",
        "fig = px.scatter(None, x=X_embedded[:,0], y=X_embedded[:,1], \n",
        "                 labels={\n",
        "                     \"x\": \"Dimension 1\",\n",
        "                     \"y\": \"Dimension 2\",\n",
        "                 },\n",
        "                 opacity=1, color=y.astype(str))\n",
        "\n",
        "# Change chart background color\n",
        "fig.update_layout(dict(plot_bgcolor = 'white'))\n",
        "\n",
        "# Update axes lines\n",
        "fig.update_xaxes(showgrid=True, gridwidth=1, gridcolor='lightgrey', \n",
        "                 zeroline=True, zerolinewidth=1, zerolinecolor='lightgrey', \n",
        "                 showline=True, linewidth=1, linecolor='black')\n",
        "\n",
        "fig.update_yaxes(showgrid=True, gridwidth=1, gridcolor='lightgrey', \n",
        "                 zeroline=True, zerolinewidth=1, zerolinecolor='lightgrey', \n",
        "                 showline=True, linewidth=1, linecolor='black')\n",
        "\n",
        "# Set figure title\n",
        "fig.update_layout(title_text=\"t-SNE\")\n",
        "\n",
        "# Update marker size\n",
        "fig.update_traces(marker=dict(size=3))\n",
        "\n",
        "fig.show()"
      ],
      "metadata": {
        "colab": {
          "base_uri": "https://localhost:8080/",
          "height": 542
        },
        "id": "pPNBFMYWmi7O",
        "outputId": "c5cb4d5e-d744-4217-88a3-42f3457759a1"
      },
      "execution_count": 5,
      "outputs": [
        {
          "output_type": "display_data",
          "data": {
            "text/html": [
              "<html>\n",
              "<head><meta charset=\"utf-8\" /></head>\n",
              "<body>\n",
              "    <div>            <script src=\"https://cdnjs.cloudflare.com/ajax/libs/mathjax/2.7.5/MathJax.js?config=TeX-AMS-MML_SVG\"></script><script type=\"text/javascript\">if (window.MathJax) {MathJax.Hub.Config({SVG: {font: \"STIX-Web\"}});}</script>                <script type=\"text/javascript\">window.PlotlyConfig = {MathJaxConfig: 'local'};</script>\n",
              "        <script src=\"https://cdn.plot.ly/plotly-2.8.3.min.js\"></script>                <div id=\"b1fa672b-2cb6-40d8-bf4b-93efa74970ed\" class=\"plotly-graph-div\" style=\"height:525px; width:100%;\"></div>            <script type=\"text/javascript\">                                    window.PLOTLYENV=window.PLOTLYENV || {};                                    if (document.getElementById(\"b1fa672b-2cb6-40d8-bf4b-93efa74970ed\")) {                    Plotly.newPlot(                        \"b1fa672b-2cb6-40d8-bf4b-93efa74970ed\",                        [{\"hovertemplate\":\"color=0<br>Dimension 1=%{x}<br>Dimension 2=%{y}<extra></extra>\",\"legendgroup\":\"0\",\"marker\":{\"color\":\"#636efa\",\"opacity\":1,\"symbol\":\"circle\",\"size\":3},\"mode\":\"markers\",\"name\":\"0\",\"showlegend\":true,\"x\":[66.56632232666016,67.43862915039062,51.30695343017578,77.9063949584961,48.96529006958008,61.720947265625,52.102294921875,49.455543518066406,49.0524787902832,46.990962982177734,47.99846267700195,46.949005126953125,48.830135345458984,53.85276412963867,42.547298431396484,50.479331970214844,47.52767562866211,57.81474685668945,48.091243743896484,49.941593170166016,48.09198760986328,48.04655456542969,47.90461730957031,46.910823822021484,46.71931457519531,48.85449981689453,70.48564147949219,44.005733489990234,68.71507263183594,70.58723449707031,74.55498504638672,61.72341537475586,63.694759368896484,63.85725021362305,67.59688568115234,66.3873062133789,68.80418395996094,45.678382873535156,48.94529342651367,42.54372024536133,46.129207611083984,48.6319694519043,42.106449127197266,42.87241744995117,49.496639251708984,50.43459701538086,55.36772537231445,56.94038009643555,54.351016998291016,49.43598937988281,40.1293830871582,58.84318923950195,58.605892181396484,61.54535675048828,60.504112243652344,59.04901885986328,58.35418701171875,60.85370635986328,48.564300537109375,65.22435760498047,63.115535736083984,56.50948715209961,59.95015335083008,61.67720031738281,58.57328796386719,57.371978759765625,72.48069763183594,56.704166412353516,67.93256378173828,46.69347381591797,54.27513122558594,66.88231658935547,50.4768180847168,53.900001525878906,46.02263259887695,67.21841430664062,57.470333099365234,56.42792892456055,61.88917541503906,52.86798095703125,70.95669555664062,64.57296752929688,65.23831939697266,72.90652465820312,72.43612670898438,76.90580749511719,52.517730712890625,49.92068099975586,52.33248519897461,66.1055908203125,63.77195739746094,59.315677642822266,58.779563903808594,55.426876068115234,56.38780212402344,53.33066940307617,57.21791458129883,61.824928283691406,50.73860549926758,55.48908996582031,58.247894287109375,68.8782958984375,50.56505584716797,42.70592498779297,54.20115280151367,51.445152282714844,67.66866302490234,67.92301177978516,50.94252395629883,55.33096694946289,50.65521240234375,48.41904067993164,69.70781707763672,58.48174285888672,57.06875228881836,68.21197509765625,70.0465316772461,72.72234344482422,76.0898208618164,77.63384246826172,76.58660125732422,71.38865661621094,73.89031219482422,72.75611114501953,72.02848052978516,71.15968322753906,73.44622802734375,42.62439727783203,62.164920806884766,60.287532806396484,46.703060150146484,51.16373825073242,57.1992301940918,56.48560333251953,77.45044708251953,65.38865661621094,67.81832885742188,59.04118728637695,60.66143035888672,51.845848083496094,57.555458068847656,48.605804443359375,62.634864807128906,47.7872428894043,48.1976318359375,50.4406852722168,50.067481994628906,47.19550704956055,45.60911178588867,46.87751388549805,51.22691345214844,47.980735778808594,52.945369720458984,55.2008171081543,54.809783935546875,56.083168029785156,51.229820251464844,60.44480514526367,52.90550231933594,70.8990478515625,53.550537109375,53.388370513916016,52.526790618896484,52.59567642211914,65.00460815429688,47.18793487548828,49.89605712890625,40.94585418701172,67.43193054199219,55.675899505615234,42.59856414794922,66.46815490722656,41.27473068237305,43.14311218261719,68.83995819091797,41.232276916503906,52.5799560546875,46.93254470825195],\"xaxis\":\"x\",\"y\":[69.87629699707031,63.006587982177734,47.72134017944336,67.21800231933594,41.292259216308594,63.03295135498047,57.229862213134766,46.86910629272461,49.41350555419922,70.15997314453125,59.522865295410156,50.820213317871094,49.1012077331543,60.924400329589844,54.20835494995117,52.56532669067383,42.11566925048828,55.80084991455078,58.289859771728516,46.3082389831543,47.73264694213867,54.07342529296875,46.33218765258789,49.873023986816406,59.16947937011719,52.599098205566406,61.54151916503906,63.27372741699219,61.26436996459961,62.922813415527344,69.57240295410156,63.19935607910156,64.75780487060547,65.62342834472656,57.6004638671875,63.26565933227539,58.53535842895508,64.72299194335938,65.35641479492188,58.350433349609375,58.075904846191406,53.596778869628906,53.19318389892578,57.30497741699219,59.56149673461914,56.033748626708984,66.29462432861328,55.337528228759766,67.42742156982422,60.59259796142578,58.50202560424805,60.48504638671875,57.242401123046875,67.47205352783203,57.73250198364258,56.684852600097656,67.09193420410156,53.28330993652344,76.09642791748047,61.40341567993164,48.63058853149414,63.69687271118164,56.1339111328125,57.30936813354492,57.9020881652832,43.004859924316406,75.7594223022461,43.298789978027344,58.73020935058594,57.41353225708008,45.7779426574707,73.52603149414062,44.55524444580078,45.20881271362305,42.535980224609375,57.19847106933594,47.66374588012695,53.45611572265625,73.25164794921875,76.2169189453125,63.80915451049805,64.40292358398438,63.74210739135742,58.695682525634766,59.74010467529297,65.87165832519531,47.653724670410156,41.78800582885742,69.5873031616211,69.66670989990234,51.22279739379883,68.47833251953125,68.19684600830078,62.20078659057617,69.93791961669922,69.1634292602539,70.38429260253906,73.26634216308594,70.37189483642578,67.94295501708984,71.22956848144531,68.6197738647461,59.28303146362305,69.54248046875,64.0284652709961,55.11603927612305,45.89514923095703,45.86705780029297,77.2889175415039,63.39646911621094,77.64781951904297,76.53253173828125,68.22210693359375,65.88041687011719,61.28187561035156,70.42610931396484,57.93267822265625,74.04194641113281,69.30233001708984,69.09835815429688,69.32320404052734,73.763671875,74.49683380126953,75.28370666503906,73.74022674560547,56.87680435180664,76.35453033447266,69.6245346069336,49.43330001831055,50.253849029541016,75.0790023803711,40.85610580444336,46.62068557739258,47.02931213378906,66.50548553466797,59.95035171508789,69.39688110351562,46.97505569458008,49.59507369995117,41.1624755859375,68.82621765136719,62.66209030151367,66.8310317993164,68.1089096069336,67.10447692871094,66.694580078125,66.63282012939453,75.0098648071289,60.02484893798828,74.21002960205078,67.14691162109375,68.49955749511719,68.30973052978516,47.56584930419922,48.42509460449219,50.31623077392578,38.873573303222656,51.1489372253418,39.177345275878906,67.6594467163086,50.348140716552734,39.18659973144531,76.31229400634766,44.32649230957031,60.48997116088867,62.13167190551758,57.58782958984375,59.586036682128906,68.08393096923828,43.64347457885742,62.15176010131836,66.2779312133789,52.34016799926758,62.57621765136719,54.56692886352539,59.37131881713867,51.2208366394043,42.160396575927734],\"yaxis\":\"y\",\"type\":\"scattergl\"},{\"hovertemplate\":\"color=1<br>Dimension 1=%{x}<br>Dimension 2=%{y}<extra></extra>\",\"legendgroup\":\"1\",\"marker\":{\"color\":\"#EF553B\",\"opacity\":1,\"symbol\":\"circle\",\"size\":3},\"mode\":\"markers\",\"name\":\"1\",\"showlegend\":true,\"x\":[7.794949054718018,5.193401336669922,12.365706443786621,6.261376857757568,14.7711763381958,15.430062294006348,15.515795707702637,15.600810050964355,6.827653884887695,6.127375602722168,7.764044761657715,22.96577262878418,4.251206398010254,8.772011756896973,4.621091365814209,4.460087776184082,8.415888786315918,5.807146072387695,9.779541969299316,3.6842637062072754,8.702699661254883,1.8968344926834106,4.762694835662842,7.883460521697998,4.6442484855651855,7.591068267822266,16.87126350402832,4.7348480224609375,6.957775115966797,25.864248275756836,11.687581062316895,2.458475351333618,21.71200942993164,6.153691291809082,5.30669641494751,13.963640213012695,19.557113647460938,13.571671485900879,25.27752685546875,13.78891658782959,11.038214683532715,10.064855575561523,11.567168235778809,11.844383239746094,149.4703369140625,12.261293411254883,12.138286590576172,12.240455627441406,13.37315845489502,10.835237503051758,11.419757843017578,10.633749961853027,147.712890625,148.31219482421875,145.17913818359375,145.79063415527344,143.71156311035156,145.76393127441406,143.89703369140625,144.22532653808594,144.49368286132812,143.4705047607422,147.01808166503906,20.54736328125,147.90643310546875,17.652292251586914,24.639814376831055,24.24747085571289,15.492050170898438,15.651093482971191,11.224949836730957,20.7677001953125,10.548184394836426,23.24488067626953,24.463441848754883,20.18816375732422,20.398391723632812,18.46930503845215,15.181351661682129,11.287985801696777,11.89135456085205,16.907529830932617,15.807642936706543,148.17327880859375,10.357390403747559,26.56886100769043,17.261613845825195,24.40920066833496,22.51764678955078,14.452359199523926,10.012507438659668,147.8079376220703,148.55372619628906,146.84423828125,148.98143005371094,150.39349365234375,149.86146545410156,148.7845916748047,149.45761108398438,147.37799072265625,148.9717559814453,149.4943389892578,149.81922912597656,149.21905517578125,14.510175704956055,12.003169059753418,17.653785705566406,14.075758934020996,22.188106536865234,22.035587310791016,17.084306716918945,24.713773727416992,16.967138290405273,12.160886764526367,13.401956558227539,26.76140594482422,23.07999610900879,16.80301284790039,15.919412612915039,20.088640213012695,11.98937702178955,18.838848114013672,19.46257781982422,24.89496612548828,15.47225284576416,18.612003326416016,24.445037841796875,24.718547821044922,27.896278381347656,20.725061416625977,16.50972557067871,19.186172485351562,4.068294525146484,20.262022018432617,16.23958969116211,13.508007049560547,14.303459167480469,15.624785423278809,11.423276901245117,14.680458068847656,19.134910583496094,22.682817459106445,22.40876007080078,15.343779563903809,13.220488548278809,13.256916046142578,9.543179512023926,10.05595588684082,12.956064224243164,13.013103485107422,12.144513130187988,15.605045318603516,13.214759826660156,11.653072357177734,10.44242000579834,14.183673858642578,19.658458709716797,25.85260581970215,26.59891128540039,15.807159423828125,22.136474609375,27.134592056274414,21.457042694091797,21.36785316467285,18.76407814025879,16.452789306640625,17.048858642578125,15.586185455322266,15.380529403686523,22.165861129760742,18.954898834228516,25.522043228149414,21.090717315673828,16.71354866027832,25.73379135131836,14.257441520690918,16.055971145629883,8.181496620178223,12.171284675598145,23.89882469177246,16.233964920043945,15.67967414855957],\"xaxis\":\"x\",\"y\":[-80.75434875488281,-89.6476821899414,-90.58206939697266,-86.47972869873047,-87.06001281738281,-88.44778442382812,-85.71307373046875,-89.74913024902344,-83.87347412109375,-86.10137176513672,-81.00730895996094,-53.11552810668945,-91.80878448486328,-99.3194808959961,-92.8125228881836,-94.98473358154297,-94.17056274414062,-95.5544204711914,-92.80284881591797,-89.7459945678711,-93.44401550292969,-89.49456024169922,-94.98786926269531,-90.06002807617188,-89.75965118408203,-90.50167846679688,-52.377098083496094,-52.209781646728516,-50.671607971191406,-43.35578918457031,-50.2950553894043,-89.50968170166016,-54.25840377807617,-51.87812805175781,-51.947391510009766,-53.417171478271484,-59.30225372314453,-60.98140335083008,-46.5167236328125,-98.7947006225586,-85.91746520996094,-90.31087493896484,-92.37686920166016,-85.64551544189453,-30.793045043945312,-90.9019775390625,-84.87494659423828,-83.6930160522461,-89.38042449951172,-87.88980865478516,-86.69456481933594,-91.3715591430664,-25.980613708496094,-30.947174072265625,-30.091049194335938,-31.492168426513672,-28.625947952270508,-31.887001037597656,-27.628944396972656,-29.798063278198242,-27.65034294128418,-30.35097312927246,-26.10789680480957,-39.621070861816406,-23.810958862304688,-47.092071533203125,-42.6359748840332,-43.27074432373047,-48.62262725830078,-48.52570724487305,-55.7241325378418,-46.82598876953125,-55.47488021850586,-47.45014953613281,-46.82142639160156,-45.705474853515625,-47.45189666748047,-48.17727279663086,-60.57323455810547,-62.442283630371094,-55.64448547363281,-40.75489044189453,-45.249305725097656,-34.40503692626953,-46.27150344848633,-44.143028259277344,-51.9111442565918,-57.18748092651367,-56.06548309326172,-57.54371643066406,-47.1746826171875,-33.10809326171875,-33.79404830932617,-34.417396545410156,-23.926511764526367,-28.346263885498047,-29.672061920166016,-24.836380004882812,-28.21460723876953,-33.41983413696289,-28.49833106994629,-25.697675704956055,-25.30057144165039,-29.772193908691406,-41.401153564453125,-49.21958923339844,-58.8281364440918,-45.03116989135742,-54.89122772216797,-47.11631393432617,-59.625030517578125,-53.114044189453125,-58.43849563598633,-45.151824951171875,-54.17901611328125,-55.8482551574707,-54.59208679199219,-87.01744842529297,-87.35737609863281,-76.82617950439453,-48.1843376159668,-78.9576187133789,-63.65815734863281,-54.345516204833984,-59.80515670776367,-77.61331176757812,-55.782596588134766,-55.32050704956055,-54.48811340332031,-75.35674285888672,-100.64385223388672,-78.2824935913086,-95.92282104492188,-63.18656539916992,-61.428688049316406,-93.15447235107422,-58.63391876220703,-86.36630249023438,-62.89255905151367,-62.52594757080078,-59.75086975097656,-60.99771499633789,-62.0599479675293,-99.7812271118164,-100.35810852050781,-95.37147521972656,-99.6484146118164,-100.44956970214844,-101.36438751220703,-101.74022674560547,-102.4529037475586,-100.26667022705078,-95.4698486328125,-100.43367004394531,-101.08717346191406,-101.85464477539062,-56.66536331176758,-52.07056427001953,-51.24347686767578,-64.4206314086914,-63.227439880371094,-51.34962463378906,-60.006587982177734,-62.82057571411133,-64.63420867919922,-65.0118637084961,-60.57016372680664,-63.535308837890625,-64.53803253173828,-39.961910247802734,-44.63528823852539,-41.96929931640625,-39.752899169921875,-45.923709869384766,-40.527931213378906,-44.57961654663086,-40.04568862915039,-55.82649612426758,-46.30980682373047,-42.08839797973633,-41.04009246826172,-41.470279693603516],\"yaxis\":\"y\",\"type\":\"scattergl\"},{\"hovertemplate\":\"color=2<br>Dimension 1=%{x}<br>Dimension 2=%{y}<extra></extra>\",\"legendgroup\":\"2\",\"marker\":{\"color\":\"#00cc96\",\"opacity\":1,\"symbol\":\"circle\",\"size\":3},\"mode\":\"markers\",\"name\":\"2\",\"showlegend\":true,\"x\":[38.788639068603516,78.12057495117188,73.44646453857422,40.97404098510742,40.44575500488281,41.068138122558594,38.95591735839844,39.8841667175293,40.39350891113281,81.85474395751953,69.48362731933594,40.932010650634766,41.250244140625,74.33687591552734,71.61237335205078,63.230655670166016,68.92426300048828,71.20355224609375,88.45050048828125,87.38427734375,63.04132080078125,70.457275390625,73.7767333984375,87.7720718383789,87.7476806640625,69.21697235107422,76.2647705078125,77.09809875488281,76.14904022216797,77.2422866821289,73.52212524414062,75.75419616699219,78.64252471923828,74.5224380493164,77.07073974609375,74.43817138671875,75.66433715820312,77.07960510253906,79.71122741699219,76.80402374267578,80.4905776977539,85.59951782226562,81.07276916503906,80.83708190917969,80.515380859375,80.93876647949219,80.36622619628906,82.42252349853516,89.69220733642578,82.57865142822266,87.05989837646484,39.29093933105469,73.85297393798828,66.51313781738281,67.01225280761719,68.5680160522461,67.46784210205078,71.98942565917969,67.46125793457031,68.2320327758789,77.38689422607422,82.67688751220703,66.77804565429688,75.57699584960938,67.30907440185547,65.54962158203125,65.89901733398438,62.048919677734375,63.220619201660156,64.33903503417969,61.894779205322266,62.273921966552734,63.58357620239258,66.95063018798828,80.2056884765625,64.23600006103516,64.2932357788086,64.12406921386719,80.66073608398438,80.1115951538086,81.27458190917969,70.93880462646484,86.70289611816406,80.5655288696289,88.6866683959961,83.05648040771484,85.45349884033203,64.34586334228516,84.07849884033203,-27.63373565673828,63.71084976196289,74.02395629882812,89.76124572753906,76.56292724609375,77.60725402832031,74.68025207519531,75.6319808959961,73.009765625,74.71773529052734,84.61665344238281,74.47171020507812,74.91590881347656,87.364990234375,80.94761657714844,70.31587982177734,71.88471984863281,70.00155639648438,72.17842102050781,80.97884368896484,70.55838012695312,76.13167572021484,87.72981262207031,70.4498519897461,74.09515380859375,80.80831146240234,74.261962890625,60.877166748046875,67.39327239990234,62.90399932861328,79.25021362304688,73.70945739746094,72.28506469726562,64.76795959472656,73.51097106933594,81.10991668701172,78.54894256591797,72.27344512939453,68.98055267333984,75.88278198242188,69.71884155273438,70.6178970336914,72.15644073486328,75.12112426757812,71.64639282226562,79.97754669189453,74.23455810546875,72.52786254882812,71.96356964111328,72.99948120117188,71.8388900756836,88.33416748046875,90.0809097290039,87.12236785888672,90.50544738769531,88.60596466064453,90.09611511230469,91.059326171875,88.23917388916016,89.63411712646484,88.80305480957031,89.17648315429688,67.59440612792969,91.2574462890625,73.21076202392578,76.87881469726562,81.04114532470703,73.99958038330078,77.09952545166016,75.23966979980469,65.99750518798828,76.46129608154297,81.52550506591797,87.55181884765625,69.45989227294922,81.54271697998047,65.83147430419922,58.797996520996094,89.61555480957031,87.07115173339844,89.07757568359375,91.04393005371094,57.14580154418945,61.02350997924805,58.835758209228516,90.814453125,86.46388244628906,91.24042510986328],\"xaxis\":\"x\",\"y\":[-23.260793685913086,-54.80120086669922,-61.790184020996094,-24.81366729736328,-22.35680389404297,-21.90065574645996,-23.046945571899414,-21.50851821899414,-20.654064178466797,-72.87138366699219,-62.963191986083984,-23.681032180786133,-25.044038772583008,-81.63258361816406,-83.10696411132812,-70.06248474121094,-78.12649536132812,-82.45940399169922,-79.63224792480469,-69.68038940429688,-70.48161315917969,-80.81397247314453,-81.52334594726562,-79.50259399414062,-80.59283447265625,-78.0527572631836,-72.130615234375,-71.607421875,-77.57461547851562,-81.00440216064453,-79.04689025878906,-70.87428283691406,-72.4608383178711,-71.08282470703125,-79.48863220214844,-78.50592803955078,-73.14375305175781,-79.13054656982422,-74.31256866455078,-55.59678268432617,-53.39613723754883,-61.71299362182617,-54.07234191894531,-61.917415618896484,-60.69336700439453,-52.268333435058594,-56.048099517822266,-64.64476013183594,-66.75782012939453,-65.18425750732422,-62.72236633300781,-24.98097038269043,-46.71469497680664,-52.319454193115234,-51.923118591308594,-55.65259552001953,-55.572811126708984,-54.12079620361328,-55.793846130371094,-51.312522888183594,-70.55909729003906,-71.70919036865234,-54.58034896850586,-68.94577026367188,-56.50871658325195,-81.88505554199219,-77.8812484741211,-81.04410552978516,-73.62354278564453,-76.47728729248047,-73.24986267089844,-73.00574493408203,-74.92017364501953,-77.87120056152344,-82.62347412109375,-80.23487091064453,-79.6054458618164,-81.33966064453125,-77.37886047363281,-74.84766387939453,-81.57670593261719,-81.42366027832031,-80.56450653076172,-81.52349853515625,-67.57384490966797,-81.61201477050781,-80.74899291992188,-67.87863159179688,-81.32706451416016,25.26148796081543,-82.29705047607422,-67.004638671875,-75.65652465820312,-66.5052719116211,-65.4841079711914,-50.216915130615234,-55.49660110473633,-50.193092346191406,-50.888648986816406,-65.6551513671875,-55.294925689697266,-49.139225006103516,-60.904266357421875,-72.68107604980469,-61.95957946777344,-49.84375,-47.590213775634766,-50.646080017089844,-52.6461181640625,-43.684104919433594,-57.31258010864258,-61.4698600769043,-61.77663040161133,-47.23918533325195,-76.39244842529297,-66.44563293457031,-81.50247192382812,-69.01481628417969,-81.14649963378906,-79.7055892944336,-70.7930679321289,-73.08612060546875,-67.87932586669922,-74.72830200195312,-82.64427947998047,-78.7068099975586,-73.42745208740234,-46.36793899536133,-47.194793701171875,-45.54456329345703,-43.15947723388672,-42.5173225402832,-41.50695037841797,-43.572078704833984,-59.352046966552734,-40.90779113769531,-52.05170440673828,-45.69602584838867,-49.436729431152344,-47.73321533203125,-66.5976333618164,-68.80419158935547,-65.60103607177734,-59.70814514160156,-65.28790283203125,-63.07969284057617,-63.709136962890625,-64.01255798339844,-62.71380615234375,-77.686279296875,-60.49357223510742,-68.3435287475586,-63.376285552978516,-61.70511245727539,-41.8151741027832,-51.15612030029297,-40.14992904663086,-65.95175170898438,-40.20043182373047,-81.63330078125,-41.6777458190918,-77.02147674560547,-70.2909164428711,-43.88253402709961,-63.375484466552734,-83.46121215820312,-78.35369110107422,-77.43702697753906,-66.4994888305664,-77.16547393798828,-69.05349731445312,-77.94025421142578,-80.32564544677734,-78.45675659179688,-59.60676574707031,-62.452857971191406,-66.20831298828125],\"yaxis\":\"y\",\"type\":\"scattergl\"},{\"hovertemplate\":\"color=3<br>Dimension 1=%{x}<br>Dimension 2=%{y}<extra></extra>\",\"legendgroup\":\"3\",\"marker\":{\"color\":\"#ab63fa\",\"opacity\":1,\"symbol\":\"circle\",\"size\":3},\"mode\":\"markers\",\"name\":\"3\",\"showlegend\":true,\"x\":[-65.34969329833984,-40.449363708496094,-30.200902938842773,-43.253055572509766,-37.22197341918945,-42.5906867980957,-41.10652160644531,-36.786582946777344,-34.384159088134766,-40.52495574951172,-35.638668060302734,-35.45521926879883,-19.330354690551758,-33.50994873046875,-40.45773696899414,-32.64051055908203,-35.454261779785156,-39.944580078125,-37.35408401489258,-30.565542221069336,-37.63284683227539,-34.80809783935547,-35.4830207824707,-37.02687454223633,-31.57842254638672,-29.339021682739258,-66.17607116699219,-54.70006561279297,-49.5299072265625,-53.4145393371582,-63.769527435302734,-50.50328826904297,-57.28888702392578,-57.16582107543945,-54.12661361694336,-40.82518768310547,-64.24797821044922,-65.03511047363281,-50.67111587524414,-36.563846588134766,-53.72195053100586,-73.5296630859375,-62.3210563659668,-71.65162658691406,-72.00253295898438,-72.22364044189453,-72.31214141845703,-73.22025299072266,-72.56340026855469,-73.0355224609375,-69.92613983154297,-69.50651550292969,-74.73694610595703,-49.20600509643555,-47.45847702026367,-45.55971145629883,-49.4183235168457,-50.930686950683594,-47.381587982177734,-46.30878448486328,-48.78819274902344,-51.07121658325195,-47.14948654174805,-46.40744400024414,-48.95749282836914,-48.42612838745117,-52.091983795166016,-49.350013732910156,-55.572181701660156,-45.020652770996094,-49.88457489013672,-50.87866973876953,-48.394691467285156,-56.087825775146484,-50.35581588745117,-47.9051513671875,-68.1819076538086,-68.17079162597656,-56.37483596801758,-66.56713104248047,-61.8970947265625,-58.59379959106445,-57.74414825439453,-58.466552734375,-58.15481948852539,-38.8162956237793,-38.515098571777344,-44.05340576171875,-64.92040252685547,-61.58662796020508,-62.525047302246094,-44.19887924194336,-59.1160774230957,-64.06378936767578,-68.10904693603516,-67.47986602783203,-62.11064529418945,-63.810462951660156,-59.67622756958008,-64.77100372314453,-59.872474670410156,-58.70832443237305,-61.76435852050781,-61.23862838745117,-64.7716064453125,-49.89006423950195,-49.05893325805664,-46.862953186035156,-43.97470474243164,-46.52509307861328,-42.52574157714844,-50.06440734863281,-46.39046859741211,-48.27492141723633,-48.06184768676758,-22.17372703552246,-46.975730895996094,-44.965476989746094,-51.06687927246094,-42.17048263549805,-43.72614669799805,-21.82452964782715,-43.3776969909668,-36.12921905517578,-30.7331600189209,-41.245452880859375,-34.65436935424805,-40.41404724121094,-52.73817443847656,-44.157630920410156,-34.445621490478516,-37.29354476928711,-42.237640380859375,-67.48175811767578,-51.82426452636719,-43.293216705322266,-50.698097229003906,-48.33308792114258,-49.58022689819336,-52.029964447021484,-37.6386604309082,-58.55338668823242,-50.052528381347656,-52.0147819519043,-66.97184753417969,-69.7944564819336,-65.716064453125,-57.66056823730469,-69.470947265625,-58.88204574584961,-69.20320129394531,-52.68722915649414,-63.10377883911133,-57.7262077331543,-56.984580993652344,-57.72173309326172,-62.793033599853516,-43.16134262084961,-48.952415466308594,-37.82644271850586,-19.115934371948242,-19.488340377807617,-19.300947189331055,-1.447382926940918,-18.350013732910156,-39.1686897277832,-42.62874984741211,-40.362266540527344,-42.68691635131836,-41.73337936401367,-66.67045593261719,-24.89618682861328,-67.34249114990234,-22.343725204467773,-25.415010452270508,-24.93869972229004,-66.92292785644531,-24.140182495117188,-26.68682861328125,-35.01545715332031,-57.82209396362305,-67.35358428955078,-60.979454040527344],\"xaxis\":\"x\",\"y\":[4.732677459716797,14.63200569152832,24.992504119873047,27.951290130615234,19.85894012451172,27.531536102294922,27.28135871887207,23.90481185913086,26.930274963378906,26.400972366333008,23.00509262084961,24.287790298461914,17.16448974609375,28.253393173217773,27.68227195739746,25.79465675354004,18.798967361450195,28.282655715942383,27.448638916015625,26.958009719848633,26.262712478637695,26.771583557128906,27.320911407470703,25.613733291625977,26.929466247558594,25.08714485168457,5.213475227355957,15.376736640930176,0.33199751377105713,14.96328067779541,10.824804306030273,15.535054206848145,12.056483268737793,12.970414161682129,15.00023078918457,13.443053245544434,10.308159828186035,10.820999145507812,-0.7293252348899841,16.032499313354492,10.90296459197998,1.5193748474121094,-6.9057793617248535,-0.4818344712257385,-1.5368108749389648,2.524998426437378,-0.6674621105194092,3.5494954586029053,2.363186836242676,4.066493988037109,5.749152660369873,4.796811103820801,2.826525926589966,-19.941486358642578,-17.420835494995117,-18.081689834594727,-18.390859603881836,-19.470661163330078,-11.660295486450195,-20.460920333862305,-19.077009201049805,-18.987525939941406,-19.27272605895996,-18.552112579345703,-17.454574584960938,-17.491233825683594,14.53293514251709,12.988241195678711,16.804895401000977,10.10807991027832,11.004904747009277,14.262151718139648,10.845176696777344,13.284163475036621,13.727805137634277,11.710708618164062,11.505027770996094,11.503910064697266,16.593677520751953,12.681723594665527,10.163847923278809,3.9730186462402344,5.656330108642578,7.127800464630127,7.582889556884766,10.460210800170898,11.18272876739502,14.859102249145508,8.147686958312988,5.121233940124512,6.276031494140625,20.785181045532227,-4.584023475646973,0.03742421790957451,0.5229161977767944,-0.565003514289856,2.773637294769287,-0.08517203480005264,-5.848371982574463,-5.546448230743408,-6.8946332931518555,-4.289955139160156,-6.771320343017578,2.700288772583008,-5.465028285980225,-1.1506109237670898,-1.9042714834213257,2.4635844230651855,8.840459823608398,5.2599663734436035,8.785029411315918,6.792942047119141,5.276246547698975,0.3455108106136322,-0.1111646443605423,91.27611541748047,0.7169225215911865,4.859001159667969,5.629105091094971,11.461108207702637,0.9933096766471863,15.680548667907715,1.165299654006958,16.746753692626953,23.73161506652832,8.665092468261719,21.055082321166992,23.553516387939453,5.187994003295898,14.844173431396484,21.263099670410156,14.23176097869873,8.410296440124512,1.6691060066223145,3.2400500774383545,21.115636825561523,11.051299095153809,8.210633277893066,7.380648136138916,2.728780508041382,18.236080169677734,2.33084774017334,10.1707181930542,4.908049583435059,5.706310272216797,0.8192618489265442,7.57861328125,4.248202323913574,2.0154311656951904,0.8696221709251404,0.42224717140197754,1.1044148206710815,4.088016033172607,13.205363273620605,3.8502304553985596,0.8721351027488708,5.051494121551514,23.16863441467285,16.841022491455078,18.84784507751465,15.596770286560059,15.10401725769043,16.78702163696289,99.83777618408203,14.40990924835205,19.96802520751953,23.663593292236328,19.67169952392578,21.405527114868164,22.444942474365234,14.415149688720703,15.503265380859375,19.06539535522461,15.497164726257324,14.513016700744629,13.567672729492188,15.320188522338867,14.822957992553711,15.167946815490723,17.177249908447266,15.609342575073242,18.978544235229492,10.902077674865723],\"yaxis\":\"y\",\"type\":\"scattergl\"},{\"hovertemplate\":\"color=4<br>Dimension 1=%{x}<br>Dimension 2=%{y}<extra></extra>\",\"legendgroup\":\"4\",\"marker\":{\"color\":\"#FFA15A\",\"opacity\":1,\"symbol\":\"circle\",\"size\":3},\"mode\":\"markers\",\"name\":\"4\",\"showlegend\":true,\"x\":[-41.21455764770508,-51.98832702636719,-37.83928298950195,-53.13199234008789,-50.11115264892578,-56.72031784057617,-65.34805297851562,-39.64293670654297,-39.38239288330078,-55.04435348510742,-57.73112869262695,-65.28437042236328,-53.92831802368164,-24.394094467163086,-24.377506256103516,-28.0832576751709,-24.07526969909668,-30.130525588989258,-26.420610427856445,-24.679521560668945,-25.563817977905273,-26.712554931640625,-26.661954879760742,-26.804962158203125,-24.727598190307617,-58.58592987060547,-62.9112434387207,-60.39864730834961,-56.23252487182617,-60.193641662597656,-58.96751022338867,-62.96381378173828,-55.20572280883789,-65.88896179199219,-54.042606353759766,-59.18864822387695,-59.65998840332031,-54.306095123291016,-28.883657455444336,-35.94412612915039,-31.360017776489258,-32.283966064453125,-34.3386116027832,-31.50286293029785,-36.7574577331543,-34.48308181762695,-31.9031925201416,-36.40313720703125,-32.12001419067383,-36.94025421142578,-28.419031143188477,-55.439056396484375,-58.658721923828125,-45.54227066040039,-52.44563674926758,-52.512290954589844,-58.33641052246094,-54.99629592895508,-52.05384063720703,-52.6707878112793,-45.438907623291016,-53.16669464111328,-55.470680236816406,-54.254783630371094,-29.103824615478516,-28.975189208984375,-35.16085433959961,-31.71074867248535,-32.13818359375,-30.01880645751953,-30.277286529541016,-53.340938568115234,-73.125732421875,-45.70914840698242,-72.34368133544922,-44.15806198120117,-72.70038604736328,-40.575340270996094,-44.100364685058594,-43.93427658081055,-52.41621017456055,-46.766868591308594,-43.63161087036133,-48.654457092285156,-41.541717529296875,-54.557525634765625,-43.803096771240234,-50.63123321533203,-40.84572219848633,-53.462066650390625,-46.057861328125,-45.65985107421875,-37.2642707824707,-72.91610717773438,-35.888267517089844,-37.41846466064453,-53.16012954711914,-35.91181945800781,-41.470394134521484,-45.01619338989258,-73.10607147216797,-71.98492431640625,-68.45579528808594,-71.40609741210938,-72.28671264648438,-71.82909393310547,-73.60879516601562,-69.29107666015625,-64.10674285888672,-70.79263305664062,-67.32585144042969,-58.25692367553711,-58.61184310913086,-70.42179870605469,-57.44440841674805,-67.22293853759766,-54.89522933959961,-47.34663009643555,-50.08700180053711,-46.249752044677734,-52.630958557128906,-57.272605895996094,-53.03797912597656,-52.651058197021484,-54.95248794555664,-52.56295394897461,-58.31777572631836,-49.312095642089844,-54.7153434753418,-53.042686462402344,-52.97913360595703,-53.78301239013672,-52.375370025634766,-51.89849090576172,-54.064998626708984,-55.061771392822266,-51.69801712036133,-53.445068359375,-47.4697380065918,-47.72508239746094,-47.32847213745117,-54.09318923950195,-56.261146545410156,-46.1877326965332,-49.900638580322266,-47.042144775390625,-46.81794357299805,-48.350582122802734,-46.45785140991211,-50.414310455322266,-49.94782257080078,-47.121849060058594,-59.1072998046875,-46.990108489990234,-45.93179702758789,-62.23052215576172,-59.131439208984375,-61.18363952636719,-58.77838897705078,-61.87639617919922,6.289979934692383,6.330715179443359,-58.09046173095703,-62.64690017700195,-61.21419906616211,-60.819549560546875,5.589733600616455,-58.97163009643555,-41.827266693115234,-56.014102935791016,-55.33256912231445,-56.55534744262695,-59.466670989990234,-42.252071380615234,-43.42076873779297,-51.50361633300781,-40.92449951171875,-41.365028381347656,-48.310638427734375,-47.8963623046875,-51.469337463378906],\"xaxis\":\"x\",\"y\":[-97.61329650878906,-88.20980834960938,-93.15968322753906,-88.68730163574219,-91.77989959716797,-84.42036437988281,-68.53585815429688,-93.85597229003906,-94.2000503540039,-82.40291595458984,-84.19622802734375,-68.70523834228516,-88.87531280517578,-79.31243133544922,-80.72154998779297,-82.58445739746094,-83.10943603515625,-85.61021423339844,-87.5662841796875,-82.21875,-82.2869644165039,-87.54484558105469,-83.31416320800781,-84.27371215820312,-80.90345764160156,-84.05554962158203,-81.54251861572266,-77.70539855957031,-95.06470489501953,-79.72430419921875,-77.90596008300781,-81.06938934326172,-98.1534423828125,-75.14546966552734,-103.46733093261719,-87.52606201171875,-79.1580581665039,-89.43157196044922,-87.38932800292969,-82.22312927246094,-83.86493682861328,-80.72047424316406,-82.98139953613281,-85.183837890625,-92.50382232666016,-83.2579116821289,-82.59481048583984,-90.93223571777344,-85.74176025390625,-91.75167083740234,-87.53507232666016,-69.23795318603516,-71.3950424194336,-71.53651428222656,-72.49315643310547,-75.07546997070312,-70.28677368164062,-68.42753601074219,-71.54515838623047,-70.42752838134766,-68.34608459472656,-75.54439544677734,-67.8972396850586,-69.7438735961914,-82.10997772216797,-81.35491180419922,-92.38299560546875,-79.43345642089844,-78.67768096923828,-82.79234313964844,-81.95526885986328,-69.75436401367188,-84.7153091430664,-68.2608413696289,-83.61199951171875,-68.54619598388672,-84.12798309326172,-74.00503540039062,-77.14167785644531,-72.88494873046875,-96.75389099121094,-77.38722229003906,-74.59416961669922,-99.86703491210938,-72.83212280273438,-105.81886291503906,-73.70410919189453,-94.64456176757812,-73.7403793334961,-104.6937255859375,-97.82749938964844,-98.43743896484375,-100.12043762207031,-74.4146499633789,-100.81597900390625,-100.03485107421875,-109.68478393554688,-101.09722900390625,-99.93107604980469,-97.70562744140625,-75.7658462524414,-78.27305603027344,-76.43268585205078,-76.9468002319336,-77.25104522705078,-75.4606704711914,-77.0009536743164,-75.87593841552734,-74.0469741821289,-75.7400131225586,-75.11260986328125,-86.37174224853516,-90.65621185302734,-75.31707000732422,-87.69349670410156,-74.70745849609375,-87.79759979248047,-99.94306945800781,-76.15489959716797,-99.02729797363281,-104.26687622070312,-88.79954528808594,-92.59900665283203,-91.13265228271484,-98.26958465576172,-98.70001220703125,-89.9908676147461,-92.34291076660156,-81.97779083251953,-107.42418670654297,-108.47926330566406,-108.25279998779297,-106.65433502197266,-107.31845092773438,-100.521484375,-100.3877182006836,-107.78060913085938,-90.79073333740234,-93.94800567626953,-93.50614929199219,-92.80409240722656,-100.58314514160156,-69.34498596191406,-72.88921356201172,-73.36431121826172,-78.55904388427734,-72.29298400878906,-75.68392181396484,-74.98466491699219,-72.8619613647461,-74.03408813476562,-74.88764953613281,-70.55953216552734,-73.39568328857422,-77.42582702636719,-82.76841735839844,-83.3897705078125,-74.53041076660156,-80.17666625976562,-73.95823669433594,17.802507400512695,17.534151077270508,-79.4094009399414,-82.8056411743164,-83.48675537109375,-73.16279602050781,18.150165557861328,-81.26365661621094,-101.50177764892578,-95.04428100585938,-93.96372985839844,-93.28961944580078,-92.14278411865234,-100.01702117919922,-100.05242156982422,-100.79631042480469,-93.85498046875,-98.06718444824219,-101.85453796386719,-100.37390899658203,-95.00752258300781],\"yaxis\":\"y\",\"type\":\"scattergl\"},{\"hovertemplate\":\"color=5<br>Dimension 1=%{x}<br>Dimension 2=%{y}<extra></extra>\",\"legendgroup\":\"5\",\"marker\":{\"color\":\"#19d3f3\",\"opacity\":1,\"symbol\":\"circle\",\"size\":3},\"mode\":\"markers\",\"name\":\"5\",\"showlegend\":true,\"x\":[-106.37744140625,-77.63326263427734,-72.01508331298828,-90.6173324584961,-74.77169036865234,-74.71578216552734,-73.1136703491211,-90.59783935546875,-90.80571746826172,-88.63043975830078,-71.59612274169922,-69.82286834716797,-75.01152038574219,-67.17334747314453,-71.50129699707031,-59.92413330078125,-70.52580261230469,-61.455326080322266,-63.505374908447266,-69.48529815673828,-68.34750366210938,-59.69154739379883,-63.464908599853516,-64.71969604492188,-63.504737854003906,-65.22058868408203,-99.93973541259766,-72.47766876220703,-96.74945831298828,-97.24335479736328,-96.15977478027344,-98.17550659179688,-96.5180435180664,-80.25018310546875,-97.23786926269531,-101.12688446044922,-91.35350036621094,-96.89576721191406,-60.54789733886719,-84.5963134765625,-80.62294006347656,-81.09893798828125,-84.6919937133789,-81.91177368164062,-84.67646789550781,-81.79418182373047,-100.07001495361328,-81.358642578125,-87.60226440429688,-80.790771484375,-71.29776763916016,-82.82071685791016,-104.43643951416016,-106.26566314697266,-102.70403289794922,-92.12271881103516,-104.69742584228516,-104.16415405273438,-102.5048599243164,-100.53514099121094,-107.10035705566406,-104.36580657958984,-100.28955078125,-105.34171295166016,-106.0403060913086,-104.9050064086914,-71.68473815917969,-71.06163024902344,-99.12190246582031,-74.20630645751953,-70.64976501464844,-70.73712921142578,-97.46621704101562,-98.02490997314453,-100.52013397216797,-69.5401611328125,-68.55996704101562,-60.14986801147461,-74.22797393798828,-60.29453659057617,-62.058494567871094,-69.97924041748047,-67.54513549804688,-73.66462707519531,-70.99747467041016,-69.49082946777344,-68.71530151367188,-71.71237182617188,-63.636932373046875,-75.18022155761719,-61.77090835571289,-99.2088394165039,-103.72061157226562,-106.07862091064453,-103.47267150878906,-101.34370422363281,-105.32328033447266,-103.98851013183594,-101.2675552368164,-103.17784881591797,-95.7271499633789,-103.7380142211914,-104.35868835449219,-98.05839538574219,-79.77330780029297,-88.95079040527344,-98.47872161865234,-81.4322738647461,-80.21672058105469,-81.43521881103516,-91.2596206665039,-97.55921173095703,-74.33561706542969,-88.5192642211914,-98.27889251708984,-79.17596435546875,-97.10132598876953,-96.73194885253906,-100.80308532714844,-61.45393371582031,-93.7795639038086,-75.30465698242188,-74.62873077392578,-97.46373748779297,-69.88448333740234,-94.28514099121094,-59.493980407714844,-62.89086151123047,-60.32634735107422,-68.71900939941406,-96.45824432373047,-96.64929962158203,-94.95917510986328,-92.67498016357422,-91.85472106933594,-89.32213592529297,-93.11007690429688,-96.31604766845703,112.0241928100586,-86.93875885009766,-87.39163970947266,-97.14514923095703,-90.08149719238281,-101.12814331054688,-95.48685455322266,-98.21135711669922,-96.16707611083984,-96.38060760498047,-94.71379089355469,-102.84754180908203,-94.20960235595703,-93.94059753417969,-103.0738754272461,-106.15770721435547,-94.48152923583984,-97.31539154052734,-64.84365844726562,-66.94558715820312,-78.6646957397461,-64.40727233886719,-58.86672592163086,-66.0504379272461,-59.000911712646484,-64.14903259277344,-87.75484466552734,-78.57926177978516,-69.78453826904297,-67.20529174804688,-78.95201110839844,-103.74345397949219,-103.4112777709961,-101.84117889404297,-103.91504669189453,-98.54802703857422,-90.73802185058594,-103.6401596069336,-104.0544204711914,-101.80909729003906,-102.84942626953125,-102.17218780517578,-100.3739013671875,-104.33218383789062],\"xaxis\":\"x\",\"y\":[0.9355412721633911,69.6940689086914,78.22776794433594,57.36897659301758,56.32050704956055,56.084930419921875,56.720157623291016,54.79450988769531,65.39852142333984,66.26252746582031,71.6022720336914,67.2112045288086,54.902320861816406,69.69256591796875,67.34342193603516,77.87422180175781,67.94508361816406,76.09932708740234,71.03712463378906,69.40203857421875,70.0413589477539,77.21634674072266,70.02532958984375,70.59938049316406,68.759033203125,68.32353210449219,46.300743103027344,65.17601776123047,52.61887741088867,54.93606948852539,40.54800033569336,37.781005859375,56.08837890625,73.59906768798828,55.3253288269043,47.77635955810547,59.45416259765625,41.884029388427734,71.70140838623047,53.101863861083984,56.37316131591797,56.31281280517578,52.56727600097656,58.13336181640625,50.87944412231445,55.23190689086914,57.109527587890625,57.91992950439453,56.32101821899414,57.9443359375,73.70350646972656,56.605228424072266,56.99214553833008,49.668025970458984,49.94418716430664,56.80217361450195,48.39165496826172,48.89752960205078,50.39811706542969,50.87073516845703,50.51438903808594,46.5717658996582,51.598758697509766,57.41261672973633,49.9365234375,62.61381149291992,77.41914367675781,77.15335845947266,70.7860336303711,73.57779693603516,78.97183227539062,73.95313262939453,69.53910827636719,69.88980102539062,66.53203582763672,73.82288360595703,77.16534423828125,79.00579833984375,66.3296890258789,72.60128784179688,73.20886993408203,62.02949905395508,74.47309875488281,65.849609375,64.84648895263672,62.4355354309082,63.598548889160156,63.88473892211914,72.83544158935547,62.29798126220703,72.51363372802734,51.374446868896484,42.756072998046875,39.31764602661133,40.68048095703125,45.80897521972656,39.690467834472656,37.643829345703125,45.39057540893555,41.71299743652344,53.219390869140625,39.430580139160156,39.52816390991211,43.90855407714844,69.28366088867188,59.207210540771484,56.968387603759766,68.53573608398438,71.94315338134766,68.41871643066406,58.92884063720703,61.013954162597656,73.4610824584961,66.76960754394531,62.4910774230957,69.7674560546875,63.15596008300781,65.4635238647461,66.36197662353516,73.78307342529297,61.958377838134766,62.1509895324707,66.57691192626953,68.85135650634766,77.48149871826172,63.52880096435547,71.66117095947266,70.19959259033203,79.5488510131836,70.79314422607422,45.15825653076172,50.506736755371094,65.9403305053711,67.06764221191406,66.042724609375,57.09404373168945,67.32402038574219,66.3497314453125,17.06674575805664,66.98059844970703,61.72929763793945,67.1125717163086,55.89536666870117,52.23897933959961,43.87871170043945,37.7181396484375,44.177310943603516,43.533634185791016,44.157745361328125,45.2945671081543,42.9753303527832,68.1926498413086,45.41030502319336,40.55650329589844,46.018192291259766,51.59383010864258,74.91880798339844,76.67042541503906,70.12359619140625,59.420326232910156,74.04650115966797,75.9438705444336,76.32327270507812,74.25590515136719,65.09354400634766,72.4765396118164,66.31178283691406,77.49006652832031,72.3757553100586,61.2822380065918,63.315216064453125,62.12252426147461,64.58575439453125,58.04802322387695,54.42970275878906,62.21750259399414,56.82806396484375,61.570068359375,52.877262115478516,65.18012237548828,62.16073226928711,53.55148696899414],\"yaxis\":\"y\",\"type\":\"scattergl\"},{\"hovertemplate\":\"color=6<br>Dimension 1=%{x}<br>Dimension 2=%{y}<extra></extra>\",\"legendgroup\":\"6\",\"marker\":{\"color\":\"#FF6692\",\"opacity\":1,\"symbol\":\"circle\",\"size\":3},\"mode\":\"markers\",\"name\":\"6\",\"showlegend\":true,\"x\":[101.1492919921875,97.85105895996094,102.61103057861328,96.38935089111328,103.40753173828125,103.90058898925781,102.59664916992188,118.90808868408203,102.16322326660156,96.56657409667969,102.09375,100.46090698242188,99.00281524658203,118.43421173095703,96.85201263427734,95.85408782958984,120.66486358642578,112.54500579833984,96.1976318359375,112.70515441894531,119.66583251953125,119.18497467041016,97.82431030273438,105.8475570678711,122.49427032470703,122.26537322998047,116.68212890625,120.89509582519531,108.13345336914062,119.10413360595703,112.94337463378906,112.87841033935547,106.273681640625,101.15325927734375,123.24472045898438,108.22819519042969,116.99286651611328,112.0513916015625,103.64413452148438,102.28843688964844,99.6837387084961,100.826904296875,115.59685516357422,99.37181854248047,103.08406066894531,98.9822006225586,95.17903137207031,97.4182357788086,97.37863159179688,101.05152130126953,20.7858829498291,94.00548553466797,113.1988525390625,112.39268493652344,96.28953552246094,98.41414642333984,95.89266967773438,94.803955078125,112.76702117919922,95.89028930664062,98.95545959472656,93.86707305908203,95.07342529296875,94.969970703125,114.9451675415039,115.60812377929688,116.45248413085938,120.12432098388672,118.22453308105469,122.04605102539062,105.95654296875,124.20457458496094,115.76759338378906,104.50476837158203,123.02304077148438,103.13898468017578,103.25496673583984,93.3016357421875,92.65795135498047,96.19073486328125,119.64285278320312,97.20549774169922,101.71568298339844,119.6076431274414,92.85801696777344,108.72149658203125,94.34732818603516,116.94166564941406,96.13621520996094,120.19402313232422,120.52692413330078,122.65159606933594,123.56924438476562,115.09317779541016,120.96574401855469,114.59666442871094,116.4582290649414,119.96660614013672,119.67915344238281,104.09902954101562,109.52371215820312,121.7036361694336,121.0860595703125,123.78962707519531,120.2530288696289,114.82793426513672,98.1561508178711,95.47750091552734,114.03013610839844,102.64098358154297,108.55316925048828,103.13289642333984,114.14434814453125,103.90029907226562,103.07443237304688,119.26192474365234,124.38955688476562,97.51608276367188,104.06841278076172,109.008544921875,94.5500259399414,103.2668228149414,92.7544937133789,92.85411071777344,104.62876892089844,103.52128601074219,102.89266967773438,92.7379379272461,101.46696472167969,95.72781372070312,96.51519775390625,99.74671173095703,100.37393188476562,95.79243469238281,95.53779602050781,94.56896209716797,96.13459014892578,95.9490966796875,99.84810638427734,97.99410247802734,93.65936279296875,93.0777816772461,119.93330383300781,120.49140167236328,123.50379943847656,114.03217315673828,122.96631622314453,121.17041015625,123.2222671508789,111.18022918701172,120.76171875,118.2748031616211,116.5602035522461,117.07122802734375,104.80250549316406,94.19060516357422,92.30095672607422,98.18121337890625,95.20980834960938,93.94744110107422,94.5571517944336,95.36042022705078,95.1749267578125,94.41885375976562,94.45356750488281,100.322998046875,96.68477630615234,98.92198181152344,106.47914123535156,107.46397399902344,108.44437408447266,109.59911346435547,106.81780242919922,104.33635711669922,110.15658569335938,120.01953125,105.23371887207031,102.7789077758789,98.70098114013672,99.57330322265625,117.78640747070312],\"xaxis\":\"x\",\"y\":[-4.251826286315918,6.700578212738037,-5.622866630554199,3.779980421066284,-3.9042441844940186,5.7542924880981445,-3.8274905681610107,-0.8777852654457092,-4.73891544342041,-2.156010627746582,-8.641936302185059,-11.866732597351074,-0.28979501128196716,16.541526794433594,19.601543426513672,-1.8929871320724487,2.0181989669799805,-3.607642889022827,-3.7587568759918213,-3.4532580375671387,3.746101140975952,-1.3287123441696167,4.566635608673096,23.61414909362793,20.724838256835938,14.831912994384766,6.807845592498779,1.5389846563339233,6.612859725952148,11.85519027709961,4.068118095397949,4.389293670654297,10.672101974487305,4.288293361663818,13.09932804107666,6.926255226135254,6.2469353675842285,3.311142683029175,24.46731185913086,26.122657775878906,24.22321128845215,26.50363540649414,14.695472717285156,23.36954116821289,25.478355407714844,23.34894561767578,-7.0918192863464355,21.009483337402344,25.27992057800293,22.913827896118164,-3.8934266567230225,-8.986738204956055,15.351058006286621,11.068864822387695,-10.885878562927246,-12.799785614013672,-13.923089027404785,-9.7020263671875,16.300193786621094,-13.802613258361816,-12.59056282043457,-9.489361763000488,-8.663187980651855,-11.451415061950684,2.6370627880096436,3.555469274520874,4.042370319366455,3.119690418243408,-0.15684206783771515,11.904306411743164,11.102424621582031,9.933747291564941,4.7525482177734375,1.5974007844924927,12.167564392089844,1.5269378423690796,2.045078754425049,26.651411056518555,27.835927963256836,23.691429138183594,24.681392669677734,-3.4043848514556885,23.045650482177734,24.906692504882812,26.61063003540039,23.035188674926758,24.672019958496094,21.665739059448242,3.318634033203125,5.518519878387451,8.059206008911133,4.725159168243408,14.749439239501953,11.411612510681152,7.759634971618652,12.364880561828613,11.46242904663086,8.934374809265137,10.589654922485352,6.663661003112793,13.936272621154785,13.107730865478516,17.99574089050293,11.528860092163086,21.341781616210938,10.508404731750488,5.355445384979248,-6.147922515869141,0.9935018420219421,11.216882705688477,9.636429786682129,-0.11931822448968887,1.408782720565796,10.869364738464355,-7.059159755706787,14.255464553833008,16.027498245239258,-9.607782363891602,7.983090877532959,9.773724555969238,21.662267684936523,11.801170349121094,-5.886524677276611,-5.572903633117676,13.916801452636719,13.383881568908691,12.995741844177246,-7.629752159118652,14.339071273803711,11.523201942443848,10.984026908874512,15.952961921691895,14.929742813110352,21.715864181518555,22.75672149658203,22.85927963256836,20.28089141845703,14.635546684265137,15.654797554016113,11.69133472442627,15.630887985229492,22.92112922668457,20.168415069580078,20.523765563964844,16.267820358276367,15.044295310974121,20.690006256103516,13.569016456604004,5.205508232116699,9.942720413208008,19.058740615844727,20.9566650390625,19.738210678100586,19.845216751098633,7.238431930541992,11.101820945739746,13.693798065185547,0.24167416989803314,18.566823959350586,13.4144926071167,-0.1478632241487503,1.5185943841934204,13.715139389038086,13.186076164245605,2.381370782852173,10.397109985351562,1.8906482458114624,-4.65635871887207,-5.549229145050049,23.39968490600586,-5.192652702331543,-4.828372478485107,23.4729061126709,-7.437643527984619,-4.606034755706787,-2.1660473346710205,-5.728106498718262,-1.013569712638855,-8.977333068847656,-2.4272000789642334,18.627931594848633],\"yaxis\":\"y\",\"type\":\"scattergl\"},{\"hovertemplate\":\"color=7<br>Dimension 1=%{x}<br>Dimension 2=%{y}<extra></extra>\",\"legendgroup\":\"7\",\"marker\":{\"color\":\"#B6E880\",\"opacity\":1,\"symbol\":\"circle\",\"size\":3},\"mode\":\"markers\",\"name\":\"7\",\"showlegend\":true,\"x\":[-10.460761070251465,-6.944738388061523,-13.357645034790039,-11.43638801574707,-9.532605171203613,-13.872701644897461,-8.253083229064941,-12.225837707519531,-13.101243019104004,4.079492092132568,-10.503433227539062,-7.5181965827941895,-9.698689460754395,2.5427684783935547,2.8163278102874756,3.471045732498169,-15.462636947631836,-3.2921199798583984,-1.5016043186187744,7.849900245666504,-8.059906005859375,6.730004787445068,-12.820199966430664,1.3363358974456787,6.477465629577637,-16.080293655395508,-3.6504828929901123,4.111207485198975,-2.9476382732391357,-2.7191641330718994,-17.02634620666504,3.346163749694824,2.9211268424987793,2.4685163497924805,3.0810749530792236,4.469740390777588,2.761725902557373,-6.996631145477295,-0.6372771263122559,-1.569118618965149,-2.444892168045044,-2.31376051902771,-0.3194718360900879,-1.5519648790359497,-3.792371988296509,-3.096405267715454,-0.5978040099143982,-1.793798804283142,-3.3619604110717773,-1.3380229473114014,-0.6762005090713501,-8.695112228393555,-9.607259750366211,-16.659780502319336,-8.434103965759277,-9.510247230529785,-7.375424385070801,-18.63823699951172,-7.193385601043701,-11.307096481323242,-1.7597811222076416,-6.636995315551758,-2.5106945037841797,-9.599305152893066,-6.929515838623047,-18.46877670288086,-16.565176010131836,-15.16351318359375,-14.963005065917969,-15.604711532592773,-17.357587814331055,-15.168607711791992,-16.147069931030273,-15.694075584411621,-15.05233383178711,-14.364020347595215,-8.676092147827148,0.03228912875056267,-2.733180046081543,-2.254031181335449,5.711815357208252,-1.040727138519287,6.5439863204956055,-1.183470368385315,0.20245599746704102,-14.74480152130127,5.907046794891357,-0.14518259465694427,-0.5055533051490784,-9.329020500183105,4.199404716491699,7.712234020233154,2.785604953765869,7.371642589569092,0.3351685106754303,7.517665863037109,5.5377888679504395,-1.489842414855957,5.454890251159668,3.121384382247925,6.726198196411133,3.278975486755371,8.92708683013916,6.44826078414917,9.573479652404785,10.922274589538574,5.509365081787109,10.25766658782959,12.902060508728027,9.217714309692383,13.210034370422363,7.436591148376465,-10.769576072692871,9.031942367553711,10.268957138061523,-7.6033172607421875,-13.419551849365234,-19.293092727661133,-4.631758689880371,-8.750700950622559,-5.82157039642334,-8.5807466506958,-5.007153034210205,-2.8090720176696777,-4.047669887542725,-6.6728515625,-17.586503982543945,-17.8076229095459,-3.2941792011260986,-2.068953275680542,-6.658868312835693,-1.9596771001815796,-8.481785774230957,-6.485597133636475,-9.19789981842041,-7.886786460876465,5.351441383361816,-7.861076831817627,0.8405352830886841,-8.426176071166992,-8.671745300292969,-0.3608595132827759,-1.5501363277435303,0.2617453634738922,0.19600853323936462,1.7986963987350464,-2.4553401470184326,-2.541698455810547,-1.189638376235962,-0.013426222838461399,-0.04941413551568985,1.019728422164917,-2.1257565021514893,0.26245373487472534,-9.624785423278809,-9.274370193481445,-2.720773696899414,-0.34098905324935913,0.40468260645866394,0.07543811947107315,-0.38559889793395996,3.6735098361968994,-1.501793384552002,-13.078922271728516,1.2457131147384644,0.009381884709000587,-12.163671493530273,-13.026848793029785,-11.96768856048584,5.6126885414123535,-15.16576862335205,-0.45214954018592834,2.6360769271850586,4.255119800567627,6.157402038574219,-6.533444881439209,-8.744660377502441,-14.084298133850098,2.6639926433563232],\"xaxis\":\"x\",\"y\":[115.01193237304688,94.16803741455078,91.14311218261719,92.09245300292969,113.90908813476562,93.86293029785156,93.96003723144531,108.49508666992188,87.328125,96.78266906738281,92.4132308959961,98.18157196044922,98.70552062988281,105.05358123779297,105.35340118408203,112.77751159667969,94.2373046875,88.01703643798828,106.29840087890625,114.68374633789062,123.35421752929688,114.4740219116211,100.34320831298828,113.0313720703125,113.60868072509766,97.87762451171875,108.88481140136719,82.64155578613281,109.51691436767578,86.1827163696289,91.79220581054688,81.75763702392578,95.77934265136719,97.50318145751953,107.52299499511719,111.2039794921875,97.1971435546875,90.07080841064453,58.66033935546875,57.90485763549805,57.65031433105469,56.22300720214844,62.03715515136719,58.609317779541016,56.75006103515625,56.16028594970703,60.925811767578125,44.63583755493164,57.7076530456543,57.09809494018555,60.67504119873047,124.05177307128906,111.09968566894531,92.37897491455078,97.57685852050781,109.11307525634766,117.36629486083984,93.06465148925781,112.64724731445312,109.28730010986328,108.62602996826172,108.12815856933594,121.02320098876953,110.21464538574219,109.52191925048828,93.600341796875,83.65435791015625,83.98436737060547,83.6284408569336,90.83749389648438,90.48777770996094,89.50383758544922,84.01524353027344,88.72884368896484,88.46268463134766,87.33367156982422,107.8309097290039,95.09327697753906,106.82777404785156,103.49942779541016,117.62290954589844,94.43598175048828,115.61551666259766,102.80972290039062,102.7126235961914,98.70849609375,116.49266052246094,105.19839477539062,102.94739532470703,122.04007720947266,87.57461547851562,90.26422882080078,86.66731262207031,91.9530029296875,83.85279846191406,91.07342529296875,85.97847747802734,95.66242980957031,86.1053466796875,85.39671325683594,93.1640625,89.23582458496094,98.16983795166016,93.3985366821289,96.40493774414062,95.30913543701172,96.19552612304688,96.398681640625,97.3955307006836,101.60240936279297,97.52229309082031,94.29936218261719,112.90904998779297,101.09860229492188,97.8974609375,116.5067367553711,99.5782699584961,93.01260375976562,116.94751739501953,114.6317367553711,108.75566101074219,117.34571075439453,117.44686889648438,120.92457580566406,107.2535400390625,118.14490509033203,94.59676361083984,97.71443939208984,118.01825714111328,93.61209869384766,102.54790496826172,92.54825592041016,105.08226013183594,102.4926986694336,119.75621032714844,115.42615509033203,117.21820068359375,92.23468017578125,111.2370376586914,91.71150207519531,106.33686065673828,85.86274719238281,84.64435577392578,85.58056640625,90.55093383789062,89.8309555053711,83.5162353515625,86.7296142578125,90.9687728881836,93.91545104980469,90.45535278320312,87.07379913330078,85.24317932128906,86.63213348388672,124.9087142944336,123.71855163574219,110.95906829833984,119.12032318115234,120.85460662841797,119.07563781738281,115.2569351196289,117.96793365478516,118.33715057373047,107.41520690917969,113.36853790283203,117.07807922363281,110.60072326660156,94.33332824707031,109.95586395263672,84.22566223144531,91.57364654541016,109.2819595336914,99.5025863647461,112.84323120117188,111.72989654541016,106.91065216064453,121.65966796875,99.47410583496094,112.86915588378906],\"yaxis\":\"y\",\"type\":\"scattergl\"},{\"hovertemplate\":\"color=8<br>Dimension 1=%{x}<br>Dimension 2=%{y}<extra></extra>\",\"legendgroup\":\"8\",\"marker\":{\"color\":\"#FF97FF\",\"opacity\":1,\"symbol\":\"circle\",\"size\":3},\"mode\":\"markers\",\"name\":\"8\",\"showlegend\":true,\"x\":[5.564761638641357,6.613190650939941,3.069136142730713,13.345789909362793,3.0032403469085693,14.97313117980957,14.564712524414062,11.313302040100098,14.731610298156738,4.466693878173828,9.234126091003418,13.731890678405762,27.572858810424805,5.062294960021973,7.401452541351318,13.107789039611816,5.154383182525635,-5.21371603012085,7.390732288360596,-5.170262813568115,18.230857849121094,11.626221656799316,9.484986305236816,8.73996353149414,17.547161102294922,13.961688995361328,-12.769577026367188,8.046573638916016,9.203213691711426,-3.2972559928894043,-4.200807571411133,-16.100141525268555,-8.599272727966309,6.060086250305176,-7.063839912414551,-14.47248363494873,-4.591760158538818,8.711714744567871,-12.309930801391602,5.32225227355957,-12.863249778747559,-7.29475212097168,-9.04942798614502,-16.322052001953125,-8.298060417175293,-7.667148590087891,-9.804603576660156,5.630995750427246,7.526778221130371,-7.332338333129883,-9.331700325012207,22.30662727355957,25.766040802001953,26.975610733032227,23.503103256225586,26.797264099121094,28.560087203979492,27.59971046447754,26.21947479248047,23.825136184692383,22.920886993408203,26.048646926879883,26.791141510009766,23.67116928100586,-8.214049339294434,8.4730224609375,-7.958756923675537,-3.9216067790985107,-4.2884016036987305,9.321514129638672,-12.438661575317383,6.15286111831665,19.031970977783203,-8.752378463745117,15.631978988647461,-7.03870964050293,10.26125717163086,6.0558295249938965,15.328927993774414,16.651750564575195,-15.880782127380371,-18.218360900878906,-18.61823081970215,-4.916006565093994,6.41393518447876,-16.7208309173584,-16.741132736206055,0.7284245491027832,-16.507036209106445,6.91763162612915,-10.57553482055664,-12.511435508728027,-12.02089786529541,-10.275617599487305,-9.906039237976074,-13.191469192504883,-7.518219470977783,-16.281339645385742,-12.738995552062988,-14.536581993103027,-9.548751831054688,8.519449234008789,1.5773632526397705,-6.526889801025391,-8.91348648071289,7.711487293243408,2.103713274002075,-7.987542152404785,-7.692396640777588,6.742119312286377,-9.902758598327637,-0.11382120847702026,-5.369826316833496,-6.180868148803711,-14.433677673339844,12.996710777282715,11.166213035583496,4.240190029144287,9.460803985595703,7.784800052642822,4.657434940338135,4.528110980987549,6.328920841217041,11.110310554504395,3.5914909839630127,4.935126304626465,2.4866418838500977,13.523100852966309,13.976032257080078,10.792449951171875,4.873152256011963,12.959651947021484,13.242347717285156,6.9950103759765625,3.4371578693389893,3.360295534133911,12.352560997009277,14.17997932434082,6.98772668838501,-14.691878318786621,-15.147019386291504,-15.259368896484375,-10.655810356140137,-12.494833946228027,-19.688007354736328,-16.732534408569336,-16.581605911254883,-16.81273078918457,-15.184972763061523,-14.430974006652832,-16.482175827026367,-13.634986877441406,21.155452728271484,15.275680541992188,19.648731231689453,19.26431655883789,11.167074203491211,16.58340072631836,19.539371490478516,14.736733436584473,15.762910842895508,0.8043255805969238,-0.6603183746337891,1.5898985862731934,2.3259785175323486,-0.3452066481113434,6.469051837921143,3.0743448734283447,10.079059600830078,1.3693478107452393,0.5620362758636475,9.385242462158203,9.203821182250977,2.1500489711761475],\"xaxis\":\"x\",\"y\":[-15.193123817443848,0.4773937165737152,-5.891620635986328,2.794276714324951,-3.953181743621826,-10.11268138885498,-3.80599308013916,0.7423349618911743,-8.026728630065918,0.09731073677539825,-16.062725067138672,2.965768337249756,-57.21414566040039,-10.80029582977295,-20.152406692504883,-13.892245292663574,-10.831984519958496,0.368320494890213,-14.599120140075684,0.009217798709869385,-17.061574935913086,-13.802443504333496,-14.100281715393066,-15.274053573608398,-17.047658920288086,-8.229081153869629,-21.780492782592773,8.507588386535645,7.7197136878967285,-19.73737907409668,-20.03272247314453,-25.393260955810547,-20.512710571289062,-9.821123123168945,-19.4753360748291,-15.475380897521973,-20.75577163696289,8.1931734085083,-28.399065017700195,-7.1292619705200195,-34.07247543334961,-25.798391342163086,-26.63404655456543,-28.042083740234375,-28.31234359741211,-14.739290237426758,-21.834348678588867,-8.001370429992676,-8.733511924743652,-23.097843170166016,-27.172344207763672,-17.725440979003906,-18.1904239654541,-18.368066787719727,-17.027353286743164,-19.310691833496094,-19.855316162109375,-20.764856338500977,-19.495004653930664,-15.887338638305664,-18.400959014892578,-20.742353439331055,-20.364280700683594,-17.40187644958496,-16.88191795349121,-6.1253342628479,-16.461570739746094,-15.53654956817627,-15.688700675964355,-5.364178657531738,-23.81383514404297,-21.24139976501465,-4.823075294494629,-21.553606033325195,-2.731574773788452,-16.640512466430664,-4.795839309692383,-28.47855567932129,-84.26358032226562,-6.242170810699463,-22.79989242553711,-33.30733871459961,-33.22993850708008,-26.495817184448242,-28.092626571655273,-36.81107711791992,-36.36241149902344,-13.534533500671387,-37.562992095947266,-28.816831588745117,-15.951988220214844,-17.431241989135742,-16.377613067626953,-17.216712951660156,-25.78498649597168,-17.701385498046875,-22.509017944335938,-26.2099666595459,-15.621086120605469,-23.8572940826416,-17.706918716430664,5.817527770996094,1.548941731452942,-3.2056667804718018,-5.3447065353393555,-13.860406875610352,1.5171562433242798,-4.358817100524902,-4.203944683074951,6.54750394821167,-4.856696128845215,-8.27656364440918,-1.886262059211731,-2.723823070526123,-17.8067626953125,-0.5624038577079773,-1.116835355758667,5.225306510925293,1.7213793992996216,10.742941856384277,4.60897970199585,2.3438644409179688,-26.574861526489258,-0.02164694294333458,-1.81452476978302,-3.344486713409424,-1.8678401708602905,-6.962018013000488,-4.1930131912231445,-2.277170419692993,-4.1495184898376465,-8.999975204467773,-6.048663139343262,-20.55813980102539,0.3776920735836029,-3.7989718914031982,-8.936131477355957,-3.31583833694458,0.027225427329540253,-25.367252349853516,-24.290685653686523,-23.14331817626953,-27.849853515625,-28.005970001220703,-33.342891693115234,-29.285409927368164,-30.134326934814453,-31.917896270751953,-33.075008392333984,-32.98482894897461,-32.359107971191406,-32.99558639526367,-78.26378631591797,3.3874449729919434,-6.275633335113525,-16.10061264038086,-3.385394334793091,-16.03811264038086,-15.28447151184082,-14.018218040466309,-14.884225845336914,-9.424301147460938,-0.9463293552398682,-10.695815086364746,-15.97390079498291,1.540799856185913,7.528932094573975,-11.61081314086914,-19.867727279663086,-13.448704719543457,-2.7255969047546387,-45.42157745361328,-19.70846939086914,-15.587685585021973],\"yaxis\":\"y\",\"type\":\"scattergl\"},{\"hovertemplate\":\"color=9<br>Dimension 1=%{x}<br>Dimension 2=%{y}<extra></extra>\",\"legendgroup\":\"9\",\"marker\":{\"color\":\"#FECB52\",\"opacity\":1,\"symbol\":\"circle\",\"size\":3},\"mode\":\"markers\",\"name\":\"9\",\"showlegend\":true,\"x\":[-102.76829528808594,-108.50340270996094,-107.80109405517578,-109.1158447265625,-104.42807006835938,-125.7177505493164,6.575711250305176,-107.4686508178711,-129.326171875,-112.4079360961914,-115.09297943115234,-102.5917739868164,-127.42888641357422,-111.90447235107422,-107.29582214355469,-110.8924789428711,-110.04066467285156,-119.96261596679688,-112.57904052734375,-107.69803619384766,-102.5567398071289,-102.16773986816406,-109.01873779296875,-103.721435546875,-106.9249496459961,-3.0442564487457275,-2.270375967025757,-123.03639221191406,-117.982666015625,-100.00670623779297,-119.87519073486328,-1.0753599405288696,-2.039182186126709,-2.4802961349487305,-1.4002432823181152,3.4936351776123047,2.305612325668335,-1.988113284111023,-128.34719848632812,-121.739501953125,-121.69058990478516,-102.78829956054688,-102.60954284667969,-112.46372985839844,-112.37933349609375,-102.92155456542969,-110.03660583496094,-102.38566589355469,-111.01412963867188,-124.39726257324219,-111.0000991821289,-111.44342803955078,-120.13458251953125,-108.58381652832031,11.691367149353027,-127.7108383178711,-110.2439193725586,-120.27828216552734,-111.93800354003906,-110.28218078613281,-110.02861022949219,-117.54306030273438,-121.33940124511719,-123.55472564697266,3.1455907821655273,-0.2409440577030182,1.504253625869751,-1.067294955253601,4.612467288970947,0.2760719060897827,0.6085754036903381,-1.2440603971481323,-0.05905597656965256,-0.472237229347229,1.0513319969177246,2.9823496341705322,3.948836326599121,-118.97761535644531,-130.0219268798828,-123.77350616455078,-128.9874267578125,-51.92966079711914,-122.22563171386719,-122.63672637939453,-107.89642333984375,-128.37149047851562,-120.32487487792969,-125.69480895996094,-125.2359619140625,-125.3482437133789,-117.15484619140625,-116.70751953125,-117.01353454589844,-122.26972961425781,-121.22086334228516,-120.6099624633789,-117.65791320800781,-117.23326110839844,-121.25296020507812,-115.67890930175781,-121.62796020507812,-107.03045654296875,-116.03296661376953,-99.59262084960938,-102.79765319824219,-100.45860290527344,-98.57367706298828,-102.64889526367188,-98.84355163574219,-102.39239501953125,5.48357629776001,-102.61134338378906,-104.85804748535156,-108.3323974609375,-103.6038589477539,-103.08631134033203,-104.83341979980469,-115.3368148803711,-104.20262908935547,-113.8861312866211,-115.2071304321289,-113.05909729003906,-107.15769958496094,-101.71210479736328,-112.43768310546875,-102.98214721679688,-102.25445556640625,-124.16323852539062,-99.69786071777344,-114.82544708251953,-113.99088287353516,-113.94676208496094,-117.44316101074219,-116.16572570800781,-111.97103118896484,-118.45719909667969,-114.35381317138672,-113.91703796386719,-117.96218872070312,-117.16421508789062,-119.3650894165039,-121.85848999023438,-126.04039001464844,-121.58132934570312,-117.98945617675781,-125.11824798583984,-125.28018951416016,-121.3072280883789,-123.71190643310547,-125.08991241455078,-121.90813446044922,-118.19524383544922,-127.89927673339844,-127.02051544189453,0.9222598671913147,6.931319236755371,7.21924352645874,6.638412952423096,1.8127559423446655,-63.84489440917969,3.907240867614746,-114.66458129882812,-0.08638925850391388,-112.04812622070312,-42.4428825378418,-63.723995208740234,0.7956802248954773,-116.92283630371094,-114.04827880859375,-114.15313720703125,-115.76814270019531,-127.84664154052734,-125.24168395996094,-111.31007385253906,-115.37027740478516,-110.6803207397461,-111.20256805419922,-107.98023986816406,-121.91266632080078,-106.2079086303711],\"xaxis\":\"x\",\"y\":[-16.90484046936035,5.016303062438965,4.02859354019165,5.339562892913818,6.634673595428467,-9.388453483581543,16.61437225341797,2.73757266998291,-16.12622833251953,3.7802934646606445,3.951220989227295,-4.309168815612793,-20.557411193847656,1.2117451429367065,-0.7523252964019775,0.5572919845581055,1.4200465679168701,3.3135433197021484,1.9666571617126465,-2.811363935470581,-9.018473625183105,-9.947174072265625,0.3971344232559204,-17.85689353942871,-14.45138931274414,43.18755340576172,40.09420394897461,-13.841914176940918,3.170105218887329,-13.316505432128906,-4.185840606689453,42.18320083618164,40.554622650146484,42.20015335083008,41.20448303222656,-119.98013305664062,-118.86017608642578,42.84236526489258,-16.816631317138672,1.5140076875686646,1.6737309694290161,-20.212804794311523,-21.036569595336914,-11.322196006774902,-12.118359565734863,-21.64128303527832,-10.580986022949219,-21.632234573364258,-10.178519248962402,-21.633018493652344,-10.852213859558105,-25.90951156616211,-24.04405403137207,-26.5864315032959,9.634472846984863,-22.226852416992188,-27.00224494934082,-22.690364837646484,-20.47983169555664,-25.91398048400879,-26.428539276123047,-7.881031513214111,-21.021343231201172,3.040968179702759,-117.97579956054688,-118.33778381347656,-116.892578125,-118.119384765625,-113.8163070678711,-117.6428451538086,-116.65351867675781,-116.0267562866211,-115.56661987304688,-119.45484924316406,-118.36494445800781,-117.36970520019531,-115.21073150634766,-6.697910308837891,-22.517486572265625,3.4425954818725586,-22.105022430419922,-20.201494216918945,-20.226604461669922,4.114878177642822,-13.831985473632812,-21.355457305908203,3.141954183578491,-20.687768936157227,-20.841312408447266,-16.236038208007812,-1.8554589748382568,-5.542214393615723,-3.47861385345459,-15.255495071411133,-2.498229503631592,-7.315399169921875,-0.9780558943748474,-2.1596662998199463,-2.2437336444854736,-4.79492712020874,-15.131391525268555,-26.647777557373047,-5.867537498474121,-7.596714973449707,10.443833351135254,10.042099952697754,-11.578210830688477,9.47566032409668,-12.199313163757324,10.719327926635742,8.052240371704102,8.944743156433105,-2.298478841781616,-7.086867332458496,11.371957778930664,-3.7733490467071533,-18.411882400512695,4.522161960601807,-17.948545455932617,-20.508695602416992,-20.98577880859375,-20.409130096435547,-1.89478600025177,-12.11343002319336,-21.104164123535156,-11.90224838256836,-11.45792293548584,-14.519229888916016,-13.341912269592285,-6.37590217590332,-17.732078552246094,-19.275243759155273,-15.785659790039062,-14.687185287475586,-22.586336135864258,3.2396209239959717,-15.73469352722168,-9.308351516723633,-20.530197143554688,-20.50127410888672,-22.236732482910156,-10.661487579345703,-14.797788619995117,-9.640256881713867,-12.668895721435547,-13.799224853515625,-9.307976722717285,-7.846391201019287,-8.907441139221191,-13.656752586364746,-8.691069602966309,-14.872847557067871,-13.024767875671387,-13.234811782836914,-115.39037322998047,-118.72636413574219,-119.5099868774414,-118.49575805664062,41.644866943359375,59.052528381347656,-120.31151580810547,2.6764028072357178,41.87117385864258,4.5318827629089355,19.792016983032227,59.7611083984375,41.663551330566406,-7.025146007537842,-14.552915573120117,1.7179378271102905,-12.358559608459473,-16.640560150146484,-12.440957069396973,-12.643800735473633,-12.964990615844727,-13.052716255187988,-14.343859672546387,-0.4137984812259674,-19.200721740722656,-15.134400367736816],\"yaxis\":\"y\",\"type\":\"scattergl\"}],                        {\"template\":{\"data\":{\"bar\":[{\"error_x\":{\"color\":\"#2a3f5f\"},\"error_y\":{\"color\":\"#2a3f5f\"},\"marker\":{\"line\":{\"color\":\"#E5ECF6\",\"width\":0.5},\"pattern\":{\"fillmode\":\"overlay\",\"size\":10,\"solidity\":0.2}},\"type\":\"bar\"}],\"barpolar\":[{\"marker\":{\"line\":{\"color\":\"#E5ECF6\",\"width\":0.5},\"pattern\":{\"fillmode\":\"overlay\",\"size\":10,\"solidity\":0.2}},\"type\":\"barpolar\"}],\"carpet\":[{\"aaxis\":{\"endlinecolor\":\"#2a3f5f\",\"gridcolor\":\"white\",\"linecolor\":\"white\",\"minorgridcolor\":\"white\",\"startlinecolor\":\"#2a3f5f\"},\"baxis\":{\"endlinecolor\":\"#2a3f5f\",\"gridcolor\":\"white\",\"linecolor\":\"white\",\"minorgridcolor\":\"white\",\"startlinecolor\":\"#2a3f5f\"},\"type\":\"carpet\"}],\"choropleth\":[{\"colorbar\":{\"outlinewidth\":0,\"ticks\":\"\"},\"type\":\"choropleth\"}],\"contour\":[{\"colorbar\":{\"outlinewidth\":0,\"ticks\":\"\"},\"colorscale\":[[0.0,\"#0d0887\"],[0.1111111111111111,\"#46039f\"],[0.2222222222222222,\"#7201a8\"],[0.3333333333333333,\"#9c179e\"],[0.4444444444444444,\"#bd3786\"],[0.5555555555555556,\"#d8576b\"],[0.6666666666666666,\"#ed7953\"],[0.7777777777777778,\"#fb9f3a\"],[0.8888888888888888,\"#fdca26\"],[1.0,\"#f0f921\"]],\"type\":\"contour\"}],\"contourcarpet\":[{\"colorbar\":{\"outlinewidth\":0,\"ticks\":\"\"},\"type\":\"contourcarpet\"}],\"heatmap\":[{\"colorbar\":{\"outlinewidth\":0,\"ticks\":\"\"},\"colorscale\":[[0.0,\"#0d0887\"],[0.1111111111111111,\"#46039f\"],[0.2222222222222222,\"#7201a8\"],[0.3333333333333333,\"#9c179e\"],[0.4444444444444444,\"#bd3786\"],[0.5555555555555556,\"#d8576b\"],[0.6666666666666666,\"#ed7953\"],[0.7777777777777778,\"#fb9f3a\"],[0.8888888888888888,\"#fdca26\"],[1.0,\"#f0f921\"]],\"type\":\"heatmap\"}],\"heatmapgl\":[{\"colorbar\":{\"outlinewidth\":0,\"ticks\":\"\"},\"colorscale\":[[0.0,\"#0d0887\"],[0.1111111111111111,\"#46039f\"],[0.2222222222222222,\"#7201a8\"],[0.3333333333333333,\"#9c179e\"],[0.4444444444444444,\"#bd3786\"],[0.5555555555555556,\"#d8576b\"],[0.6666666666666666,\"#ed7953\"],[0.7777777777777778,\"#fb9f3a\"],[0.8888888888888888,\"#fdca26\"],[1.0,\"#f0f921\"]],\"type\":\"heatmapgl\"}],\"histogram\":[{\"marker\":{\"pattern\":{\"fillmode\":\"overlay\",\"size\":10,\"solidity\":0.2}},\"type\":\"histogram\"}],\"histogram2d\":[{\"colorbar\":{\"outlinewidth\":0,\"ticks\":\"\"},\"colorscale\":[[0.0,\"#0d0887\"],[0.1111111111111111,\"#46039f\"],[0.2222222222222222,\"#7201a8\"],[0.3333333333333333,\"#9c179e\"],[0.4444444444444444,\"#bd3786\"],[0.5555555555555556,\"#d8576b\"],[0.6666666666666666,\"#ed7953\"],[0.7777777777777778,\"#fb9f3a\"],[0.8888888888888888,\"#fdca26\"],[1.0,\"#f0f921\"]],\"type\":\"histogram2d\"}],\"histogram2dcontour\":[{\"colorbar\":{\"outlinewidth\":0,\"ticks\":\"\"},\"colorscale\":[[0.0,\"#0d0887\"],[0.1111111111111111,\"#46039f\"],[0.2222222222222222,\"#7201a8\"],[0.3333333333333333,\"#9c179e\"],[0.4444444444444444,\"#bd3786\"],[0.5555555555555556,\"#d8576b\"],[0.6666666666666666,\"#ed7953\"],[0.7777777777777778,\"#fb9f3a\"],[0.8888888888888888,\"#fdca26\"],[1.0,\"#f0f921\"]],\"type\":\"histogram2dcontour\"}],\"mesh3d\":[{\"colorbar\":{\"outlinewidth\":0,\"ticks\":\"\"},\"type\":\"mesh3d\"}],\"parcoords\":[{\"line\":{\"colorbar\":{\"outlinewidth\":0,\"ticks\":\"\"}},\"type\":\"parcoords\"}],\"pie\":[{\"automargin\":true,\"type\":\"pie\"}],\"scatter\":[{\"marker\":{\"colorbar\":{\"outlinewidth\":0,\"ticks\":\"\"}},\"type\":\"scatter\"}],\"scatter3d\":[{\"line\":{\"colorbar\":{\"outlinewidth\":0,\"ticks\":\"\"}},\"marker\":{\"colorbar\":{\"outlinewidth\":0,\"ticks\":\"\"}},\"type\":\"scatter3d\"}],\"scattercarpet\":[{\"marker\":{\"colorbar\":{\"outlinewidth\":0,\"ticks\":\"\"}},\"type\":\"scattercarpet\"}],\"scattergeo\":[{\"marker\":{\"colorbar\":{\"outlinewidth\":0,\"ticks\":\"\"}},\"type\":\"scattergeo\"}],\"scattergl\":[{\"marker\":{\"colorbar\":{\"outlinewidth\":0,\"ticks\":\"\"}},\"type\":\"scattergl\"}],\"scattermapbox\":[{\"marker\":{\"colorbar\":{\"outlinewidth\":0,\"ticks\":\"\"}},\"type\":\"scattermapbox\"}],\"scatterpolar\":[{\"marker\":{\"colorbar\":{\"outlinewidth\":0,\"ticks\":\"\"}},\"type\":\"scatterpolar\"}],\"scatterpolargl\":[{\"marker\":{\"colorbar\":{\"outlinewidth\":0,\"ticks\":\"\"}},\"type\":\"scatterpolargl\"}],\"scatterternary\":[{\"marker\":{\"colorbar\":{\"outlinewidth\":0,\"ticks\":\"\"}},\"type\":\"scatterternary\"}],\"surface\":[{\"colorbar\":{\"outlinewidth\":0,\"ticks\":\"\"},\"colorscale\":[[0.0,\"#0d0887\"],[0.1111111111111111,\"#46039f\"],[0.2222222222222222,\"#7201a8\"],[0.3333333333333333,\"#9c179e\"],[0.4444444444444444,\"#bd3786\"],[0.5555555555555556,\"#d8576b\"],[0.6666666666666666,\"#ed7953\"],[0.7777777777777778,\"#fb9f3a\"],[0.8888888888888888,\"#fdca26\"],[1.0,\"#f0f921\"]],\"type\":\"surface\"}],\"table\":[{\"cells\":{\"fill\":{\"color\":\"#EBF0F8\"},\"line\":{\"color\":\"white\"}},\"header\":{\"fill\":{\"color\":\"#C8D4E3\"},\"line\":{\"color\":\"white\"}},\"type\":\"table\"}]},\"layout\":{\"annotationdefaults\":{\"arrowcolor\":\"#2a3f5f\",\"arrowhead\":0,\"arrowwidth\":1},\"autotypenumbers\":\"strict\",\"coloraxis\":{\"colorbar\":{\"outlinewidth\":0,\"ticks\":\"\"}},\"colorscale\":{\"diverging\":[[0,\"#8e0152\"],[0.1,\"#c51b7d\"],[0.2,\"#de77ae\"],[0.3,\"#f1b6da\"],[0.4,\"#fde0ef\"],[0.5,\"#f7f7f7\"],[0.6,\"#e6f5d0\"],[0.7,\"#b8e186\"],[0.8,\"#7fbc41\"],[0.9,\"#4d9221\"],[1,\"#276419\"]],\"sequential\":[[0.0,\"#0d0887\"],[0.1111111111111111,\"#46039f\"],[0.2222222222222222,\"#7201a8\"],[0.3333333333333333,\"#9c179e\"],[0.4444444444444444,\"#bd3786\"],[0.5555555555555556,\"#d8576b\"],[0.6666666666666666,\"#ed7953\"],[0.7777777777777778,\"#fb9f3a\"],[0.8888888888888888,\"#fdca26\"],[1.0,\"#f0f921\"]],\"sequentialminus\":[[0.0,\"#0d0887\"],[0.1111111111111111,\"#46039f\"],[0.2222222222222222,\"#7201a8\"],[0.3333333333333333,\"#9c179e\"],[0.4444444444444444,\"#bd3786\"],[0.5555555555555556,\"#d8576b\"],[0.6666666666666666,\"#ed7953\"],[0.7777777777777778,\"#fb9f3a\"],[0.8888888888888888,\"#fdca26\"],[1.0,\"#f0f921\"]]},\"colorway\":[\"#636efa\",\"#EF553B\",\"#00cc96\",\"#ab63fa\",\"#FFA15A\",\"#19d3f3\",\"#FF6692\",\"#B6E880\",\"#FF97FF\",\"#FECB52\"],\"font\":{\"color\":\"#2a3f5f\"},\"geo\":{\"bgcolor\":\"white\",\"lakecolor\":\"white\",\"landcolor\":\"#E5ECF6\",\"showlakes\":true,\"showland\":true,\"subunitcolor\":\"white\"},\"hoverlabel\":{\"align\":\"left\"},\"hovermode\":\"closest\",\"mapbox\":{\"style\":\"light\"},\"paper_bgcolor\":\"white\",\"plot_bgcolor\":\"#E5ECF6\",\"polar\":{\"angularaxis\":{\"gridcolor\":\"white\",\"linecolor\":\"white\",\"ticks\":\"\"},\"bgcolor\":\"#E5ECF6\",\"radialaxis\":{\"gridcolor\":\"white\",\"linecolor\":\"white\",\"ticks\":\"\"}},\"scene\":{\"xaxis\":{\"backgroundcolor\":\"#E5ECF6\",\"gridcolor\":\"white\",\"gridwidth\":2,\"linecolor\":\"white\",\"showbackground\":true,\"ticks\":\"\",\"zerolinecolor\":\"white\"},\"yaxis\":{\"backgroundcolor\":\"#E5ECF6\",\"gridcolor\":\"white\",\"gridwidth\":2,\"linecolor\":\"white\",\"showbackground\":true,\"ticks\":\"\",\"zerolinecolor\":\"white\"},\"zaxis\":{\"backgroundcolor\":\"#E5ECF6\",\"gridcolor\":\"white\",\"gridwidth\":2,\"linecolor\":\"white\",\"showbackground\":true,\"ticks\":\"\",\"zerolinecolor\":\"white\"}},\"shapedefaults\":{\"line\":{\"color\":\"#2a3f5f\"}},\"ternary\":{\"aaxis\":{\"gridcolor\":\"white\",\"linecolor\":\"white\",\"ticks\":\"\"},\"baxis\":{\"gridcolor\":\"white\",\"linecolor\":\"white\",\"ticks\":\"\"},\"bgcolor\":\"#E5ECF6\",\"caxis\":{\"gridcolor\":\"white\",\"linecolor\":\"white\",\"ticks\":\"\"}},\"title\":{\"x\":0.05},\"xaxis\":{\"automargin\":true,\"gridcolor\":\"white\",\"linecolor\":\"white\",\"ticks\":\"\",\"title\":{\"standoff\":15},\"zerolinecolor\":\"white\",\"zerolinewidth\":2},\"yaxis\":{\"automargin\":true,\"gridcolor\":\"white\",\"linecolor\":\"white\",\"ticks\":\"\",\"title\":{\"standoff\":15},\"zerolinecolor\":\"white\",\"zerolinewidth\":2}}},\"xaxis\":{\"anchor\":\"y\",\"domain\":[0.0,1.0],\"title\":{\"text\":\"Dimension 1\"},\"showgrid\":true,\"gridwidth\":1,\"gridcolor\":\"lightgrey\",\"zeroline\":true,\"zerolinewidth\":1,\"zerolinecolor\":\"lightgrey\",\"showline\":true,\"linewidth\":1,\"linecolor\":\"black\"},\"yaxis\":{\"anchor\":\"x\",\"domain\":[0.0,1.0],\"title\":{\"text\":\"Dimension 2\"},\"showgrid\":true,\"gridwidth\":1,\"gridcolor\":\"lightgrey\",\"zeroline\":true,\"zerolinewidth\":1,\"zerolinecolor\":\"lightgrey\",\"showline\":true,\"linewidth\":1,\"linecolor\":\"black\"},\"legend\":{\"title\":{\"text\":\"color\"},\"tracegroupgap\":0},\"margin\":{\"t\":60},\"plot_bgcolor\":\"white\",\"title\":{\"text\":\"t-SNE\"}},                        {\"responsive\": true}                    ).then(function(){\n",
              "                            \n",
              "var gd = document.getElementById('b1fa672b-2cb6-40d8-bf4b-93efa74970ed');\n",
              "var x = new MutationObserver(function (mutations, observer) {{\n",
              "        var display = window.getComputedStyle(gd).display;\n",
              "        if (!display || display === 'none') {{\n",
              "            console.log([gd, 'removed!']);\n",
              "            Plotly.purge(gd);\n",
              "            observer.disconnect();\n",
              "        }}\n",
              "}});\n",
              "\n",
              "// Listen for the removal of the full notebook cells\n",
              "var notebookContainer = gd.closest('#notebook-container');\n",
              "if (notebookContainer) {{\n",
              "    x.observe(notebookContainer, {childList: true});\n",
              "}}\n",
              "\n",
              "// Listen for the clearing of the current output cell\n",
              "var outputEl = gd.closest('.output');\n",
              "if (outputEl) {{\n",
              "    x.observe(outputEl, {childList: true});\n",
              "}}\n",
              "\n",
              "                        })                };                            </script>        </div>\n",
              "</body>\n",
              "</html>"
            ]
          },
          "metadata": {}
        }
      ]
    }
  ]
}